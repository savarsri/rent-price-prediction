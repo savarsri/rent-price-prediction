{
  "nbformat": 4,
  "nbformat_minor": 0,
  "metadata": {
    "colab": {
      "provenance": []
    },
    "kernelspec": {
      "name": "python3",
      "display_name": "Python 3"
    },
    "language_info": {
      "name": "python"
    }
  },
  "cells": [
    {
      "cell_type": "code",
      "execution_count": 77,
      "metadata": {
        "id": "2IPTBtsyxhPf"
      },
      "outputs": [],
      "source": [
        "import numpy as np\n",
        "import pandas as pd\n",
        "from matplotlib import pyplot as plt\n",
        "import seaborn as sns\n",
        "from sklearn.model_selection import train_test_split\n",
        "from sklearn.preprocessing import OneHotEncoder\n",
        "from sklearn.linear_model import LinearRegression,Lasso,Ridge\n",
        "from sklearn.metrics import r2_score,mean_absolute_error\n",
        "from sklearn.neighbors import KNeighborsRegressor\n",
        "from sklearn.svm import SVR\n",
        "from sklearn.ensemble import AdaBoostRegressor\n",
        "from sklearn.tree import DecisionTreeRegressor\n",
        "from sklearn.ensemble import RandomForestRegressor\n",
        "from sklearn.metrics import mean_squared_error"
      ]
    },
    {
      "cell_type": "code",
      "source": [
        "df = pd.read_csv(\"/content/rent.csv\")"
      ],
      "metadata": {
        "id": "X-u1-aCDzDGT"
      },
      "execution_count": 78,
      "outputs": []
    },
    {
      "cell_type": "code",
      "source": [
        "df.head()"
      ],
      "metadata": {
        "colab": {
          "base_uri": "https://localhost:8080/",
          "height": 206
        },
        "id": "wTCCDPDXzesP",
        "outputId": "69e3a28a-8760-4726-c1f3-f2bfa234ea19"
      },
      "execution_count": 79,
      "outputs": [
        {
          "output_type": "execute_result",
          "data": {
            "text/plain": [
              "                     title   price  area          location          status\n",
              "0          1 BHK Apartment  11,000   567     Dhanori, Pune     Unfurnished\n",
              "1    1 RK Studio Apartment   5,000   300  MAE Campus, Pune       Furnished\n",
              "2          2 BHK Apartment  19,000  1020       Warje, Pune     Unfurnished\n",
              "3  1 BHK Independent Floor   5,500   500    Lohegaon, Pune  Semi-Furnished\n",
              "4  2 BHK Independent Floor  14,999   950    Lohegaon, Pune     Unfurnished"
            ],
            "text/html": [
              "\n",
              "  <div id=\"df-613f7ff0-0b53-4fef-98e8-a654b6c89612\" class=\"colab-df-container\">\n",
              "    <div>\n",
              "<style scoped>\n",
              "    .dataframe tbody tr th:only-of-type {\n",
              "        vertical-align: middle;\n",
              "    }\n",
              "\n",
              "    .dataframe tbody tr th {\n",
              "        vertical-align: top;\n",
              "    }\n",
              "\n",
              "    .dataframe thead th {\n",
              "        text-align: right;\n",
              "    }\n",
              "</style>\n",
              "<table border=\"1\" class=\"dataframe\">\n",
              "  <thead>\n",
              "    <tr style=\"text-align: right;\">\n",
              "      <th></th>\n",
              "      <th>title</th>\n",
              "      <th>price</th>\n",
              "      <th>area</th>\n",
              "      <th>location</th>\n",
              "      <th>status</th>\n",
              "    </tr>\n",
              "  </thead>\n",
              "  <tbody>\n",
              "    <tr>\n",
              "      <th>0</th>\n",
              "      <td>1 BHK Apartment</td>\n",
              "      <td>11,000</td>\n",
              "      <td>567</td>\n",
              "      <td>Dhanori, Pune</td>\n",
              "      <td>Unfurnished</td>\n",
              "    </tr>\n",
              "    <tr>\n",
              "      <th>1</th>\n",
              "      <td>1 RK Studio Apartment</td>\n",
              "      <td>5,000</td>\n",
              "      <td>300</td>\n",
              "      <td>MAE Campus, Pune</td>\n",
              "      <td>Furnished</td>\n",
              "    </tr>\n",
              "    <tr>\n",
              "      <th>2</th>\n",
              "      <td>2 BHK Apartment</td>\n",
              "      <td>19,000</td>\n",
              "      <td>1020</td>\n",
              "      <td>Warje, Pune</td>\n",
              "      <td>Unfurnished</td>\n",
              "    </tr>\n",
              "    <tr>\n",
              "      <th>3</th>\n",
              "      <td>1 BHK Independent Floor</td>\n",
              "      <td>5,500</td>\n",
              "      <td>500</td>\n",
              "      <td>Lohegaon, Pune</td>\n",
              "      <td>Semi-Furnished</td>\n",
              "    </tr>\n",
              "    <tr>\n",
              "      <th>4</th>\n",
              "      <td>2 BHK Independent Floor</td>\n",
              "      <td>14,999</td>\n",
              "      <td>950</td>\n",
              "      <td>Lohegaon, Pune</td>\n",
              "      <td>Unfurnished</td>\n",
              "    </tr>\n",
              "  </tbody>\n",
              "</table>\n",
              "</div>\n",
              "    <div class=\"colab-df-buttons\">\n",
              "\n",
              "  <div class=\"colab-df-container\">\n",
              "    <button class=\"colab-df-convert\" onclick=\"convertToInteractive('df-613f7ff0-0b53-4fef-98e8-a654b6c89612')\"\n",
              "            title=\"Convert this dataframe to an interactive table.\"\n",
              "            style=\"display:none;\">\n",
              "\n",
              "  <svg xmlns=\"http://www.w3.org/2000/svg\" height=\"24px\" viewBox=\"0 -960 960 960\">\n",
              "    <path d=\"M120-120v-720h720v720H120Zm60-500h600v-160H180v160Zm220 220h160v-160H400v160Zm0 220h160v-160H400v160ZM180-400h160v-160H180v160Zm440 0h160v-160H620v160ZM180-180h160v-160H180v160Zm440 0h160v-160H620v160Z\"/>\n",
              "  </svg>\n",
              "    </button>\n",
              "\n",
              "  <style>\n",
              "    .colab-df-container {\n",
              "      display:flex;\n",
              "      gap: 12px;\n",
              "    }\n",
              "\n",
              "    .colab-df-convert {\n",
              "      background-color: #E8F0FE;\n",
              "      border: none;\n",
              "      border-radius: 50%;\n",
              "      cursor: pointer;\n",
              "      display: none;\n",
              "      fill: #1967D2;\n",
              "      height: 32px;\n",
              "      padding: 0 0 0 0;\n",
              "      width: 32px;\n",
              "    }\n",
              "\n",
              "    .colab-df-convert:hover {\n",
              "      background-color: #E2EBFA;\n",
              "      box-shadow: 0px 1px 2px rgba(60, 64, 67, 0.3), 0px 1px 3px 1px rgba(60, 64, 67, 0.15);\n",
              "      fill: #174EA6;\n",
              "    }\n",
              "\n",
              "    .colab-df-buttons div {\n",
              "      margin-bottom: 4px;\n",
              "    }\n",
              "\n",
              "    [theme=dark] .colab-df-convert {\n",
              "      background-color: #3B4455;\n",
              "      fill: #D2E3FC;\n",
              "    }\n",
              "\n",
              "    [theme=dark] .colab-df-convert:hover {\n",
              "      background-color: #434B5C;\n",
              "      box-shadow: 0px 1px 3px 1px rgba(0, 0, 0, 0.15);\n",
              "      filter: drop-shadow(0px 1px 2px rgba(0, 0, 0, 0.3));\n",
              "      fill: #FFFFFF;\n",
              "    }\n",
              "  </style>\n",
              "\n",
              "    <script>\n",
              "      const buttonEl =\n",
              "        document.querySelector('#df-613f7ff0-0b53-4fef-98e8-a654b6c89612 button.colab-df-convert');\n",
              "      buttonEl.style.display =\n",
              "        google.colab.kernel.accessAllowed ? 'block' : 'none';\n",
              "\n",
              "      async function convertToInteractive(key) {\n",
              "        const element = document.querySelector('#df-613f7ff0-0b53-4fef-98e8-a654b6c89612');\n",
              "        const dataTable =\n",
              "          await google.colab.kernel.invokeFunction('convertToInteractive',\n",
              "                                                    [key], {});\n",
              "        if (!dataTable) return;\n",
              "\n",
              "        const docLinkHtml = 'Like what you see? Visit the ' +\n",
              "          '<a target=\"_blank\" href=https://colab.research.google.com/notebooks/data_table.ipynb>data table notebook</a>'\n",
              "          + ' to learn more about interactive tables.';\n",
              "        element.innerHTML = '';\n",
              "        dataTable['output_type'] = 'display_data';\n",
              "        await google.colab.output.renderOutput(dataTable, element);\n",
              "        const docLink = document.createElement('div');\n",
              "        docLink.innerHTML = docLinkHtml;\n",
              "        element.appendChild(docLink);\n",
              "      }\n",
              "    </script>\n",
              "  </div>\n",
              "\n",
              "\n",
              "<div id=\"df-ecdaa773-62cf-4082-afcb-b7a8d2f67f1c\">\n",
              "  <button class=\"colab-df-quickchart\" onclick=\"quickchart('df-ecdaa773-62cf-4082-afcb-b7a8d2f67f1c')\"\n",
              "            title=\"Suggest charts\"\n",
              "            style=\"display:none;\">\n",
              "\n",
              "<svg xmlns=\"http://www.w3.org/2000/svg\" height=\"24px\"viewBox=\"0 0 24 24\"\n",
              "     width=\"24px\">\n",
              "    <g>\n",
              "        <path d=\"M19 3H5c-1.1 0-2 .9-2 2v14c0 1.1.9 2 2 2h14c1.1 0 2-.9 2-2V5c0-1.1-.9-2-2-2zM9 17H7v-7h2v7zm4 0h-2V7h2v10zm4 0h-2v-4h2v4z\"/>\n",
              "    </g>\n",
              "</svg>\n",
              "  </button>\n",
              "\n",
              "<style>\n",
              "  .colab-df-quickchart {\n",
              "      --bg-color: #E8F0FE;\n",
              "      --fill-color: #1967D2;\n",
              "      --hover-bg-color: #E2EBFA;\n",
              "      --hover-fill-color: #174EA6;\n",
              "      --disabled-fill-color: #AAA;\n",
              "      --disabled-bg-color: #DDD;\n",
              "  }\n",
              "\n",
              "  [theme=dark] .colab-df-quickchart {\n",
              "      --bg-color: #3B4455;\n",
              "      --fill-color: #D2E3FC;\n",
              "      --hover-bg-color: #434B5C;\n",
              "      --hover-fill-color: #FFFFFF;\n",
              "      --disabled-bg-color: #3B4455;\n",
              "      --disabled-fill-color: #666;\n",
              "  }\n",
              "\n",
              "  .colab-df-quickchart {\n",
              "    background-color: var(--bg-color);\n",
              "    border: none;\n",
              "    border-radius: 50%;\n",
              "    cursor: pointer;\n",
              "    display: none;\n",
              "    fill: var(--fill-color);\n",
              "    height: 32px;\n",
              "    padding: 0;\n",
              "    width: 32px;\n",
              "  }\n",
              "\n",
              "  .colab-df-quickchart:hover {\n",
              "    background-color: var(--hover-bg-color);\n",
              "    box-shadow: 0 1px 2px rgba(60, 64, 67, 0.3), 0 1px 3px 1px rgba(60, 64, 67, 0.15);\n",
              "    fill: var(--button-hover-fill-color);\n",
              "  }\n",
              "\n",
              "  .colab-df-quickchart-complete:disabled,\n",
              "  .colab-df-quickchart-complete:disabled:hover {\n",
              "    background-color: var(--disabled-bg-color);\n",
              "    fill: var(--disabled-fill-color);\n",
              "    box-shadow: none;\n",
              "  }\n",
              "\n",
              "  .colab-df-spinner {\n",
              "    border: 2px solid var(--fill-color);\n",
              "    border-color: transparent;\n",
              "    border-bottom-color: var(--fill-color);\n",
              "    animation:\n",
              "      spin 1s steps(1) infinite;\n",
              "  }\n",
              "\n",
              "  @keyframes spin {\n",
              "    0% {\n",
              "      border-color: transparent;\n",
              "      border-bottom-color: var(--fill-color);\n",
              "      border-left-color: var(--fill-color);\n",
              "    }\n",
              "    20% {\n",
              "      border-color: transparent;\n",
              "      border-left-color: var(--fill-color);\n",
              "      border-top-color: var(--fill-color);\n",
              "    }\n",
              "    30% {\n",
              "      border-color: transparent;\n",
              "      border-left-color: var(--fill-color);\n",
              "      border-top-color: var(--fill-color);\n",
              "      border-right-color: var(--fill-color);\n",
              "    }\n",
              "    40% {\n",
              "      border-color: transparent;\n",
              "      border-right-color: var(--fill-color);\n",
              "      border-top-color: var(--fill-color);\n",
              "    }\n",
              "    60% {\n",
              "      border-color: transparent;\n",
              "      border-right-color: var(--fill-color);\n",
              "    }\n",
              "    80% {\n",
              "      border-color: transparent;\n",
              "      border-right-color: var(--fill-color);\n",
              "      border-bottom-color: var(--fill-color);\n",
              "    }\n",
              "    90% {\n",
              "      border-color: transparent;\n",
              "      border-bottom-color: var(--fill-color);\n",
              "    }\n",
              "  }\n",
              "</style>\n",
              "\n",
              "  <script>\n",
              "    async function quickchart(key) {\n",
              "      const quickchartButtonEl =\n",
              "        document.querySelector('#' + key + ' button');\n",
              "      quickchartButtonEl.disabled = true;  // To prevent multiple clicks.\n",
              "      quickchartButtonEl.classList.add('colab-df-spinner');\n",
              "      try {\n",
              "        const charts = await google.colab.kernel.invokeFunction(\n",
              "            'suggestCharts', [key], {});\n",
              "      } catch (error) {\n",
              "        console.error('Error during call to suggestCharts:', error);\n",
              "      }\n",
              "      quickchartButtonEl.classList.remove('colab-df-spinner');\n",
              "      quickchartButtonEl.classList.add('colab-df-quickchart-complete');\n",
              "    }\n",
              "    (() => {\n",
              "      let quickchartButtonEl =\n",
              "        document.querySelector('#df-ecdaa773-62cf-4082-afcb-b7a8d2f67f1c button');\n",
              "      quickchartButtonEl.style.display =\n",
              "        google.colab.kernel.accessAllowed ? 'block' : 'none';\n",
              "    })();\n",
              "  </script>\n",
              "</div>\n",
              "\n",
              "    </div>\n",
              "  </div>\n"
            ],
            "application/vnd.google.colaboratory.intrinsic+json": {
              "type": "dataframe",
              "variable_name": "df",
              "summary": "{\n  \"name\": \"df\",\n  \"rows\": 15985,\n  \"fields\": [\n    {\n      \"column\": \"title\",\n      \"properties\": {\n        \"dtype\": \"category\",\n        \"num_unique_values\": 4420,\n        \"samples\": [\n          \"1 BHK Apartment in Shree Swetayan Smruti\",\n          \"5 BHK Apartment in Amanora Adreno Towers\",\n          \"1 BHK Apartment in RK Majestic\"\n        ],\n        \"semantic_type\": \"\",\n        \"description\": \"\"\n      }\n    },\n    {\n      \"column\": \"price\",\n      \"properties\": {\n        \"dtype\": \"category\",\n        \"num_unique_values\": 508,\n        \"samples\": [\n          \"16,500\",\n          \"34,900\",\n          \"9,200\"\n        ],\n        \"semantic_type\": \"\",\n        \"description\": \"\"\n      }\n    },\n    {\n      \"column\": \"area\",\n      \"properties\": {\n        \"dtype\": \"number\",\n        \"std\": 582,\n        \"min\": 150,\n        \"max\": 9600,\n        \"num_unique_values\": 1040,\n        \"samples\": [\n          1805,\n          1098,\n          1358\n        ],\n        \"semantic_type\": \"\",\n        \"description\": \"\"\n      }\n    },\n    {\n      \"column\": \"location\",\n      \"properties\": {\n        \"dtype\": \"category\",\n        \"num_unique_values\": 302,\n        \"samples\": [\n          \"Fursungi Gaon, Pune\",\n          \"BT Kawde, Pune\",\n          \"Mulshi, Pune\"\n        ],\n        \"semantic_type\": \"\",\n        \"description\": \"\"\n      }\n    },\n    {\n      \"column\": \"status\",\n      \"properties\": {\n        \"dtype\": \"category\",\n        \"num_unique_values\": 3,\n        \"samples\": [\n          \"Unfurnished\",\n          \"Furnished\",\n          \"Semi-Furnished\"\n        ],\n        \"semantic_type\": \"\",\n        \"description\": \"\"\n      }\n    }\n  ]\n}"
            }
          },
          "metadata": {},
          "execution_count": 79
        }
      ]
    },
    {
      "source": [
        "# @title status\n",
        "\n",
        "from matplotlib import pyplot as plt\n",
        "import seaborn as sns\n",
        "df.groupby('status').size().plot(kind='barh', color=sns.palettes.mpl_palette('Dark2'))\n",
        "plt.gca().spines[['top', 'right',]].set_visible(False)"
      ],
      "cell_type": "code",
      "execution_count": 80,
      "outputs": [
        {
          "output_type": "display_data",
          "data": {
            "text/plain": [
              "<Figure size 640x480 with 1 Axes>"
            ],
            "image/png": "[encoded data removed]"
          },
          "metadata": {}
        }
      ],
      "metadata": {
        "colab": {
          "base_uri": "https://localhost:8080/",
          "height": 430
        },
        "id": "FtrVyAla1Fxy",
        "outputId": "d03638e2-5a70-49c1-c53e-6842ce1a8702"
      }
    },
    {
      "cell_type": "code",
      "source": [
        "df.info()"
      ],
      "metadata": {
        "colab": {
          "base_uri": "https://localhost:8080/"
        },
        "id": "mB9pTB2OzgK5",
        "outputId": "be848042-cbaa-413a-b760-15e0a5a7eab1"
      },
      "execution_count": 81,
      "outputs": [
        {
          "output_type": "stream",
          "name": "stdout",
          "text": [
            "<class 'pandas.core.frame.DataFrame'>\n",
            "RangeIndex: 15985 entries, 0 to 15984\n",
            "Data columns (total 5 columns):\n",
            " #   Column    Non-Null Count  Dtype \n",
            "---  ------    --------------  ----- \n",
            " 0   title     15985 non-null  object\n",
            " 1   price     15985 non-null  object\n",
            " 2   area      15985 non-null  int64 \n",
            " 3   location  15985 non-null  object\n",
            " 4   status    15985 non-null  object\n",
            "dtypes: int64(1), object(4)\n",
            "memory usage: 624.5+ KB\n"
          ]
        }
      ]
    },
    {
      "cell_type": "code",
      "source": [
        "df.shape"
      ],
      "metadata": {
        "colab": {
          "base_uri": "https://localhost:8080/"
        },
        "id": "JBc5k3dKzhkJ",
        "outputId": "3d077b8c-418f-4435-f2f6-7d5f442c982d"
      },
      "execution_count": 82,
      "outputs": [
        {
          "output_type": "execute_result",
          "data": {
            "text/plain": [
              "(15985, 5)"
            ]
          },
          "metadata": {},
          "execution_count": 82
        }
      ]
    },
    {
      "cell_type": "code",
      "source": [
        "df['bedroom'] = df['title'].str.findall(r'([\\d.]+)').str[0].astype(float)\n",
        "print(df)"
      ],
      "metadata": {
        "colab": {
          "base_uri": "https://localhost:8080/"
        },
        "id": "a6lqc1JQzi-q",
        "outputId": "d73dd808-4927-49c9-89dd-5364d9cf6f6b"
      },
      "execution_count": 83,
      "outputs": [
        {
          "output_type": "stream",
          "name": "stdout",
          "text": [
            "                                                   title   price  area  \\\n",
            "0                                        1 BHK Apartment  11,000   567   \n",
            "1                                  1 RK Studio Apartment   5,000   300   \n",
            "2                                        2 BHK Apartment  19,000  1020   \n",
            "3                                1 BHK Independent Floor   5,500   500   \n",
            "4                                2 BHK Independent Floor  14,999   950   \n",
            "...                                                  ...     ...   ...   \n",
            "15980            2 BHK Apartment in Bansal Shiva Heights  20,000  1200   \n",
            "15981          3 BHK Apartment in Pride Purple Ruby Park  23,000  1500   \n",
            "15982  3 BHK Apartment in Pride Purple Park Express P...  27,000  1440   \n",
            "15983                   2 BHK Apartment in Vasant Avenue  17,500   900   \n",
            "15984          1 BHK Apartment in Tejas Poorva Residency  15,000   602   \n",
            "\n",
            "                    location          status  bedroom  \n",
            "0              Dhanori, Pune     Unfurnished      1.0  \n",
            "1           MAE Campus, Pune       Furnished      1.0  \n",
            "2                Warje, Pune     Unfurnished      2.0  \n",
            "3             Lohegaon, Pune  Semi-Furnished      1.0  \n",
            "4             Lohegaon, Pune     Unfurnished      2.0  \n",
            "...                      ...             ...      ...  \n",
            "15980  Pimple Saudagar, Pune       Furnished      2.0  \n",
            "15981            Wakad, Pune     Unfurnished      3.0  \n",
            "15982            Baner, Pune     Unfurnished      3.0  \n",
            "15983  Pimple Saudagar, Pune     Unfurnished      2.0  \n",
            "15984  Pimple Saudagar, Pune     Unfurnished      1.0  \n",
            "\n",
            "[15985 rows x 6 columns]\n"
          ]
        }
      ]
    },
    {
      "cell_type": "code",
      "source": [
        "df.head()"
      ],
      "metadata": {
        "colab": {
          "base_uri": "https://localhost:8080/",
          "height": 206
        },
        "id": "PSBeE8Dyzkkr",
        "outputId": "4e7dece4-087c-4898-f7d5-671fb8b24a41"
      },
      "execution_count": 84,
      "outputs": [
        {
          "output_type": "execute_result",
          "data": {
            "text/plain": [
              "                     title   price  area          location          status  \\\n",
              "0          1 BHK Apartment  11,000   567     Dhanori, Pune     Unfurnished   \n",
              "1    1 RK Studio Apartment   5,000   300  MAE Campus, Pune       Furnished   \n",
              "2          2 BHK Apartment  19,000  1020       Warje, Pune     Unfurnished   \n",
              "3  1 BHK Independent Floor   5,500   500    Lohegaon, Pune  Semi-Furnished   \n",
              "4  2 BHK Independent Floor  14,999   950    Lohegaon, Pune     Unfurnished   \n",
              "\n",
              "   bedroom  \n",
              "0      1.0  \n",
              "1      1.0  \n",
              "2      2.0  \n",
              "3      1.0  \n",
              "4      2.0  "
            ],
            "text/html": [
              "\n",
              "  <div id=\"df-6fb5a972-abd4-4e61-aed6-cfcaca1df4f1\" class=\"colab-df-container\">\n",
              "    <div>\n",
              "<style scoped>\n",
              "    .dataframe tbody tr th:only-of-type {\n",
              "        vertical-align: middle;\n",
              "    }\n",
              "\n",
              "    .dataframe tbody tr th {\n",
              "        vertical-align: top;\n",
              "    }\n",
              "\n",
              "    .dataframe thead th {\n",
              "        text-align: right;\n",
              "    }\n",
              "</style>\n",
              "<table border=\"1\" class=\"dataframe\">\n",
              "  <thead>\n",
              "    <tr style=\"text-align: right;\">\n",
              "      <th></th>\n",
              "      <th>title</th>\n",
              "      <th>price</th>\n",
              "      <th>area</th>\n",
              "      <th>location</th>\n",
              "      <th>status</th>\n",
              "      <th>bedroom</th>\n",
              "    </tr>\n",
              "  </thead>\n",
              "  <tbody>\n",
              "    <tr>\n",
              "      <th>0</th>\n",
              "      <td>1 BHK Apartment</td>\n",
              "      <td>11,000</td>\n",
              "      <td>567</td>\n",
              "      <td>Dhanori, Pune</td>\n",
              "      <td>Unfurnished</td>\n",
              "      <td>1.0</td>\n",
              "    </tr>\n",
              "    <tr>\n",
              "      <th>1</th>\n",
              "      <td>1 RK Studio Apartment</td>\n",
              "      <td>5,000</td>\n",
              "      <td>300</td>\n",
              "      <td>MAE Campus, Pune</td>\n",
              "      <td>Furnished</td>\n",
              "      <td>1.0</td>\n",
              "    </tr>\n",
              "    <tr>\n",
              "      <th>2</th>\n",
              "      <td>2 BHK Apartment</td>\n",
              "      <td>19,000</td>\n",
              "      <td>1020</td>\n",
              "      <td>Warje, Pune</td>\n",
              "      <td>Unfurnished</td>\n",
              "      <td>2.0</td>\n",
              "    </tr>\n",
              "    <tr>\n",
              "      <th>3</th>\n",
              "      <td>1 BHK Independent Floor</td>\n",
              "      <td>5,500</td>\n",
              "      <td>500</td>\n",
              "      <td>Lohegaon, Pune</td>\n",
              "      <td>Semi-Furnished</td>\n",
              "      <td>1.0</td>\n",
              "    </tr>\n",
              "    <tr>\n",
              "      <th>4</th>\n",
              "      <td>2 BHK Independent Floor</td>\n",
              "      <td>14,999</td>\n",
              "      <td>950</td>\n",
              "      <td>Lohegaon, Pune</td>\n",
              "      <td>Unfurnished</td>\n",
              "      <td>2.0</td>\n",
              "    </tr>\n",
              "  </tbody>\n",
              "</table>\n",
              "</div>\n",
              "    <div class=\"colab-df-buttons\">\n",
              "\n",
              "  <div class=\"colab-df-container\">\n",
              "    <button class=\"colab-df-convert\" onclick=\"convertToInteractive('df-6fb5a972-abd4-4e61-aed6-cfcaca1df4f1')\"\n",
              "            title=\"Convert this dataframe to an interactive table.\"\n",
              "            style=\"display:none;\">\n",
              "\n",
              "  <svg xmlns=\"http://www.w3.org/2000/svg\" height=\"24px\" viewBox=\"0 -960 960 960\">\n",
              "    <path d=\"M120-120v-720h720v720H120Zm60-500h600v-160H180v160Zm220 220h160v-160H400v160Zm0 220h160v-160H400v160ZM180-400h160v-160H180v160Zm440 0h160v-160H620v160ZM180-180h160v-160H180v160Zm440 0h160v-160H620v160Z\"/>\n",
              "  </svg>\n",
              "    </button>\n",
              "\n",
              "  <style>\n",
              "    .colab-df-container {\n",
              "      display:flex;\n",
              "      gap: 12px;\n",
              "    }\n",
              "\n",
              "    .colab-df-convert {\n",
              "      background-color: #E8F0FE;\n",
              "      border: none;\n",
              "      border-radius: 50%;\n",
              "      cursor: pointer;\n",
              "      display: none;\n",
              "      fill: #1967D2;\n",
              "      height: 32px;\n",
              "      padding: 0 0 0 0;\n",
              "      width: 32px;\n",
              "    }\n",
              "\n",
              "    .colab-df-convert:hover {\n",
              "      background-color: #E2EBFA;\n",
              "      box-shadow: 0px 1px 2px rgba(60, 64, 67, 0.3), 0px 1px 3px 1px rgba(60, 64, 67, 0.15);\n",
              "      fill: #174EA6;\n",
              "    }\n",
              "\n",
              "    .colab-df-buttons div {\n",
              "      margin-bottom: 4px;\n",
              "    }\n",
              "\n",
              "    [theme=dark] .colab-df-convert {\n",
              "      background-color: #3B4455;\n",
              "      fill: #D2E3FC;\n",
              "    }\n",
              "\n",
              "    [theme=dark] .colab-df-convert:hover {\n",
              "      background-color: #434B5C;\n",
              "      box-shadow: 0px 1px 3px 1px rgba(0, 0, 0, 0.15);\n",
              "      filter: drop-shadow(0px 1px 2px rgba(0, 0, 0, 0.3));\n",
              "      fill: #FFFFFF;\n",
              "    }\n",
              "  </style>\n",
              "\n",
              "    <script>\n",
              "      const buttonEl =\n",
              "        document.querySelector('#df-6fb5a972-abd4-4e61-aed6-cfcaca1df4f1 button.colab-df-convert');\n",
              "      buttonEl.style.display =\n",
              "        google.colab.kernel.accessAllowed ? 'block' : 'none';\n",
              "\n",
              "      async function convertToInteractive(key) {\n",
              "        const element = document.querySelector('#df-6fb5a972-abd4-4e61-aed6-cfcaca1df4f1');\n",
              "        const dataTable =\n",
              "          await google.colab.kernel.invokeFunction('convertToInteractive',\n",
              "                                                    [key], {});\n",
              "        if (!dataTable) return;\n",
              "\n",
              "        const docLinkHtml = 'Like what you see? Visit the ' +\n",
              "          '<a target=\"_blank\" href=https://colab.research.google.com/notebooks/data_table.ipynb>data table notebook</a>'\n",
              "          + ' to learn more about interactive tables.';\n",
              "        element.innerHTML = '';\n",
              "        dataTable['output_type'] = 'display_data';\n",
              "        await google.colab.output.renderOutput(dataTable, element);\n",
              "        const docLink = document.createElement('div');\n",
              "        docLink.innerHTML = docLinkHtml;\n",
              "        element.appendChild(docLink);\n",
              "      }\n",
              "    </script>\n",
              "  </div>\n",
              "\n",
              "\n",
              "<div id=\"df-486c0f96-4d63-410e-a4dd-1fbf998112b4\">\n",
              "  <button class=\"colab-df-quickchart\" onclick=\"quickchart('df-486c0f96-4d63-410e-a4dd-1fbf998112b4')\"\n",
              "            title=\"Suggest charts\"\n",
              "            style=\"display:none;\">\n",
              "\n",
              "<svg xmlns=\"http://www.w3.org/2000/svg\" height=\"24px\"viewBox=\"0 0 24 24\"\n",
              "     width=\"24px\">\n",
              "    <g>\n",
              "        <path d=\"M19 3H5c-1.1 0-2 .9-2 2v14c0 1.1.9 2 2 2h14c1.1 0 2-.9 2-2V5c0-1.1-.9-2-2-2zM9 17H7v-7h2v7zm4 0h-2V7h2v10zm4 0h-2v-4h2v4z\"/>\n",
              "    </g>\n",
              "</svg>\n",
              "  </button>\n",
              "\n",
              "<style>\n",
              "  .colab-df-quickchart {\n",
              "      --bg-color: #E8F0FE;\n",
              "      --fill-color: #1967D2;\n",
              "      --hover-bg-color: #E2EBFA;\n",
              "      --hover-fill-color: #174EA6;\n",
              "      --disabled-fill-color: #AAA;\n",
              "      --disabled-bg-color: #DDD;\n",
              "  }\n",
              "\n",
              "  [theme=dark] .colab-df-quickchart {\n",
              "      --bg-color: #3B4455;\n",
              "      --fill-color: #D2E3FC;\n",
              "      --hover-bg-color: #434B5C;\n",
              "      --hover-fill-color: #FFFFFF;\n",
              "      --disabled-bg-color: #3B4455;\n",
              "      --disabled-fill-color: #666;\n",
              "  }\n",
              "\n",
              "  .colab-df-quickchart {\n",
              "    background-color: var(--bg-color);\n",
              "    border: none;\n",
              "    border-radius: 50%;\n",
              "    cursor: pointer;\n",
              "    display: none;\n",
              "    fill: var(--fill-color);\n",
              "    height: 32px;\n",
              "    padding: 0;\n",
              "    width: 32px;\n",
              "  }\n",
              "\n",
              "  .colab-df-quickchart:hover {\n",
              "    background-color: var(--hover-bg-color);\n",
              "    box-shadow: 0 1px 2px rgba(60, 64, 67, 0.3), 0 1px 3px 1px rgba(60, 64, 67, 0.15);\n",
              "    fill: var(--button-hover-fill-color);\n",
              "  }\n",
              "\n",
              "  .colab-df-quickchart-complete:disabled,\n",
              "  .colab-df-quickchart-complete:disabled:hover {\n",
              "    background-color: var(--disabled-bg-color);\n",
              "    fill: var(--disabled-fill-color);\n",
              "    box-shadow: none;\n",
              "  }\n",
              "\n",
              "  .colab-df-spinner {\n",
              "    border: 2px solid var(--fill-color);\n",
              "    border-color: transparent;\n",
              "    border-bottom-color: var(--fill-color);\n",
              "    animation:\n",
              "      spin 1s steps(1) infinite;\n",
              "  }\n",
              "\n",
              "  @keyframes spin {\n",
              "    0% {\n",
              "      border-color: transparent;\n",
              "      border-bottom-color: var(--fill-color);\n",
              "      border-left-color: var(--fill-color);\n",
              "    }\n",
              "    20% {\n",
              "      border-color: transparent;\n",
              "      border-left-color: var(--fill-color);\n",
              "      border-top-color: var(--fill-color);\n",
              "    }\n",
              "    30% {\n",
              "      border-color: transparent;\n",
              "      border-left-color: var(--fill-color);\n",
              "      border-top-color: var(--fill-color);\n",
              "      border-right-color: var(--fill-color);\n",
              "    }\n",
              "    40% {\n",
              "      border-color: transparent;\n",
              "      border-right-color: var(--fill-color);\n",
              "      border-top-color: var(--fill-color);\n",
              "    }\n",
              "    60% {\n",
              "      border-color: transparent;\n",
              "      border-right-color: var(--fill-color);\n",
              "    }\n",
              "    80% {\n",
              "      border-color: transparent;\n",
              "      border-right-color: var(--fill-color);\n",
              "      border-bottom-color: var(--fill-color);\n",
              "    }\n",
              "    90% {\n",
              "      border-color: transparent;\n",
              "      border-bottom-color: var(--fill-color);\n",
              "    }\n",
              "  }\n",
              "</style>\n",
              "\n",
              "  <script>\n",
              "    async function quickchart(key) {\n",
              "      const quickchartButtonEl =\n",
              "        document.querySelector('#' + key + ' button');\n",
              "      quickchartButtonEl.disabled = true;  // To prevent multiple clicks.\n",
              "      quickchartButtonEl.classList.add('colab-df-spinner');\n",
              "      try {\n",
              "        const charts = await google.colab.kernel.invokeFunction(\n",
              "            'suggestCharts', [key], {});\n",
              "      } catch (error) {\n",
              "        console.error('Error during call to suggestCharts:', error);\n",
              "      }\n",
              "      quickchartButtonEl.classList.remove('colab-df-spinner');\n",
              "      quickchartButtonEl.classList.add('colab-df-quickchart-complete');\n",
              "    }\n",
              "    (() => {\n",
              "      let quickchartButtonEl =\n",
              "        document.querySelector('#df-486c0f96-4d63-410e-a4dd-1fbf998112b4 button');\n",
              "      quickchartButtonEl.style.display =\n",
              "        google.colab.kernel.accessAllowed ? 'block' : 'none';\n",
              "    })();\n",
              "  </script>\n",
              "</div>\n",
              "\n",
              "    </div>\n",
              "  </div>\n"
            ],
            "application/vnd.google.colaboratory.intrinsic+json": {
              "type": "dataframe",
              "variable_name": "df",
              "summary": "{\n  \"name\": \"df\",\n  \"rows\": 15985,\n  \"fields\": [\n    {\n      \"column\": \"title\",\n      \"properties\": {\n        \"dtype\": \"category\",\n        \"num_unique_values\": 4420,\n        \"samples\": [\n          \"1 BHK Apartment in Shree Swetayan Smruti\",\n          \"5 BHK Apartment in Amanora Adreno Towers\",\n          \"1 BHK Apartment in RK Majestic\"\n        ],\n        \"semantic_type\": \"\",\n        \"description\": \"\"\n      }\n    },\n    {\n      \"column\": \"price\",\n      \"properties\": {\n        \"dtype\": \"category\",\n        \"num_unique_values\": 508,\n        \"samples\": [\n          \"16,500\",\n          \"34,900\",\n          \"9,200\"\n        ],\n        \"semantic_type\": \"\",\n        \"description\": \"\"\n      }\n    },\n    {\n      \"column\": \"area\",\n      \"properties\": {\n        \"dtype\": \"number\",\n        \"std\": 582,\n        \"min\": 150,\n        \"max\": 9600,\n        \"num_unique_values\": 1040,\n        \"samples\": [\n          1805,\n          1098,\n          1358\n        ],\n        \"semantic_type\": \"\",\n        \"description\": \"\"\n      }\n    },\n    {\n      \"column\": \"location\",\n      \"properties\": {\n        \"dtype\": \"category\",\n        \"num_unique_values\": 302,\n        \"samples\": [\n          \"Fursungi Gaon, Pune\",\n          \"BT Kawde, Pune\",\n          \"Mulshi, Pune\"\n        ],\n        \"semantic_type\": \"\",\n        \"description\": \"\"\n      }\n    },\n    {\n      \"column\": \"status\",\n      \"properties\": {\n        \"dtype\": \"category\",\n        \"num_unique_values\": 3,\n        \"samples\": [\n          \"Unfurnished\",\n          \"Furnished\",\n          \"Semi-Furnished\"\n        ],\n        \"semantic_type\": \"\",\n        \"description\": \"\"\n      }\n    },\n    {\n      \"column\": \"bedroom\",\n      \"properties\": {\n        \"dtype\": \"number\",\n        \"std\": 0.8021098549723201,\n        \"min\": 1.0,\n        \"max\": 14.0,\n        \"num_unique_values\": 9,\n        \"samples\": [\n          8.0,\n          2.0,\n          6.0\n        ],\n        \"semantic_type\": \"\",\n        \"description\": \"\"\n      }\n    }\n  ]\n}"
            }
          },
          "metadata": {},
          "execution_count": 84
        }
      ]
    },
    {
      "cell_type": "code",
      "source": [
        "df.isnull().sum()"
      ],
      "metadata": {
        "colab": {
          "base_uri": "https://localhost:8080/",
          "height": 272
        },
        "id": "Fxzt6Q9rzm0d",
        "outputId": "e378ce31-1500-4d00-c6fb-cdbdf7271899"
      },
      "execution_count": 85,
      "outputs": [
        {
          "output_type": "execute_result",
          "data": {
            "text/plain": [
              "title       0\n",
              "price       0\n",
              "area        0\n",
              "location    0\n",
              "status      0\n",
              "bedroom     0\n",
              "dtype: int64"
            ],
            "text/html": [
              "<div>\n",
              "<style scoped>\n",
              "    .dataframe tbody tr th:only-of-type {\n",
              "        vertical-align: middle;\n",
              "    }\n",
              "\n",
              "    .dataframe tbody tr th {\n",
              "        vertical-align: top;\n",
              "    }\n",
              "\n",
              "    .dataframe thead th {\n",
              "        text-align: right;\n",
              "    }\n",
              "</style>\n",
              "<table border=\"1\" class=\"dataframe\">\n",
              "  <thead>\n",
              "    <tr style=\"text-align: right;\">\n",
              "      <th></th>\n",
              "      <th>0</th>\n",
              "    </tr>\n",
              "  </thead>\n",
              "  <tbody>\n",
              "    <tr>\n",
              "      <th>title</th>\n",
              "      <td>0</td>\n",
              "    </tr>\n",
              "    <tr>\n",
              "      <th>price</th>\n",
              "      <td>0</td>\n",
              "    </tr>\n",
              "    <tr>\n",
              "      <th>area</th>\n",
              "      <td>0</td>\n",
              "    </tr>\n",
              "    <tr>\n",
              "      <th>location</th>\n",
              "      <td>0</td>\n",
              "    </tr>\n",
              "    <tr>\n",
              "      <th>status</th>\n",
              "      <td>0</td>\n",
              "    </tr>\n",
              "    <tr>\n",
              "      <th>bedroom</th>\n",
              "      <td>0</td>\n",
              "    </tr>\n",
              "  </tbody>\n",
              "</table>\n",
              "</div><br><label><b>dtype:</b> int64</label>"
            ]
          },
          "metadata": {},
          "execution_count": 85
        }
      ]
    },
    {
      "cell_type": "code",
      "source": [
        "price = df.price.tolist()"
      ],
      "metadata": {
        "id": "0IUwgTZxzo1R"
      },
      "execution_count": 86,
      "outputs": []
    },
    {
      "cell_type": "code",
      "source": [
        "price_int = []\n",
        "for x in price:\n",
        "    if type(x) == type(0):\n",
        "        price_int.append(x)\n",
        "    elif x[-1] == 'L':\n",
        "        price_int.append(int(float(x.split()[0])) * 100000)\n",
        "    elif type(x) == type('p'):\n",
        "        price_int.append(int(x.replace(',','')))\n"
      ],
      "metadata": {
        "id": "ZZIHTVyzzqw4"
      },
      "execution_count": 87,
      "outputs": []
    },
    {
      "cell_type": "code",
      "source": [
        "price_final=[]\n",
        "for item in price_int:\n",
        "    price_final.append(float(item))\n",
        "print(price_final, end=\" \")\n",
        "print(type(price_final))\n"
      ],
      "metadata": {
        "colab": {
          "base_uri": "https://localhost:8080/"
        },
        "id": "wdY9TzMzzsOp",
        "outputId": "f6a0145e-5868-49b6-dedd-ed7db088fb08"
      },
      "execution_count": 88,
      "outputs": [
        {
          "output_type": "stream",
          "name": "stdout",
          "text": [
            "[11000.0, 5000.0, 19000.0, 5500.0, 14999.0, 10000.0, 16800.0, 6500.0, 20000.0, 8200.0, 11000.0, 70000.0, 5500.0, 35000.0, 20000.0, 100000.0, 7500.0, 7200.0, 16000.0, 7000.0, 6000.0, 8000.0, 15000.0, 12000.0, 17000.0, 9500.0, 30000.0, 12000.0, 6800.0, 8500.0, 15000.0, 15000.0, 5500.0, 7500.0, 23000.0, 10000.0, 20000.0, 11000.0, 100000.0, 100000.0, 35000.0, 32000.0, 7500.0, 18000.0, 400000.0, 11000.0, 15500.0, 27000.0, 17000.0, 60000.0, 200000.0, 50000.0, 42000.0, 16000.0, 20000.0, 35000.0, 25000.0, 27500.0, 15795.0, 40000.0, 42000.0, 50000.0, 19000.0, 8500.0, 12000.0, 20000.0, 32000.0, 24500.0, 13500.0, 100000.0, 36000.0, 41000.0, 9000.0, 50000.0, 45000.0, 14500.0, 21000.0, 22500.0, 17000.0, 14000.0, 26000.0, 37000.0, 13000.0, 22000.0, 9000.0, 65000.0, 18000.0, 100000.0, 75000.0, 10500.0, 15000.0, 20000.0, 18000.0, 12900.0, 15500.0, 22000.0, 25000.0, 85000.0, 25000.0, 45000.0, 7500.0, 6000.0, 11000.0, 6500.0, 6700.0, 16000.0, 6000.0, 4500.0, 4500.0, 35000.0, 35000.0, 35000.0, 35000.0, 35000.0, 100000.0, 100000.0, 100000.0, 100000.0, 100000.0, 100000.0, 100000.0, 100000.0, 100000.0, 100000.0, 100000.0, 100000.0, 100000.0, 100000.0, 100000.0, 100000.0, 9000.0, 18000.0, 25000.0, 15000.0, 17000.0, 13000.0, 9000.0, 28000.0, 27000.0, 28000.0, 25000.0, 26000.0, 28000.0, 29000.0, 28000.0, 30000.0, 25000.0, 25000.0, 28000.0, 24000.0, 25000.0, 40000.0, 14000.0, 25000.0, 16000.0, 14500.0, 14000.0, 20000.0, 11000.0, 30000.0, 21000.0, 22000.0, 42000.0, 40000.0, 33000.0, 33000.0, 36000.0, 100000.0, 27000.0, 20000.0, 27000.0, 28000.0, 23500.0, 23000.0, 23000.0, 24000.0, 23000.0, 24000.0, 28500.0, 20000.0, 29000.0, 29000.0, 23500.0, 25000.0, 40000.0, 22000.0, 34000.0, 45000.0, 26000.0, 25000.0, 20000.0, 25000.0, 30000.0, 27000.0, 35000.0, 30000.0, 30000.0, 35000.0, 75000.0, 23000.0, 23000.0, 35000.0, 42000.0, 50000.0, 45000.0, 23000.0, 55000.0, 45000.0, 45000.0, 21000.0, 22000.0, 22000.0, 25000.0, 20000.0, 27000.0, 30000.0, 27000.0, 28000.0, 25000.0, 23000.0, 22000.0, 28000.0, 24000.0, 22000.0, 26500.0, 25000.0, 25000.0, 30000.0, 36000.0, 40000.0, 30000.0, 50000.0, 40000.0, 70000.0, 80000.0, 48000.0, 42000.0, 26000.0, 58000.0, 32000.0, 50000.0, 45000.0, 40000.0, 45000.0, 55000.0, 35000.0, 30000.0, 32000.0, 24000.0, 24500.0, 21000.0, 35000.0, 22000.0, 42000.0, 70000.0, 28000.0, 25000.0, 26000.0, 34000.0, 50000.0, 42000.0, 20000.0, 32000.0, 27000.0, 28000.0, 8000.0, 18500.0, 65000.0, 29000.0, 28000.0, 16000.0, 12000.0, 31000.0, 26000.0, 30000.0, 37000.0, 27000.0, 58000.0, 35000.0, 32000.0, 36000.0, 32000.0, 45000.0, 28000.0, 22000.0, 24000.0, 27000.0, 37000.0, 58000.0, 35000.0, 32000.0, 17000.0, 45000.0, 60000.0, 20000.0, 40000.0, 30000.0, 27000.0, 20000.0, 60000.0, 38000.0, 55000.0, 20000.0, 38000.0, 16500.0, 25000.0, 31000.0, 21000.0, 28050.0, 20000.0, 28000.0, 20000.0, 80000.0, 28000.0, 20000.0, 27500.0, 22000.0, 27000.0, 32000.0, 25000.0, 32000.0, 36000.0, 26000.0, 45000.0, 38000.0, 50000.0, 65000.0, 16000.0, 30000.0, 32000.0, 35000.0, 12000.0, 32000.0, 35000.0, 17000.0, 12500.0, 45000.0, 45000.0, 32000.0, 29000.0, 8000.0, 12500.0, 45000.0, 45000.0, 13000.0, 12500.0, 38000.0, 25000.0, 54500.0, 35000.0, 15500.0, 40000.0, 100000.0, 100000.0, 22000.0, 15000.0, 22000.0, 14000.0, 35000.0, 59000.0, 100000.0, 60000.0, 75000.0, 65000.0, 24000.0, 40000.0, 35000.0, 24000.0, 32000.0, 16000.0, 85000.0, 29700.0, 24000.0, 22000.0, 27000.0, 35000.0, 8500.0, 38000.0, 23000.0, 16000.0, 26500.0, 14000.0, 15000.0, 12000.0, 17000.0, 16000.0, 16000.0, 21000.0, 25000.0, 12000.0, 15000.0, 20000.0, 20000.0, 12500.0, 14100.0, 14000.0, 13000.0, 21000.0, 20000.0, 20000.0, 65000.0, 16000.0, 16000.0, 30000.0, 100000.0, 65000.0, 26000.0, 60000.0, 16000.0, 16000.0, 35000.0, 17000.0, 16000.0, 15000.0, 14000.0, 25000.0, 22000.0, 24000.0, 27100.0, 55000.0, 40000.0, 40000.0, 27000.0, 25000.0, 20000.0, 16000.0, 22000.0, 52000.0, 18000.0, 22010.0, 23000.0, 12500.0, 15000.0, 75000.0, 23000.0, 19000.0, 32000.0, 35000.0, 40000.0, 40000.0, 37000.0, 25000.0, 32000.0, 30000.0, 30000.0, 42000.0, 25000.0, 22000.0, 40000.0, 35000.0, 37000.0, 25000.0, 27000.0, 28000.0, 35000.0, 35000.0, 28000.0, 35000.0, 32000.0, 45000.0, 35000.0, 25000.0, 25000.0, 22000.0, 33000.0, 27000.0, 37000.0, 42000.0, 32000.0, 24000.0, 24000.0, 33000.0, 45000.0, 40000.0, 23000.0, 48000.0, 48000.0, 30000.0, 42000.0, 75000.0, 21000.0, 12000.0, 25000.0, 15000.0, 22000.0, 17000.0, 32000.0, 7500.0, 14500.0, 12500.0, 11000.0, 18000.0, 17000.0, 50000.0, 21000.0, 55000.0, 40000.0, 35000.0, 38000.0, 11500.0, 12000.0, 11500.0, 27000.0, 26000.0, 12000.0, 16000.0, 16000.0, 25000.0, 20000.0, 23000.0, 14500.0, 14000.0, 15000.0, 10000.0, 13000.0, 14000.0, 21000.0, 15000.0, 20000.0, 16000.0, 15500.0, 15000.0, 16000.0, 25000.0, 16000.0, 17000.0, 23500.0, 17500.0, 22000.0, 16000.0, 41000.0, 30000.0, 200000.0, 19500.0, 30000.0, 20000.0, 38000.0, 9500.0, 10000.0, 14000.0, 14000.0, 30000.0, 36000.0, 29000.0, 36000.0, 30000.0, 18000.0, 14900.0, 14500.0, 16000.0, 25000.0, 45000.0, 100000.0, 20100.0, 26000.0, 25000.0, 25000.0, 17000.0, 24000.0, 28000.0, 23000.0, 43000.0, 35000.0, 25000.0, 13000.0, 10000.0, 14000.0, 14000.0, 13000.0, 18000.0, 15000.0, 15000.0, 15500.0, 17500.0, 11000.0, 19000.0, 14000.0, 13000.0, 16000.0, 16500.0, 35000.0, 15000.0, 23000.0, 35000.0, 34000.0, 17100.0, 15000.0, 16000.0, 17000.0, 9216.0, 13000.0, 17100.0, 12376.0, 20100.0, 30000.0, 28000.0, 24000.0, 55000.0, 65000.0, 36000.0, 95000.0, 60000.0, 30000.0, 35000.0, 42000.0, 30000.0, 80000.0, 32000.0, 32000.0, 42000.0, 32000.0, 50000.0, 16000.0, 28000.0, 20100.0, 25000.0, 28000.0, 16200.0, 23000.0, 16500.0, 40000.0, 20000.0, 21000.0, 15000.0, 12000.0, 12000.0, 11000.0, 14000.0, 45000.0, 19900.0, 19900.0, 28000.0, 36000.0, 17000.0, 45000.0, 14500.0, 20000.0, 7536.0, 13000.0, 10000.0, 7536.0, 13000.0, 10000.0, 10000.0, 9000.0, 11000.0, 10000.0, 14000.0, 13500.0, 13000.0, 10500.0, 9000.0, 13500.0, 22000.0, 27000.0, 15000.0, 16000.0, 17000.0, 20000.0, 21000.0, 21000.0, 17100.0, 24100.0, 19000.0, 24000.0, 24000.0, 16000.0, 14000.0, 29000.0, 28000.0, 20000.0, 20000.0, 32000.0, 40000.0, 60000.0, 32000.0, 35000.0, 200000.0, 40000.0, 38000.0, 35000.0, 40000.0, 26000.0, 45000.0, 53500.0, 65000.0, 35000.0, 100000.0, 32000.0, 30000.0, 28000.0, 33000.0, 40000.0, 38000.0, 42000.0, 32000.0, 40000.0, 45000.0, 35000.0, 90000.0, 90000.0, 20100.0, 22100.0, 18500.0, 17000.0, 22500.0, 17999.0, 19500.0, 14500.0, 15100.0, 22100.0, 22000.0, 19800.0, 21000.0, 19000.0, 21999.0, 14800.0, 55000.0, 25000.0, 35000.0, 26000.0, 37000.0, 40000.0, 29000.0, 21000.0, 27000.0, 15000.0, 25000.0, 20100.0, 22000.0, 13000.0, 10000.0, 25000.0, 22000.0, 30000.0, 40000.0, 36000.0, 35000.0, 40000.0, 31000.0, 20000.0, 20000.0, 65000.0, 29000.0, 18000.0, 22100.0, 25000.0, 40000.0, 28000.0, 35000.0, 38000.0, 15000.0, 25000.0, 19000.0, 20000.0, 200000.0, 100000.0, 11000.0, 14500.0, 27000.0, 13000.0, 26000.0, 10000.0, 40000.0, 15000.0, 36000.0, 17100.0, 24900.0, 18100.0, 26100.0, 38000.0, 28000.0, 28000.0, 28000.0, 35000.0, 50000.0, 27000.0, 30000.0, 100000.0, 25000.0, 40000.0, 29000.0, 30000.0, 30000.0, 14000.0, 10000.0, 9590.0, 25000.0, 24000.0, 20000.0, 23000.0, 25000.0, 11300.0, 11200.0, 11000.0, 26100.0, 34000.0, 24000.0, 35000.0, 75000.0, 12500.0, 28500.0, 43000.0, 43000.0, 17000.0, 24000.0, 17000.0, 39000.0, 25000.0, 27000.0, 8000.0, 7200.0, 7000.0, 16500.0, 32000.0, 13000.0, 16000.0, 20000.0, 10500.0, 27000.0, 27000.0, 40000.0, 50000.0, 28000.0, 21000.0, 83790.0, 83790.0, 100000.0, 100000.0, 100000.0, 100000.0, 100000.0, 100000.0, 80290.0, 100000.0, 100000.0, 98000.0, 100000.0, 11000.0, 10000.0, 21000.0, 20000.0, 25000.0, 27000.0, 28000.0, 22000.0, 50000.0, 45000.0, 30000.0, 28000.0, 25000.0, 45000.0, 20000.0, 16500.0, 16000.0, 16500.0, 40000.0, 18000.0, 14000.0, 18720.0, 17000.0, 24150.0, 20000.0, 34500.0, 22000.0, 30000.0, 36000.0, 26450.0, 30000.0, 22000.0, 36000.0, 27550.0, 16000.0, 16000.0, 14500.0, 20000.0, 22000.0, 26000.0, 18000.0, 20000.0, 60000.0, 15000.0, 30000.0, 25000.0, 21000.0, 30000.0, 24000.0, 17000.0, 21000.0, 22000.0, 17000.0, 12000.0, 16000.0, 22000.0, 28000.0, 27000.0, 50000.0, 33000.0, 38000.0, 14000.0, 35000.0, 32000.0, 27000.0, 20000.0, 27500.0, 22000.0, 33000.0, 20000.0, 21000.0, 28000.0, 80000.0, 22000.0, 32500.0, 28000.0, 28000.0, 23000.0, 21000.0, 28000.0, 20000.0, 28021.0, 28000.0, 80000.0, 22000.0, 32500.0, 28000.0, 28000.0, 23000.0, 8000.0, 18000.0, 15000.0, 30000.0, 18000.0, 32000.0, 17000.0, 32000.0, 30050.0, 70000.0, 30000.0, 10980.0, 21000.0, 30000.0, 35000.0, 37000.0, 56000.0, 27000.0, 100000.0, 24000.0, 35000.0, 17000.0, 25500.0, 25000.0, 21000.0, 25000.0, 21000.0, 25000.0, 30000.0, 30000.0, 16500.0, 14000.0, 16900.0, 15900.0, 22000.0, 46000.0, 100000.0, 41000.0, 30000.0, 43000.0, 20000.0, 44000.0, 46000.0, 17000.0, 70000.0, 38000.0, 40000.0, 67000.0, 18000.0, 45000.0, 32000.0, 13500.0, 22000.0, 50000.0, 100000.0, 25500.0, 21500.0, 16000.0, 45000.0, 8000.0, 20000.0, 25000.0, 30000.0, 20500.0, 41000.0, 24000.0, 22000.0, 21000.0, 25000.0, 19000.0, 21000.0, 24000.0, 27000.0, 27000.0, 45000.0, 26000.0, 29000.0, 24000.0, 16500.0, 55000.0, 100000.0, 25000.0, 55000.0, 15000.0, 30000.0, 85000.0, 100000.0, 18000.0, 25000.0, 23500.0, 30000.0, 35000.0, 24000.0, 25000.0, 60000.0, 75000.0, 35000.0, 45000.0, 40000.0, 25000.0, 35000.0, 50000.0, 90000.0, 35000.0, 27000.0, 32000.0, 65000.0, 32000.0, 65000.0, 100000.0, 23000.0, 32000.0, 45500.0, 40000.0, 55000.0, 45000.0, 28000.0, 32000.0, 30000.0, 21000.0, 26000.0, 21000.0, 28000.0, 20000.0, 27000.0, 27000.0, 19000.0, 23000.0, 45000.0, 45000.0, 24000.0, 22000.0, 22000.0, 18000.0, 56000.0, 24000.0, 30000.0, 45000.0, 43000.0, 24000.0, 20000.0, 35000.0, 37000.0, 25000.0, 20000.0, 23500.0, 33000.0, 31500.0, 31500.0, 25000.0, 40000.0, 37000.0, 100000.0, 45000.0, 45000.0, 42000.0, 40000.0, 18000.0, 32050.0, 26000.0, 24000.0, 14500.0, 10000.0, 14000.0, 14000.0, 13000.0, 100000.0, 29500.0, 29000.0, 30000.0, 28000.0, 54000.0, 26000.0, 27000.0, 43000.0, 25000.0, 11000.0, 20000.0, 22000.0, 17000.0, 22000.0, 30000.0, 20000.0, 15000.0, 21000.0, 36000.0, 22000.0, 27500.0, 40000.0, 28000.0, 78000.0, 60000.0, 90000.0, 50000.0, 65000.0, 50000.0, 70000.0, 75000.0, 75000.0, 25000.0, 20000.0, 15000.0, 25000.0, 20000.0, 60000.0, 25000.0, 20000.0, 22000.0, 9000.0, 21500.0, 19000.0, 28500.0, 20000.0, 26000.0, 42000.0, 25500.0, 30000.0, 30000.0, 22000.0, 43000.0, 47000.0, 19000.0, 30500.0, 27000.0, 35000.0, 18000.0, 45000.0, 100000.0, 38000.0, 35000.0, 11000.0, 12000.0, 13000.0, 12000.0, 12000.0, 12500.0, 13000.0, 12000.0, 12000.0, 11500.0, 12000.0, 37000.0, 22500.0, 25000.0, 36000.0, 32000.0, 30055.0, 43000.0, 20000.0, 67000.0, 48000.0, 45000.0, 44000.0, 46000.0, 30000.0, 15000.0, 14000.0, 43000.0, 24000.0, 45000.0, 24000.0, 22000.0, 14000.0, 14000.0, 14000.0, 22000.0, 30000.0, 32000.0, 25000.0, 32000.0, 33000.0, 30000.0, 15000.0, 15000.0, 33000.0, 12000.0, 23000.0, 20000.0, 27000.0, 42000.0, 45000.0, 15000.0, 25000.0, 38000.0, 25000.0, 23000.0, 100000.0, 22000.0, 100000.0, 35000.0, 14000.0, 14500.0, 14000.0, 14500.0, 22000.0, 22000.0, 40000.0, 35000.0, 35000.0, 25000.0, 20000.0, 28000.0, 15000.0, 38000.0, 30000.0, 45000.0, 55000.0, 24000.0, 32000.0, 45000.0, 23000.0, 100000.0, 22000.0, 45000.0, 10000.0, 26050.0, 32000.0, 36000.0, 31000.0, 40000.0, 30000.0, 30000.0, 35000.0, 21000.0, 36000.0, 36000.0, 19000.0, 22000.0, 40000.0, 45000.0, 16000.0, 30000.0, 18000.0, 32000.0, 30000.0, 35000.0, 56000.0, 24000.0, 17000.0, 10500.0, 16000.0, 62000.0, 24000.0, 35000.0, 28000.0, 19000.0, 28000.0, 30000.0, 27000.0, 17050.0, 18000.0, 15000.0, 60000.0, 100000.0, 35000.0, 40000.0, 30000.0, 55000.0, 32000.0, 100000.0, 35000.0, 100000.0, 100000.0, 80000.0, 27000.0, 24000.0, 32000.0, 26000.0, 30000.0, 45000.0, 24000.0, 20000.0, 27000.0, 27000.0, 19000.0, 23000.0, 22000.0, 22000.0, 18000.0, 25000.0, 19000.0, 28000.0, 20050.0, 24000.0, 27000.0, 21000.0, 30000.0, 21000.0, 33000.0, 15000.0, 21000.0, 20000.0, 23000.0, 15000.0, 22000.0, 28000.0, 17500.0, 22500.0, 21500.0, 23000.0, 27000.0, 21000.0, 18500.0, 23000.0, 24500.0, 18500.0, 15000.0, 23000.0, 20958.0, 23000.0, 20000.0, 20000.0, 24000.0, 21500.0, 19000.0, 18500.0, 21000.0, 55000.0, 20000.0, 15000.0, 30000.0, 26000.0, 35000.0, 20000.0, 35000.0, 24000.0, 48000.0, 25000.0, 19000.0, 19000.0, 55000.0, 60000.0, 45000.0, 28000.0, 25000.0, 35000.0, 20000.0, 42000.0, 26000.0, 25000.0, 32000.0, 55000.0, 60000.0, 45000.0, 42000.0, 35000.0, 40000.0, 24000.0, 48000.0, 25000.0, 19000.0, 19000.0, 19000.0, 45000.0, 22000.0, 22000.0, 17100.0, 16900.0, 100000.0, 24000.0, 75000.0, 33000.0, 35000.0, 35000.0, 55000.0, 55000.0, 22000.0, 65000.0, 41000.0, 50000.0, 100000.0, 20000.0, 22000.0, 30000.0, 35000.0, 40000.0, 34000.0, 25000.0, 26000.0, 27000.0, 40000.0, 35000.0, 60000.0, 28000.0, 26000.0, 30000.0, 20000.0, 24000.0, 56000.0, 37000.0, 35050.0, 35055.0, 70000.0, 16000.0, 30050.0, 18000.0, 32000.0, 30050.0, 30050.0, 43000.0, 41050.0, 32000.0, 19000.0, 40000.0, 28000.0, 28000.0, 28000.0, 50000.0, 30000.0, 27000.0, 45000.0, 44000.0, 28000.0, 18000.0, 15000.0, 16000.0, 7500.0, 30000.0, 20050.0, 40000.0, 67050.0, 48055.0, 45050.0, 44000.0, 46000.0, 43000.0, 41000.0, 20000.0, 45000.0, 46000.0, 40000.0, 67000.0, 48050.0, 46000.0, 11300.0, 11500.0, 11000.0, 35000.0, 12000.0, 20000.0, 29000.0, 11000.0, 12000.0, 12000.0, 20000.0, 14000.0, 12000.0, 22000.0, 25000.0, 200000.0, 30000.0, 24000.0, 24000.0, 24000.0, 46000.0, 50000.0, 45000.0, 45000.0, 25000.0, 45000.0, 22000.0, 26000.0, 12000.0, 25000.0, 65000.0, 48000.0, 27000.0, 20000.0, 18000.0, 37000.0, 32000.0, 26000.0, 15000.0, 22500.0, 21000.0, 22000.0, 37000.0, 35000.0, 21000.0, 25000.0, 20000.0, 16400.0, 25000.0, 23000.0, 18000.0, 19000.0, 15000.0, 18000.0, 12000.0, 17000.0, 12000.0, 18000.0, 17500.0, 17000.0, 15000.0, 17500.0, 21000.0, 16000.0, 20000.0, 17000.0, 12000.0, 12000.0, 14500.0, 18000.0, 18000.0, 16000.0, 18000.0, 16000.0, 28000.0, 13000.0, 17000.0, 22000.0, 26000.0, 25000.0, 21000.0, 19000.0, 22000.0, 16000.0, 20000.0, 18000.0, 15000.0, 18000.0, 20000.0, 25000.0, 26000.0, 25000.0, 13000.0, 18000.0, 20000.0, 17000.0, 25000.0, 23000.0, 25000.0, 15000.0, 18000.0, 20000.0, 38000.0, 22000.0, 16000.0, 20000.0, 23000.0, 25000.0, 23000.0, 22500.0, 22000.0, 21000.0, 14000.0, 17000.0, 20000.0, 15000.0, 25000.0, 18000.0, 16000.0, 16000.0, 15000.0, 18000.0, 22000.0, 20000.0, 22000.0, 21000.0, 21000.0, 20000.0, 20000.0, 21000.0, 25000.0, 24000.0, 26000.0, 38000.0, 45000.0, 22000.0, 18000.0, 16000.0, 15000.0, 15000.0, 7500.0, 12000.0, 8000.0, 26000.0, 25000.0, 7000.0, 35000.0, 25000.0, 18000.0, 11960.0, 12000.0, 20000.0, 37000.0, 6000.0, 45000.0, 40000.0, 30000.0, 4500.0, 7000.0, 32000.0, 20000.0, 24000.0, 28050.0, 25050.0, 25000.0, 22000.0, 22000.0, 50000.0, 15000.0, 15000.0, 26000.0, 24060.0, 20000.0, 27000.0, 14000.0, 25000.0, 18000.0, 45000.0, 70000.0, 16000.0, 11000.0, 15000.0, 15500.0, 21000.0, 18000.0, 22000.0, 23000.0, 24050.0, 22000.0, 18000.0, 22000.0, 21000.0, 25060.0, 19050.0, 21000.0, 30000.0, 21000.0, 26000.0, 32000.0, 21000.0, 28000.0, 20000.0, 24000.0, 27050.0, 27000.0, 25000.0, 10500.0, 25000.0, 50000.0, 25000.0, 7500.0, 25500.0, 7500.0, 60000.0, 32000.0, 40000.0, 22050.0, 45000.0, 30000.0, 43000.0, 22000.0, 22050.0, 28000.0, 100000.0, 45000.0, 21000.0, 24000.0, 36500.0, 22500.0, 23000.0, 200000.0, 75000.0, 100000.0, 100000.0, 200000.0, 300000.0, 300000.0, 100000.0, 200000.0, 72000.0, 60000.0, 22500.0, 24000.0, 23000.0, 22000.0, 23500.0, 22000.0, 20000.0, 23000.0, 28000.0, 28000.0, 30000.0, 26000.0, 25000.0, 72000.0, 17000.0, 11000.0, 24000.0, 22000.0, 18500.0, 28000.0, 27000.0, 21500.0, 12000.0, 15000.0, 85000.0, 27000.0, 14000.0, 10000.0, 18000.0, 18000.0, 33000.0, 23999.0, 28400.0, 26800.0, 18000.0, 29000.0, 17000.0, 18500.0, 26000.0, 28000.0, 21500.0, 18000.0, 26250.0, 27000.0, 29000.0, 17000.0, 18500.0, 28100.0, 22000.0, 28500.0, 28000.0, 40000.0, 28000.0, 21000.0, 23000.0, 35000.0, 40000.0, 60000.0, 60000.0, 60000.0, 35000.0, 38000.0, 40000.0, 50000.0, 16000.0, 15000.0, 50000.0, 30000.0, 28000.0, 19000.0, 29000.0, 10432.0, 40500.0, 34000.0, 31000.0, 19000.0, 45000.0, 35000.0, 19000.0, 30000.0, 30000.0, 17000.0, 8100.0, 33000.0, 25500.0, 17000.0, 21000.0, 40000.0, 15000.0, 20000.0, 50000.0, 17000.0, 20000.0, 18100.0, 13000.0, 16000.0, 15000.0, 14000.0, 17000.0, 26000.0, 18000.0, 20000.0, 25000.0, 33000.0, 14000.0, 22000.0, 14000.0, 22000.0, 17000.0, 18000.0, 18000.0, 30000.0, 25000.0, 22000.0, 42000.0, 26000.0, 23000.0, 14000.0, 26000.0, 23000.0, 28000.0, 9000.0, 25000.0, 18000.0, 20000.0, 16000.0, 17000.0, 12000.0, 13000.0, 14000.0, 13000.0, 15000.0, 22000.0, 36000.0, 40000.0, 60000.0, 33000.0, 60000.0, 85000.0, 300000.0, 50000.0, 31000.0, 45000.0, 55000.0, 40000.0, 34000.0, 46000.0, 100000.0, 35000.0, 52000.0, 45000.0, 32000.0, 52000.0, 35000.0, 36000.0, 40000.0, 38000.0, 45000.0, 40000.0, 55000.0, 45000.0, 52000.0, 54000.0, 25000.0, 100000.0, 35000.0, 52000.0, 45000.0, 32000.0, 52000.0, 35000.0, 36000.0, 40000.0, 38000.0, 45000.0, 45000.0, 25000.0, 40000.0, 30000.0, 35000.0, 40000.0, 29000.0, 35000.0, 21000.0, 40000.0, 55000.0, 45000.0, 52000.0, 54000.0, 25000.0, 55000.0, 65000.0, 55000.0, 34000.0, 40000.0, 64000.0, 65000.0, 42000.0, 35000.0, 42000.0, 27000.0, 38000.0, 95000.0, 50000.0, 70000.0, 75000.0, 47000.0, 31000.0, 31000.0, 70000.0, 55000.0, 55000.0, 100000.0, 48000.0, 38000.0, 55000.0, 56000.0, 58000.0, 18000.0, 35000.0, 22990.0, 20000.0, 16500.0, 24000.0, 30000.0, 26100.0, 22000.0, 40000.0, 17500.0, 45000.0, 35000.0, 24050.0, 20000.0, 32000.0, 19050.0, 48000.0, 33000.0, 35000.0, 50000.0, 35000.0, 100000.0, 24000.0, 22000.0, 20000.0, 25000.0, 22000.0, 22000.0, 21000.0, 23000.0, 35000.0, 36000.0, 20000.0, 40000.0, 45000.0, 30000.0, 28000.0, 26000.0, 18000.0, 18000.0, 28000.0, 30000.0, 23000.0, 26000.0, 35000.0, 28000.0, 20000.0, 23000.0, 21000.0, 19050.0, 18050.0, 24000.0, 33000.0, 18000.0, 15000.0, 50000.0, 38000.0, 38000.0, 55000.0, 17000.0, 20000.0, 25000.0, 27000.0, 35000.0, 48000.0, 20000.0, 26000.0, 17000.0, 24000.0, 42000.0, 42000.0, 32000.0, 21000.0, 90000.0, 37000.0, 85000.0, 43000.0, 55000.0, 24000.0, 35000.0, 100000.0, 100000.0, 100000.0, 25000.0, 23000.0, 90000.0, 40000.0, 52000.0, 24000.0, 32000.0, 20000.0, 20000.0, 32000.0, 24000.0, 40000.0, 25000.0, 25000.0, 23000.0, 50000.0, 21000.0, 17500.0, 19000.0, 26000.0, 25000.0, 15000.0, 15000.0, 25000.0, 15000.0, 45000.0, 27000.0, 35000.0, 30000.0, 30000.0, 28000.0, 23000.0, 21000.0, 19000.0, 37000.0, 58000.0, 100000.0, 75000.0, 40000.0, 45000.0, 60000.0, 22000.0, 55000.0, 26000.0, 30000.0, 27000.0, 22000.0, 55000.0, 27000.0, 23000.0, 6000.0, 30000.0, 33000.0, 40000.0, 20000.0, 18000.0, 16000.0, 24000.0, 75000.0, 36000.0, 24000.0, 35000.0, 100000.0, 27000.0, 30000.0, 15000.0, 24000.0, 22000.0, 50000.0, 22000.0, 18000.0, 11000.0, 12000.0, 12000.0, 17000.0, 20000.0, 33000.0, 48000.0, 26000.0, 40000.0, 40000.0, 25000.0, 10000.0, 10000.0, 10000.0, 10000.0, 16000.0, 14000.0, 65000.0, 75000.0, 8000.0, 12000.0, 16000.0, 20000.0, 26000.0, 30000.0, 32000.0, 16000.0, 10000.0, 35050.0, 20000.0, 32000.0, 27000.0, 30000.0, 24000.0, 28000.0, 26000.0, 26500.0, 65000.0, 24000.0, 20000.0, 30000.0, 16000.0, 12500.0, 21020.0, 19000.0, 18030.0, 19000.0, 28000.0, 45000.0, 18000.0, 30000.0, 30000.0, 27000.0, 15000.0, 13000.0, 19000.0, 22000.0, 19000.0, 19500.0, 21000.0, 24000.0, 24000.0, 22000.0, 25000.0, 12500.0, 16000.0, 22000.0, 10500.0, 20000.0, 40000.0, 28000.0, 24000.0, 20000.0, 27000.0, 27000.0, 19000.0, 23000.0, 45000.0, 22000.0, 25000.0, 19000.0, 21000.0, 21000.0, 33000.0, 28000.0, 20000.0, 24000.0, 45050.0, 70000.0, 27000.0, 22000.0, 20000.0, 8500.0, 10000.0, 7000.0, 9000.0, 8000.0, 10000.0, 10000.0, 14000.0, 18000.0, 18000.0, 25000.0, 35000.0, 22000.0, 22000.0, 12000.0, 30000.0, 24000.0, 7000.0, 17000.0, 27000.0, 16000.0, 15000.0, 24000.0, 17000.0, 17000.0, 16500.0, 20000.0, 8000.0, 14000.0, 15000.0, 16000.0, 14000.0, 14000.0, 15000.0, 55000.0, 18000.0, 39000.0, 40000.0, 18000.0, 17000.0, 16000.0, 14000.0, 12000.0, 14000.0, 15000.0, 28000.0, 20000.0, 33000.0, 22000.0, 18500.0, 16000.0, 22000.0, 17000.0, 18000.0, 48000.0, 32000.0, 19000.0, 24000.0, 32000.0, 26000.0, 24000.0, 25000.0, 31500.0, 35000.0, 26500.0, 33000.0, 24000.0, 10000.0, 25000.0, 28000.0, 100000.0, 50000.0, 25000.0, 30000.0, 18000.0, 18050.0, 16050.0, 30000.0, 18000.0, 32000.0, 37000.0, 35000.0, 56000.0, 24000.0, 30000.0, 18000.0, 50000.0, 60000.0, 55000.0, 38000.0, 48000.0, 46000.0, 26000.0, 34000.0, 100000.0, 200000.0, 23000.0, 26000.0, 26000.0, 22000.0, 45000.0, 26000.0, 19000.0, 38000.0, 75000.0, 68000.0, 27000.0, 36000.0, 48000.0, 46000.0, 32000.0, 40000.0, 32000.0, 40000.0, 40000.0, 45000.0, 55000.0, 90000.0, 45000.0, 40000.0, 55000.0, 38000.0, 29000.0, 65000.0, 38000.0, 32000.0, 80000.0, 50000.0, 35055.0, 100000.0, 24000.0, 45000.0, 14000.0, 14000.0, 17000.0, 30000.0, 40000.0, 50000.0, 35000.0, 100000.0, 24000.0, 15000.0, 18000.0, 26000.0, 35000.0, 22020.0, 36000.0, 24000.0, 20000.0, 24020.0, 28020.0, 20000.0, 23000.0, 24000.0, 20000.0, 24020.0, 28020.0, 20000.0, 23000.0, 19000.0, 48010.0, 22000.0, 20000.0, 25000.0, 17000.0, 21000.0, 17500.0, 27000.0, 17000.0, 14500.0, 26000.0, 56000.0, 27000.0, 14000.0, 16000.0, 21000.0, 68000.0, 22000.0, 80000.0, 51000.0, 56000.0, 27000.0, 60000.0, 7000.0, 26000.0, 18000.0, 25000.0, 100000.0, 40000.0, 32000.0, 24000.0, 32000.0, 21000.0, 23000.0, 17000.0, 18000.0, 16000.0, 20000.0, 13000.0, 18000.0, 23500.0, 85000.0, 42000.0, 27000.0, 65000.0, 30000.0, 50000.0, 40000.0, 25000.0, 38000.0, 200000.0, 100000.0, 50000.0, 40000.0, 28000.0, 28000.0, 28000.0, 200000.0, 200000.0, 100000.0, 26000.0, 36000.0, 60000.0, 65000.0, 33000.0, 24000.0, 30000.0, 32000.0, 33000.0, 32000.0, 33000.0, 8000.0, 6500.0, 12000.0, 11500.0, 7000.0, 6000.0, 24000.0, 11000.0, 17500.0, 23000.0, 15000.0, 8500.0, 10000.0, 9500.0, 7500.0, 7300.0, 17000.0, 18000.0, 18000.0, 18000.0, 13000.0, 11000.0, 15000.0, 9500.0, 27000.0, 7500.0, 18000.0, 15000.0, 10500.0, 9000.0, 10000.0, 14500.0, 23000.0, 17500.0, 10000.0, 23000.0, 21000.0, 9000.0, 16000.0, 22000.0, 100000.0, 14000.0, 30000.0, 17000.0, 15000.0, 16000.0, 20000.0, 22000.0, 17500.0, 15000.0, 27000.0, 23000.0, 20000.0, 20000.0, 16000.0, 15000.0, 14000.0, 31000.0, 30000.0, 22000.0, 20000.0, 17000.0, 28000.0, 22000.0, 7500.0, 14000.0, 19100.0, 15000.0, 19000.0, 18000.0, 19000.0, 18000.0, 20000.0, 19000.0, 28000.0, 30000.0, 30000.0, 45000.0, 30000.0, 48000.0, 45000.0, 47000.0, 16000.0, 70000.0, 16000.0, 22000.0, 28000.0, 17000.0, 27000.0, 13000.0, 38000.0, 45000.0, 40000.0, 47000.0, 13500.0, 42000.0, 15000.0, 27000.0, 27000.0, 16000.0, 10000.0, 10000.0, 10000.0, 26000.0, 23000.0, 100000.0, 35000.0, 30000.0, 50000.0, 17000.0, 18000.0, 21000.0, 35000.0, 19000.0, 22000.0, 32000.0, 22000.0, 19000.0, 25000.0, 33000.0, 23000.0, 24000.0, 25000.0, 20000.0, 20000.0, 25500.0, 19500.0, 15000.0, 34000.0, 33000.0, 32000.0, 18000.0, 26500.0, 15500.0, 32000.0, 21000.0, 26000.0, 26000.0, 26000.0, 22000.0, 10000.0, 16000.0, 22000.0, 28000.0, 34000.0, 28000.0, 20000.0, 18000.0, 30000.0, 18000.0, 35000.0, 30000.0, 100000.0, 100000.0, 100000.0, 100000.0, 100000.0, 35000.0, 20000.0, 16500.0, 20000.0, 35000.0, 35000.0, 25000.0, 29000.0, 16000.0, 37000.0, 21000.0, 44000.0, 32000.0, 17000.0, 35000.0, 16000.0, 19000.0, 35000.0, 25000.0, 22000.0, 24000.0, 22000.0, 17000.0, 24000.0, 24000.0, 24000.0, 24000.0, 17000.0, 100000.0, 18000.0, 25000.0, 22000.0, 17000.0, 26000.0, 18000.0, 18000.0, 24000.0, 50000.0, 22000.0, 100000.0, 26000.0, 22000.0, 100000.0, 35000.0, 35000.0, 24000.0, 23000.0, 18000.0, 21000.0, 23000.0, 24000.0, 21000.0, 35000.0, 17000.0, 16000.0, 22000.0, 22000.0, 17000.0, 20000.0, 25000.0, 35000.0, 22000.0, 17000.0, 18000.0, 19000.0, 35000.0, 35000.0, 25000.0, 29000.0, 16000.0, 37000.0, 21000.0, 44000.0, 32000.0, 17000.0, 18000.0, 21000.0, 23000.0, 24000.0, 21000.0, 35000.0, 17000.0, 16000.0, 22000.0, 22000.0, 23000.0, 20000.0, 19000.0, 17000.0, 17000.0, 14500.0, 13000.0, 29000.0, 50000.0, 14500.0, 45000.0, 23000.0, 100000.0, 35000.0, 30000.0, 50000.0, 17000.0, 18000.0, 34000.0, 21000.0, 35000.0, 19000.0, 22000.0, 32000.0, 22000.0, 19000.0, 25000.0, 33000.0, 23000.0, 24000.0, 24000.0, 50000.0, 22000.0, 100000.0, 18000.0, 20000.0, 12500.0, 25000.0, 17000.0, 100000.0, 18000.0, 30000.0, 18000.0, 35000.0, 30000.0, 100000.0, 100000.0, 100000.0, 100000.0, 100000.0, 35000.0, 20000.0, 18000.0, 26500.0, 15500.0, 32000.0, 21000.0, 26000.0, 26000.0, 15500.0, 35000.0, 18000.0, 20000.0, 21000.0, 11500.0, 60000.0, 40000.0, 35500.0, 37000.0, 45000.0, 50000.0, 42000.0, 42000.0, 50000.0, 35000.0, 75000.0, 38000.0, 80000.0, 55000.0, 37000.0, 90000.0, 33000.0, 50000.0, 20000.0, 32000.0, 70000.0, 85000.0, 74000.0, 33000.0, 50000.0, 55000.0, 18000.0, 10000.0, 23000.0, 23000.0, 13000.0, 10500.0, 16000.0, 24000.0, 10000.0, 10000.0, 14000.0, 19000.0, 11000.0, 19000.0, 18000.0, 18000.0, 17000.0, 17000.0, 17500.0, 15500.0, 21500.0, 15500.0, 35000.0, 20000.0, 20000.0, 28000.0, 22000.0, 45000.0, 10500.0, 30000.0, 35000.0, 30000.0, 60000.0, 30000.0, 22000.0, 16000.0, 18000.0, 17000.0, 13000.0, 16000.0, 23000.0, 17000.0, 16000.0, 19000.0, 24000.0, 30000.0, 20000.0, 10000.0, 20000.0, 24000.0, 30000.0, 20000.0, 21000.0, 10000.0, 18000.0, 10000.0, 10500.0, 11000.0, 13000.0, 12000.0, 14000.0, 10000.0, 10000.0, 14000.0, 13000.0, 13000.0, 14000.0, 13000.0, 10000.0, 15000.0, 13000.0, 9000.0, 9500.0, 15000.0, 13000.0, 22000.0, 17000.0, 12000.0, 11500.0, 55000.0, 30000.0, 30000.0, 10000.0, 28000.0, 45000.0, 28000.0, 28000.0, 55000.0, 40000.0, 40000.0, 40000.0, 40000.0, 18000.0, 16000.0, 55000.0, 26000.0, 17000.0, 17000.0, 14000.0, 15000.0, 16000.0, 13500.0, 30000.0, 22500.0, 21000.0, 35000.0, 25000.0, 22000.0, 32000.0, 32000.0, 25000.0, 28000.0, 48000.0, 48000.0, 22000.0, 18000.0, 45000.0, 22000.0, 33000.0, 30000.0, 24500.0, 50000.0, 21000.0, 14000.0, 11000.0, 20000.0, 12000.0, 15000.0, 15000.0, 8500.0, 15000.0, 25000.0, 16000.0, 25000.0, 18000.0, 17000.0, 16000.0, 16000.0, 15000.0, 20000.0, 7000.0, 11000.0, 50000.0, 33000.0, 38000.0, 23000.0, 65000.0, 23000.0, 55000.0, 45000.0, 35000.0, 31000.0, 25000.0, 43000.0, 30000.0, 42000.0, 34000.0, 35000.0, 35000.0, 20000.0, 21000.0, 28000.0, 30000.0, 35000.0, 33000.0, 24000.0, 25000.0, 32000.0, 23000.0, 28000.0, 23500.0, 30000.0, 23000.0, 28000.0, 28000.0, 27000.0, 30000.0, 30000.0, 25000.0, 25000.0, 30000.0, 28000.0, 30000.0, 25000.0, 30000.0, 30000.0, 28000.0, 25000.0, 25000.0, 30000.0, 30000.0, 25000.0, 25000.0, 30000.0, 32500.0, 32000.0, 20000.0, 29000.0, 65000.0, 24000.0, 24000.0, 65000.0, 32000.0, 24000.0, 20000.0, 50000.0, 18000.0, 20000.0, 18000.0, 30000.0, 45000.0, 27000.0, 34000.0, 20000.0, 36000.0, 28000.0, 29000.0, 40000.0, 22000.0, 25000.0, 42000.0, 55000.0, 45000.0, 12000.0, 26000.0, 23000.0, 35000.0, 32000.0, 33000.0, 20000.0, 21000.0, 17000.0, 18500.0, 17000.0, 20000.0, 20000.0, 20000.0, 45000.0, 18000.0, 40000.0, 65000.0, 32000.0, 35000.0, 38000.0, 27000.0, 28000.0, 40000.0, 25000.0, 45000.0, 42000.0, 55000.0, 40000.0, 20000.0, 55000.0, 35000.0, 65000.0, 48000.0, 70000.0, 32000.0, 48000.0, 85000.0, 48000.0, 40000.0, 42000.0, 25000.0, 31000.0, 30000.0, 28000.0, 30000.0, 30000.0, 30000.0, 32000.0, 37000.0, 45000.0, 22000.0, 30000.0, 60000.0, 50000.0, 43000.0, 27000.0, 48000.0, 35000.0, 35000.0, 23000.0, 24000.0, 19000.0, 60000.0, 50000.0, 42000.0, 30000.0, 30000.0, 37000.0, 45000.0, 42000.0, 50000.0, 43000.0, 27000.0, 50000.0, 20000.0, 20000.0, 55000.0, 50000.0, 45000.0, 40000.0, 32000.0, 35000.0, 30000.0, 50000.0, 50000.0, 30000.0, 28000.0, 40000.0, 26000.0, 27000.0, 33000.0, 32000.0, 35000.0, 25000.0, 45000.0, 35000.0, 32000.0, 55000.0, 35000.0, 40000.0, 32000.0, 55000.0, 65000.0, 35000.0, 25000.0, 47000.0, 35000.0, 60000.0, 66000.0, 24000.0, 28000.0, 23000.0, 19000.0, 20000.0, 50000.0, 28000.0, 22000.0, 38000.0, 24000.0, 35000.0, 28000.0, 25000.0, 45000.0, 22000.0, 25000.0, 25000.0, 45000.0, 25000.0, 48000.0, 45000.0, 20000.0, 25000.0, 45000.0, 25000.0, 40000.0, 30000.0, 30000.0, 28000.0, 28000.0, 45000.0, 28000.0, 32000.0, 30000.0, 35000.0, 32000.0, 50000.0, 45000.0, 25000.0, 45000.0, 55000.0, 55000.0, 48000.0, 28000.0, 40000.0, 46000.0, 40000.0, 48000.0, 100000.0, 28000.0, 20000.0, 20000.0, 55000.0, 50000.0, 45000.0, 40000.0, 32000.0, 35000.0, 30000.0, 50000.0, 50000.0, 45000.0, 40000.0, 35000.0, 27000.0, 52000.0, 35000.0, 32000.0, 34000.0, 25000.0, 25000.0, 40000.0, 45000.0, 55000.0, 45000.0, 35000.0, 30000.0, 35000.0, 33000.0, 46000.0, 30000.0, 65000.0, 38000.0, 23000.0, 33000.0, 23000.0, 30000.0, 30000.0, 35000.0, 60000.0, 50000.0, 45000.0, 38000.0, 50000.0, 20000.0, 30000.0, 30000.0, 38000.0, 40000.0, 40000.0, 31000.0, 38000.0, 35000.0, 35000.0, 40000.0, 30000.0, 32000.0, 35000.0, 38000.0, 40000.0, 36000.0, 34000.0, 50000.0, 37000.0, 43000.0, 34000.0, 80000.0, 28000.0, 35000.0, 45000.0, 20000.0, 38000.0, 28000.0, 27000.0, 42000.0, 35000.0, 32000.0, 28000.0, 22000.0, 27000.0, 28000.0, 70000.0, 35000.0, 45000.0, 40000.0, 48000.0, 33000.0, 32000.0, 60000.0, 28000.0, 24000.0, 24000.0, 15000.0, 32000.0, 40000.0, 38000.0, 33000.0, 32000.0, 28000.0, 25000.0, 32000.0, 28000.0, 25000.0, 27000.0, 32000.0, 28000.0, 28000.0, 37000.0, 70000.0, 32000.0, 45000.0, 23000.0, 40000.0, 48000.0, 40000.0, 30000.0, 18000.0, 25000.0, 31000.0, 45000.0, 20000.0, 40000.0, 35000.0, 25000.0, 28000.0, 35000.0, 45000.0, 35000.0, 27000.0, 55000.0, 22000.0, 50000.0, 45000.0, 50000.0, 26000.0, 65000.0, 35000.0, 27000.0, 24000.0, 45000.0, 22000.0, 30000.0, 40000.0, 28000.0, 30000.0, 38000.0, 30000.0, 30000.0, 28000.0, 28000.0, 45000.0, 28000.0, 32000.0, 30000.0, 34000.0, 20500.0, 16000.0, 21000.0, 79000.0, 15500.0, 16000.0, 15500.0, 37000.0, 49000.0, 100000.0, 24000.0, 18000.0, 17000.0, 16000.0, 22000.0, 19000.0, 19000.0, 19000.0, 18000.0, 34000.0, 24000.0, 17000.0, 23000.0, 79000.0, 25000.0, 23000.0, 32000.0, 33000.0, 36000.0, 29000.0, 19000.0, 59000.0, 24000.0, 21000.0, 26000.0, 19000.0, 41000.0, 22000.0, 39000.0, 33000.0, 22000.0, 15500.0, 33000.0, 84000.0, 29000.0, 15000.0, 21000.0, 19000.0, 20500.0, 16500.0, 27500.0, 25000.0, 24000.0, 24000.0, 24000.0, 23000.0, 34000.0, 26000.0, 21000.0, 20000.0, 17000.0, 20000.0, 39000.0, 59000.0, 17000.0, 29000.0, 22000.0, 19000.0, 14000.0, 14000.0, 14000.0, 34000.0, 26000.0, 21000.0, 23000.0, 24000.0, 17000.0, 36000.0, 21000.0, 21000.0, 14000.0, 16000.0, 59000.0, 18000.0, 34000.0, 31000.0, 14000.0, 17000.0, 27000.0, 12500.0, 16000.0, 49000.0, 12500.0, 21000.0, 41000.0, 41000.0, 27000.0, 74000.0, 17000.0, 20500.0, 55000.0, 15000.0, 19000.0, 18000.0, 19000.0, 19000.0, 16000.0, 26000.0, 31000.0, 21000.0, 17700.0, 19000.0, 16000.0, 26000.0, 31000.0, 21000.0, 17700.0, 22000.0, 16000.0, 19000.0, 59000.0, 25500.0, 22000.0, 34000.0, 36000.0, 21000.0, 21000.0, 32000.0, 27000.0, 17000.0, 22000.0, 17000.0, 21500.0, 22500.0, 20000.0, 20000.0, 15000.0, 30000.0, 13000.0, 12000.0, 100000.0, 22000.0, 18000.0, 15500.0, 15500.0, 29000.0, 21000.0, 30000.0, 70000.0, 32000.0, 15500.0, 16000.0, 12500.0, 12500.0, 22000.0, 18000.0, 13000.0, 30000.0, 20000.0, 20000.0, 26000.0, 35000.0, 24000.0, 15000.0, 15000.0, 17000.0, 16000.0, 18000.0, 100000.0, 22500.0, 31000.0, 30000.0, 55000.0, 60000.0, 15000.0, 18500.0, 28000.0, 22000.0, 55000.0, 55000.0, 40000.0, 22000.0, 21500.0, 22000.0, 17000.0, 21000.0, 19000.0, 54000.0, 59000.0, 29000.0, 22000.0, 17000.0, 21000.0, 19000.0, 54000.0, 59000.0, 29000.0, 21000.0, 18000.0, 21000.0, 39000.0, 19000.0, 31000.0, 53000.0, 23000.0, 24000.0, 18000.0, 37000.0, 42000.0, 48000.0, 36000.0, 15000.0, 39000.0, 24000.0, 24000.0, 18500.0, 16000.0, 21000.0, 44000.0, 15500.0, 15500.0, 19000.0, 18000.0, 22000.0, 40000.0, 22000.0, 19000.0, 24000.0, 50000.0, 24000.0, 27000.0, 27000.0, 31000.0, 27000.0, 21000.0, 44000.0, 39000.0, 25000.0, 18000.0, 34000.0, 24000.0, 100000.0, 100000.0, 47000.0, 34000.0, 31000.0, 39000.0, 21000.0, 32000.0, 27000.0, 15000.0, 12100.0, 18000.0, 18000.0, 22500.0, 25000.0, 18000.0, 15000.0, 27000.0, 27000.0, 26000.0, 29000.0, 17000.0, 24000.0, 35000.0, 25000.0, 25000.0, 14000.0, 28000.0, 15000.0, 28000.0, 34000.0, 19000.0, 36000.0, 34000.0, 15000.0, 39000.0, 24000.0, 24000.0, 18500.0, 16000.0, 21000.0, 44000.0, 15500.0, 15500.0, 19000.0, 18000.0, 22000.0, 19000.0, 50000.0, 24000.0, 26000.0, 27000.0, 30000.0, 22000.0, 40000.0, 21000.0, 18000.0, 31000.0, 35000.0, 20000.0, 20000.0, 17900.0, 20000.0, 16000.0, 16000.0, 20000.0, 22000.0, 18000.0, 18000.0, 21000.0, 24000.0, 28000.0, 24000.0, 16000.0, 42000.0, 24000.0, 18000.0, 29000.0, 20000.0, 24000.0, 21000.0, 24000.0, 35000.0, 19500.0, 20000.0, 20000.0, 26000.0, 16000.0, 20000.0, 24000.0, 22000.0, 33000.0, 25000.0, 22000.0, 17000.0, 26000.0, 17000.0, 17000.0, 49000.0, 17000.0, 20000.0, 26000.0, 11000.0, 24000.0, 25000.0, 13500.0, 15000.0, 20000.0, 21000.0, 15000.0, 24000.0, 45000.0, 19000.0, 18000.0, 35000.0, 30000.0, 30000.0, 20000.0, 20000.0, 21000.0, 20000.0, 17000.0, 38000.0, 34000.0, 19000.0, 36000.0, 34000.0, 21000.0, 19000.0, 40000.0, 45000.0, 23000.0, 32000.0, 23000.0, 18080.0, 26000.0, 30000.0, 29000.0, 30000.0, 26000.0, 35000.0, 11000.0, 26000.0, 11500.0, 22000.0, 24000.0, 25000.0, 30000.0, 19500.0, 25000.0, 22000.0, 22000.0, 20000.0, 55000.0, 25000.0, 25000.0, 11000.0, 15000.0, 32000.0, 17000.0, 32000.0, 41000.0, 45000.0, 50000.0, 11000.0, 16000.0, 22000.0, 23000.0, 25000.0, 22000.0, 64000.0, 21000.0, 15000.0, 15000.0, 22000.0, 22000.0, 32000.0, 28000.0, 22000.0, 17000.0, 22000.0, 18000.0, 24000.0, 19000.0, 36000.0, 25000.0, 32000.0, 17000.0, 16000.0, 21000.0, 19000.0, 27000.0, 30000.0, 35000.0, 25000.0, 15000.0, 32000.0, 41000.0, 34000.0, 21000.0, 18000.0, 22000.0, 28000.0, 15000.0, 15000.0, 29000.0, 34000.0, 19000.0, 39000.0, 19000.0, 36000.0, 24000.0, 20000.0, 64000.0, 22500.0, 34000.0, 74000.0, 15000.0, 15000.0, 18000.0, 54000.0, 23500.0, 16000.0, 26000.0, 34000.0, 26000.0, 23000.0, 18000.0, 21000.0, 29000.0, 54000.0, 23500.0, 16000.0, 26000.0, 34000.0, 26000.0, 23000.0, 18000.0, 21000.0, 29000.0, 29000.0, 39000.0, 19000.0, 34000.0, 20000.0, 24000.0, 31000.0, 16000.0, 14000.0, 17000.0, 26000.0, 21000.0, 21000.0, 44000.0, 26000.0, 24000.0, 29000.0, 23000.0, 34000.0, 21000.0, 24000.0, 24000.0, 21000.0, 16000.0, 24000.0, 21000.0, 43000.0, 16000.0, 24000.0, 17500.0, 24000.0, 24000.0, 21000.0, 16000.0, 24000.0, 21000.0, 43000.0, 16000.0, 19500.0, 17000.0, 17000.0, 15000.0, 30000.0, 29000.0, 29000.0, 29000.0, 27000.0, 27000.0, 23000.0, 22000.0, 31000.0, 27000.0, 27000.0, 23000.0, 22000.0, 27000.0, 17000.0, 37000.0, 16000.0, 34000.0, 29000.0, 24000.0, 19001.0, 16000.0, 34000.0, 24000.0, 37000.0, 14000.0, 26000.0, 15000.0, 34000.0, 23000.0, 22000.0, 24000.0, 34000.0, 19000.0, 22000.0, 44000.0, 24000.0, 25000.0, 41000.0, 29000.0, 20000.0, 17000.0, 23000.0, 25000.0, 20000.0, 22000.0, 21000.0, 34000.0, 25000.0, 41000.0, 29000.0, 20000.0, 17000.0, 23000.0, 25000.0, 20000.0, 22000.0, 21000.0, 34000.0, 24000.0, 24000.0, 17000.0, 16000.0, 21000.0, 19000.0, 27000.0, 23000.0, 13000.0, 14000.0, 30000.0, 30000.0, 13000.0, 24000.0, 19000.0, 24000.0, 16000.0, 24000.0, 29000.0, 17000.0, 18000.0, 25000.0, 17000.0, 17000.0, 16000.0, 15000.0, 24000.0, 79000.0, 18000.0, 20000.0, 16000.0, 27000.0, 45000.0, 23000.0, 22000.0, 16000.0, 16000.0, 59000.0, 34000.0, 29000.0, 100000.0, 26000.0, 27000.0, 16000.0, 100000.0, 16000.0, 16000.0, 28000.0, 21000.0, 22000.0, 28000.0, 23000.0, 20000.0, 18000.0, 19000.0, 27000.0, 20000.0, 19000.0, 31000.0, 16000.0, 17000.0, 21000.0, 19000.0, 29000.0, 16000.0, 21000.0, 35500.0, 19000.0, 30000.0, 21000.0, 35500.0, 19000.0, 16000.0, 15000.0, 14000.0, 21500.0, 16000.0, 19000.0, 15000.0, 30000.0, 18000.0, 15000.0, 14000.0, 22000.0, 15500.0, 18000.0, 23000.0, 20000.0, 23000.0, 20000.0, 24000.0, 18000.0, 20000.0, 13500.0, 16000.0, 16000.0, 22500.0, 17000.0, 17000.0, 16000.0, 23000.0, 16000.0, 20000.0, 22000.0, 13500.0, 16000.0, 11500.0, 18000.0, 18000.0, 20000.0, 24000.0, 18000.0, 20000.0, 13500.0, 16000.0, 16000.0, 22500.0, 13000.0, 16000.0, 14000.0, 12000.0, 70000.0, 8000.0, 18000.0, 35000.0, 25500.0, 27000.0, 18000.0, 25000.0, 35000.0, 18000.0, 22000.0, 20000.0, 42000.0, 23500.0, 30000.0, 35000.0, 23000.0, 40000.0, 25000.0, 31999.0, 32000.0, 50000.0, 60000.0, 65000.0, 70000.0, 26000.0, 19000.0, 12500.0, 65000.0, 50000.0, 30000.0, 20000.0, 26000.0, 14000.0, 50000.0, 21000.0, 12000.0, 16000.0, 32000.0, 11000.0, 18000.0, 40000.0, 50000.0, 25000.0, 45000.0, 20000.0, 18000.0, 32000.0, 50000.0, 80000.0, 12000.0, 16000.0, 32000.0, 11000.0, 18000.0, 60000.0, 65000.0, 70000.0, 27000.0, 19000.0, 55000.0, 50000.0, 40000.0, 30000.0, 26000.0, 19000.0, 12500.0, 65000.0, 29000.0, 27000.0, 13000.0, 50000.0, 80000.0, 55000.0, 50000.0, 40000.0, 30000.0, 32000.0, 27000.0, 19000.0, 23000.0, 20000.0, 12000.0, 35000.0, 81000.0, 100000.0, 13000.0, 25000.0, 25000.0, 10000.0, 11550.0, 20000.0, 65000.0, 30000.0, 17000.0, 32000.0, 33000.0, 11000.0, 15000.0, 10500.0, 15000.0, 10300.0, 15500.0, 15500.0, 15500.0, 10500.0, 10500.0, 35000.0, 33000.0, 40000.0, 50000.0, 50000.0, 18000.0, 10300.0, 10300.0, 15500.0, 15500.0, 15500.0, 10500.0, 10500.0, 11000.0, 15000.0, 10500.0, 15000.0, 35000.0, 25000.0, 30000.0, 8500.0, 50000.0, 18000.0, 35000.0, 33000.0, 29000.0, 22000.0, 18000.0, 19000.0, 33000.0, 23000.0, 31000.0, 30000.0, 28000.0, 29000.0, 32000.0, 24000.0, 28000.0, 32000.0, 45000.0, 30000.0, 90000.0, 47000.0, 75000.0, 30000.0, 30000.0, 35000.0, 40000.0, 17000.0, 40000.0, 24000.0, 43000.0, 40000.0, 21000.0, 30000.0, 30000.0, 33000.0, 70000.0, 60000.0, 42000.0, 33000.0, 50000.0, 35000.0, 55000.0, 95000.0, 100000.0, 50000.0, 45000.0, 50000.0, 50000.0, 30000.0, 100000.0, 8000.0, 14000.0, 15000.0, 12000.0, 25000.0, 11730.0, 18000.0, 14000.0, 25000.0, 14000.0, 21000.0, 15000.0, 50000.0, 45000.0, 42000.0, 35000.0, 45000.0, 50000.0, 38000.0, 35000.0, 36000.0, 42000.0, 45000.0, 30000.0, 33000.0, 47000.0, 55000.0, 45000.0, 30000.0, 25000.0, 30000.0, 36000.0, 66000.0, 63000.0, 99000.0, 33000.0, 35000.0, 22000.0, 23000.0, 28000.0, 25000.0, 85000.0, 25000.0, 35000.0, 16000.0, 14000.0, 40000.0, 75000.0, 48000.0, 35000.0, 27000.0, 55000.0, 22500.0, 22500.0, 23000.0, 23000.0, 23000.0, 45000.0, 21000.0, 20000.0, 21000.0, 23000.0, 23000.0, 28000.0, 30000.0, 20000.0, 25000.0, 25000.0, 23000.0, 24000.0, 24000.0, 25000.0, 25000.0, 21000.0, 24000.0, 32000.0, 25000.0, 24000.0, 23000.0, 30000.0, 22500.0, 24000.0, 23000.0, 65000.0, 55000.0, 70000.0, 45000.0, 35000.0, 20000.0, 7500.0, 19000.0, 10000.0, 21000.0, 26000.0, 35000.0, 12000.0, 30000.0, 32000.0, 30000.0, 50000.0, 30000.0, 24300.0, 35000.0, 11000.0, 26000.0, 16000.0, 12500.0, 8000.0, 17000.0, 15000.0, 20000.0, 7500.0, 7500.0, 11500.0, 11000.0, 12500.0, 13000.0, 12000.0, 13000.0, 12000.0, 16000.0, 24000.0, 17000.0, 24000.0, 15000.0, 15000.0, 12000.0, 23000.0, 33000.0, 15000.0, 15000.0, 8500.0, 30000.0, 7500.0, 25000.0, 16000.0, 25000.0, 15000.0, 18000.0, 20000.0, 17000.0, 16000.0, 36000.0, 16500.0, 14000.0, 33000.0, 18000.0, 12000.0, 13000.0, 28000.0, 15000.0, 27000.0, 13000.0, 16000.0, 14000.0, 20000.0, 20000.0, 17000.0, 32000.0, 18000.0, 28000.0, 22000.0, 26000.0, 19000.0, 14000.0, 10000.0, 23000.0, 17000.0, 16000.0, 20000.0, 16000.0, 18000.0, 15000.0, 14500.0, 15500.0, 22000.0, 28000.0, 16000.0, 30000.0, 15000.0, 13500.0, 30000.0, 21000.0, 13000.0, 25000.0, 26000.0, 15000.0, 14000.0, 16000.0, 25000.0, 14000.0, 22000.0, 15000.0, 17000.0, 16000.0, 15500.0, 20000.0, 16000.0, 20000.0, 13500.0, 35000.0, 32000.0, 15500.0, 20000.0, 30000.0, 27000.0, 15000.0, 45000.0, 17000.0, 28000.0, 20000.0, 15000.0, 18000.0, 17000.0, 45000.0, 17000.0, 30000.0, 20000.0, 14000.0, 10000.0, 25000.0, 100000.0, 100000.0, 100000.0, 75000.0, 100000.0, 55000.0, 100000.0, 100000.0, 47000.0, 100000.0, 38000.0, 100000.0, 90000.0, 25000.0, 32000.0, 14000.0, 8500.0, 90000.0, 100000.0, 22800.0, 17000.0, 15000.0, 16000.0, 17500.0, 60000.0, 60000.0, 19000.0, 20000.0, 35000.0, 22000.0, 17000.0, 25000.0, 55000.0, 50000.0, 45000.0, 23000.0, 11000.0, 15500.0, 22000.0, 18000.0, 13000.0, 18000.0, 13500.0, 14000.0, 13520.0, 9000.0, 13000.0, 15000.0, 15000.0, 13000.0, 10000.0, 11000.0, 15000.0, 13000.0, 13000.0, 20000.0, 21000.0, 14000.0, 11000.0, 22000.0, 15000.0, 10000.0, 9000.0, 25000.0, 31000.0, 29000.0, 24000.0, 26000.0, 25000.0, 18000.0, 40000.0, 60000.0, 18000.0, 17000.0, 10500.0, 10500.0, 16500.0, 15000.0, 6500.0, 17000.0, 15000.0, 12000.0, 25000.0, 35000.0, 11000.0, 27500.0, 11000.0, 42000.0, 18000.0, 21000.0, 10000.0, 16000.0, 18500.0, 20000.0, 17500.0, 16000.0, 15000.0, 8500.0, 14100.0, 18000.0, 22000.0, 32000.0, 30000.0, 13000.0, 14000.0, 20000.0, 100000.0, 40000.0, 38000.0, 26400.0, 27000.0, 30000.0, 32000.0, 45000.0, 35000.0, 25000.0, 26000.0, 26000.0, 26500.0, 35000.0, 35000.0, 14500.0, 45000.0, 20000.0, 39000.0, 21000.0, 26500.0, 26000.0, 26000.0, 27000.0, 28000.0, 27000.0, 30000.0, 28000.0, 29000.0, 27500.0, 27000.0, 30000.0, 21000.0, 13500.0, 21505.0, 20000.0, 15000.0, 7500.0, 16500.0, 42500.0, 36500.0, 40000.0, 28000.0, 26000.0, 26000.0, 21000.0, 30000.0, 28000.0, 35000.0, 33000.0, 37800.0, 38000.0, 45000.0, 80000.0, 23000.0, 29000.0, 30000.0, 30000.0, 16500.0, 26500.0, 22000.0, 22800.0, 22000.0, 35000.0, 30000.0, 45000.0, 45000.0, 32000.0, 60000.0, 15000.0, 39000.0, 13500.0, 15000.0, 14000.0, 20000.0, 7500.0, 13000.0, 30000.0, 25125.0, 36000.0, 27000.0, 10000.0, 10500.0, 7500.0, 11000.0, 39000.0, 33000.0, 20200.0, 20000.0, 18000.0, 30500.0, 16000.0, 44500.0, 30500.0, 39000.0, 40000.0, 30000.0, 58000.0, 60000.0, 35000.0, 18100.0, 18000.0, 22000.0, 23000.0, 15000.0, 37800.0, 22000.0, 43500.0, 42500.0, 39000.0, 16500.0, 16500.0, 18000.0, 7500.0, 16500.0, 11000.0, 10500.0, 9000.0, 11500.0, 35000.0, 35000.0, 37000.0, 45000.0, 15000.0, 23000.0, 26000.0, 36000.0, 35000.0, 55000.0, 55000.0, 50000.0, 22000.0, 23000.0, 70000.0, 24500.0, 26000.0, 30000.0, 29000.0, 19000.0, 17000.0, 35000.0, 20000.0, 28500.0, 55000.0, 24000.0, 25000.0, 23000.0, 61000.0, 60000.0, 30000.0, 22000.0, 27000.0, 75000.0, 70000.0, 23000.0, 12000.0, 9000.0, 8500.0, 11500.0, 7000.0, 10000.0, 10000.0, 10500.0, 10000.0, 10000.0, 7500.0, 7500.0, 10000.0, 12000.0, 7500.0, 10000.0, 7000.0, 14000.0, 11000.0, 20000.0, 22500.0, 10000.0, 7500.0, 10000.0, 7500.0, 10000.0, 7000.0, 20000.0, 20000.0, 28000.0, 10000.0, 13500.0, 13000.0, 10500.0, 10000.0, 20000.0, 12000.0, 18000.0, 9500.0, 7000.0, 11000.0, 14500.0, 7500.0, 16000.0, 7500.0, 14000.0, 6000.0, 35000.0, 35000.0, 22000.0, 39999.0, 40000.0, 38000.0, 37500.0, 36000.0, 15000.0, 43500.0, 43000.0, 42000.0, 40000.0, 39508.0, 38500.0, 39000.0, 38500.0, 37999.0, 38000.0, 40000.0, 40000.0, 40000.0, 40000.0, 40000.0, 80000.0, 15000.0, 40000.0, 34000.0, 38000.0, 35000.0, 40000.0, 40000.0, 17000.0, 50000.0, 45000.0, 22000.0, 14000.0, 47000.0, 74000.0, 24000.0, 16000.0, 25000.0, 17000.0, 18000.0, 25000.0, 23000.0, 26000.0, 11500.0, 25000.0, 28000.0, 45000.0, 20000.0, 25000.0, 32000.0, 22000.0, 28500.0, 22000.0, 32000.0, 21000.0, 21500.0, 22000.0, 55000.0, 18000.0, 26000.0, 36000.0, 37000.0, 21000.0, 13000.0, 13000.0, 14000.0, 29000.0, 28000.0, 16000.0, 16000.0, 19000.0, 20000.0, 26000.0, 22000.0, 23000.0, 23000.0, 22000.0, 41000.0, 21000.0, 37000.0, 37000.0, 26000.0, 29000.0, 15500.0, 16000.0, 33000.0, 31000.0, 28000.0, 25000.0, 21000.0, 24000.0, 29000.0, 36000.0, 21000.0, 27000.0, 29000.0, 22000.0, 21000.0, 20000.0, 22000.0, 15500.0, 15000.0, 20000.0, 28000.0, 22000.0, 14000.0, 21000.0, 16000.0, 21000.0, 29000.0, 16000.0, 13000.0, 13000.0, 13000.0, 24000.0, 14000.0, 19000.0, 16000.0, 21000.0, 16000.0, 16000.0, 35000.0, 21000.0, 24000.0, 22000.0, 29000.0, 31000.0, 16000.0, 24000.0, 31000.0, 19000.0, 21000.0, 23000.0, 26000.0, 21000.0, 15000.0, 19000.0, 34000.0, 19000.0, 17000.0, 22000.0, 19000.0, 31000.0, 23000.0, 34000.0, 25000.0, 17000.0, 54000.0, 16000.0, 16000.0, 25000.0, 18000.0, 18000.0, 53000.0, 55000.0, 30000.0, 45000.0, 52000.0, 26000.0, 55000.0, 55000.0, 28000.0, 28000.0, 28000.0, 30000.0, 30000.0, 60000.0, 32000.0, 23500.0, 80000.0, 14000.0, 23000.0, 23500.0, 13000.0, 15000.0, 15000.0, 10000.0, 15000.0, 13000.0, 13000.0, 15000.0, 9000.0, 21000.0, 19000.0, 18000.0, 55000.0, 40000.0, 33000.0, 85000.0, 75000.0, 300000.0, 35000.0, 32000.0, 25000.0, 55000.0, 40000.0, 33000.0, 100000.0, 42000.0, 30000.0, 50000.0, 17000.0, 34000.0, 96900.0, 32000.0, 32000.0, 75000.0, 5500.0, 21000.0, 32000.0, 24000.0, 24000.0, 30000.0, 27000.0, 18000.0, 38000.0, 27000.0, 24000.0, 26800.0, 26500.0, 35000.0, 30000.0, 32000.0, 30000.0, 20000.0, 45000.0, 28000.0, 28000.0, 26500.0, 27800.0, 18000.0, 26000.0, 5000.0, 100000.0, 26000.0, 45000.0, 28000.0, 30000.0, 33000.0, 36000.0, 43000.0, 35000.0, 27000.0, 28000.0, 45000.0, 26000.0, 100000.0, 42000.0, 35000.0, 28000.0, 31000.0, 30000.0, 23000.0, 22500.0, 22050.0, 23760.0, 33000.0, 27000.0, 23000.0, 48000.0, 45000.0, 32000.0, 100000.0, 28000.0, 27000.0, 20800.0, 21840.0, 24000.0, 24150.0, 42000.0, 40000.0, 28000.0, 28800.0, 42000.0, 42000.0, 24000.0, 42000.0, 28000.0, 28000.0, 27000.0, 21000.0, 35200.0, 32000.0, 80000.0, 26000.0, 40000.0, 100000.0, 29000.0, 35000.0, 30000.0, 28000.0, 26000.0, 27000.0, 25000.0, 17000.0, 15500.0, 9000.0, 9000.0, 10000.0, 14000.0, 30000.0, 9000.0, 5000.0, 40000.0, 22000.0, 24000.0, 13500.0, 9000.0, 27000.0, 24000.0, 26000.0, 33000.0, 37000.0, 40000.0, 40000.0, 26500.0, 8500.0, 25000.0, 28000.0, 12000.0, 15000.0, 12000.0, 23500.0, 30000.0, 35000.0, 45000.0, 45000.0, 50000.0, 100000.0, 42000.0, 17500.0, 17000.0, 22000.0, 22000.0, 15000.0, 24000.0, 33000.0, 38000.0, 21000.0, 18000.0, 10000.0, 13500.0, 64000.0, 9000.0, 9000.0, 6000.0, 20000.0, 15000.0, 15000.0, 27000.0, 12000.0, 29000.0, 24000.0, 28000.0, 12000.0, 12000.0, 28000.0, 10000.0, 40000.0, 40000.0, 40000.0, 22000.0, 11000.0, 12000.0, 55000.0, 16000.0, 50000.0, 50000.0, 50000.0, 50000.0, 50000.0, 35000.0, 35000.0, 65000.0, 30000.0, 75000.0, 40000.0, 15000.0, 100000.0, 75000.0, 95000.0, 75000.0, 45000.0, 40000.0, 50000.0, 25000.0, 22000.0, 15000.0, 40000.0, 28500.0, 29999.0, 30000.0, 19800.0, 19999.0, 12000.0, 32000.0, 13000.0, 10000.0, 35000.0, 35000.0, 23000.0, 26000.0, 38000.0, 23000.0, 25000.0, 36000.0, 42000.0, 34000.0, 55000.0, 35000.0, 34000.0, 11000.0, 9500.0, 6000.0, 300000.0, 40000.0, 30000.0, 20000.0, 24000.0, 12500.0, 16000.0, 15000.0, 24000.0, 27000.0, 25000.0, 18000.0, 24000.0, 17000.0, 32000.0, 16400.0, 28500.0, 20500.0, 32000.0, 14000.0, 32000.0, 25000.0, 30000.0, 22000.0, 22000.0, 22000.0, 10000.0, 14000.0, 24000.0, 14000.0, 14000.0, 14500.0, 15000.0, 15000.0, 17000.0, 25000.0, 13000.0, 20000.0, 20000.0, 18000.0, 20000.0, 17000.0, 8000.0, 27000.0, 27000.0, 20000.0, 20000.0, 20000.0, 21000.0, 21000.0, 20500.0, 21000.0, 30000.0, 29000.0, 28000.0, 28000.0, 28000.0, 28500.0, 30000.0, 21500.0, 22000.0, 22000.0, 21500.0, 22000.0, 30000.0, 17000.0, 22000.0, 32000.0, 20000.0, 12500.0, 49000.0, 15000.0, 8000.0, 18000.0, 22000.0, 55000.0, 15000.0, 14650.0, 14600.0, 37999.0, 37999.0, 38133.0, 37888.0, 37999.0, 37988.0, 38133.0, 14500.0, 38233.0, 15000.0, 15000.0, 14000.0, 22000.0, 15000.0, 29000.0, 21000.0, 25000.0, 17000.0, 27000.0, 20000.0, 25000.0, 15500.0, 30000.0, 15000.0, 14000.0, 15000.0, 25000.0, 70000.0, 35000.0, 19000.0, 23000.0, 25000.0, 30000.0, 19000.0, 27000.0, 14000.0, 15000.0, 16500.0, 21000.0, 30000.0, 22500.0, 35000.0, 18000.0, 30000.0, 19000.0, 16000.0, 14000.0, 15000.0, 31500.0, 31999.0, 17500.0, 25000.0, 13000.0, 15000.0, 19000.0, 12000.0, 25000.0, 13100.0, 12999.0, 25000.0, 17000.0, 14000.0, 15000.0, 16000.0, 16000.0, 37000.0, 41000.0, 36000.0, 37000.0, 33000.0, 36000.0, 30000.0, 34000.0, 21000.0, 35000.0, 33000.0, 19000.0, 90000.0, 20000.0, 65000.0, 38250.0, 38250.0, 50000.0, 17500.0, 18000.0, 14000.0, 20000.0, 17000.0, 24000.0, 24000.0, 44500.0, 44000.0, 21000.0, 20000.0, 19000.0, 38000.0, 16000.0, 27000.0, 30000.0, 30000.0, 23000.0, 30000.0, 23000.0, 35000.0, 32000.0, 30000.0, 30000.0, 32000.0, 10350.0, 32000.0, 30000.0, 28000.0, 28000.0, 45000.0, 50000.0, 17500.0, 22000.0, 22000.0, 26000.0, 25000.0, 22000.0, 19000.0, 25000.0, 25000.0, 17000.0, 16000.0, 22000.0, 26000.0, 11000.0, 12000.0, 15000.0, 20000.0, 9000.0, 9000.0, 9000.0, 22000.0, 24000.0, 27000.0, 24000.0, 9000.0, 13500.0, 18000.0, 16000.0, 16000.0, 12000.0, 15000.0, 16000.0, 38320.0, 38355.0, 27000.0, 17000.0, 25000.0, 18000.0, 18000.0, 18000.0, 28000.0, 8000.0, 27000.0, 27000.0, 13000.0, 21000.0, 13000.0, 17000.0, 35000.0, 15000.0, 17000.0, 19000.0, 24000.0, 15000.0, 22000.0, 26000.0, 9000.0, 9000.0, 9000.0, 15500.0, 37000.0, 28000.0, 5500.0, 6000.0, 11500.0, 6300.0, 11000.0, 16000.0, 20000.0, 24000.0, 30000.0, 33000.0, 55000.0, 6000.0, 21500.0, 24000.0, 22000.0, 18500.0, 15000.0, 16000.0, 20000.0, 18000.0, 14000.0, 30000.0, 21000.0, 16000.0, 15000.0, 13000.0, 21700.0, 30000.0, 22000.0, 30200.0, 20900.0, 22002.0, 26500.0, 23000.0, 22500.0, 24000.0, 30000.0, 16700.0, 29000.0, 29500.0, 27000.0, 23000.0, 24000.0, 8500.0, 11000.0, 6000.0, 20000.0, 30000.0, 33000.0, 55000.0, 30000.0, 19000.0, 24000.0, 24000.0, 10500.0, 18000.0, 11000.0, 30000.0, 27000.0, 24000.0, 46000.0, 45000.0, 32000.0, 20000.0, 45000.0, 32000.0, 40000.0, 42000.0, 37000.0, 19000.0, 14000.0, 25000.0, 26000.0, 15000.0, 33000.0, 18000.0, 12000.0, 18000.0, 22000.0, 18000.0, 27000.0, 27666.0, 12000.0, 22000.0, 18500.0, 15000.0, 17500.0, 13000.0, 12000.0, 18000.0, 11000.0, 19000.0, 27666.0, 30000.0, 27000.0, 25000.0, 18000.0, 33000.0, 26000.0, 15000.0, 30000.0, 20000.0, 22000.0, 30200.0, 20900.0, 22002.0, 13000.0, 17500.0, 13000.0, 13000.0, 15000.0, 16000.0, 13000.0, 17500.0, 13000.0, 12000.0, 18000.0, 11000.0, 19000.0, 21500.0, 34000.0, 30000.0, 24000.0, 35000.0, 6000.0, 10000.0, 14000.0, 5000.0, 40000.0, 20000.0, 10000.0, 15000.0, 28000.0, 35000.0, 20000.0, 50000.0, 40000.0, 65000.0, 35000.0, 19000.0, 21000.0, 27500.0, 28000.0, 22000.0, 19000.0, 70000.0, 35000.0, 39800.0, 19950.0, 43000.0, 19000.0, 50000.0, 30000.0, 7000.0, 28000.0, 15000.0, 16000.0, 14000.0, 25000.0, 65000.0, 25000.0, 36000.0, 18000.0, 42000.0, 13000.0, 18000.0, 15000.0, 20000.0, 20000.0, 20000.0, 42000.0, 13000.0, 11500.0, 16000.0, 15000.0, 20000.0, 20000.0, 20000.0, 11500.0, 16000.0, 24500.0, 6500.0, 7000.0, 13000.0, 18000.0, 20000.0, 15000.0, 11000.0, 25000.0, 22000.0, 16000.0, 15000.0, 17000.0, 16000.0, 20000.0, 30000.0, 14000.0, 14000.0, 35000.0, 5000.0, 21000.0, 19000.0, 35000.0, 35000.0, 12000.0, 12000.0, 26000.0, 55000.0, 45000.0, 45000.0, 16000.0, 15000.0, 40000.0, 12000.0, 21000.0, 14000.0, 20000.0, 10000.0, 21000.0, 25000.0, 30000.0, 28000.0, 33000.0, 12000.0, 12000.0, 13500.0, 30000.0, 6800.0, 22000.0, 14000.0, 13000.0, 10800.0, 10800.0, 18000.0, 18000.0, 18000.0, 18000.0, 18000.0, 18000.0, 18000.0, 18000.0, 18000.0, 6500.0, 30000.0, 14000.0, 17000.0, 10000.0, 20000.0, 7000.0, 15000.0, 6500.0, 10000.0, 90000.0, 25000.0, 25000.0, 45000.0, 30000.0, 20000.0, 12000.0, 9030.0, 65000.0, 34000.0, 12000.0, 25000.0, 60000.0, 200000.0, 95000.0, 50000.0, 100000.0, 100000.0, 300000.0, 21000.0, 21000.0, 16500.0, 12000.0, 10500.0, 11000.0, 27000.0, 18000.0, 25000.0, 25000.0, 25000.0, 25000.0, 20000.0, 60000.0, 32000.0, 30000.0, 30000.0, 11500.0, 14000.0, 7000.0, 40000.0, 20000.0, 18000.0, 8000.0, 20000.0, 25000.0, 45000.0, 45000.0, 25000.0, 27000.0, 35000.0, 12000.0, 7000.0, 11000.0, 18000.0, 25000.0, 6970.0, 16000.0, 65000.0, 24000.0, 13800.0, 8000.0, 15000.0, 29000.0, 23000.0, 30000.0, 18000.0, 12000.0, 18000.0, 24000.0, 10000.0, 25000.0, 19000.0, 12000.0, 12000.0, 16500.0, 16500.0, 7000.0, 22000.0, 22000.0, 25000.0, 13000.0, 20500.0, 25000.0, 25000.0, 16000.0, 21000.0, 20000.0, 16000.0, 21250.0, 12000.0, 12000.0, 35000.0, 8000.0, 35000.0, 22500.0, 7500.0, 12000.0, 9000.0, 25000.0, 19000.0, 17000.0, 16000.0, 14000.0, 22000.0, 19500.0, 19000.0, 19000.0, 19000.0, 19000.0, 18000.0, 16000.0, 27000.0, 16000.0, 16000.0, 42000.0, 26000.0, 40000.0, 18500.0, 20000.0, 22000.0, 22000.0, 23000.0, 26000.0, 28000.0, 24000.0, 26000.0, 20000.0, 23000.0, 16000.0, 14500.0, 12000.0, 18000.0, 30000.0, 30000.0, 23000.0, 10000.0, 13000.0, 33000.0, 19000.0, 37000.0, 25000.0, 16000.0, 15000.0, 11400.0, 26000.0, 15000.0, 22000.0, 26000.0, 21000.0, 30000.0, 20000.0, 40000.0, 25000.0, 25000.0, 18000.0, 25000.0, 22000.0, 28000.0, 26000.0, 15000.0, 25000.0, 35000.0, 24000.0, 21000.0, 20000.0, 24000.0, 13500.0, 17000.0, 16000.0, 12000.0, 10000.0, 13500.0, 70000.0, 60000.0, 70000.0, 25500.0, 25550.0, 30000.0, 24000.0, 18000.0, 30000.0, 50000.0, 45000.0, 22000.0, 30000.0, 22000.0, 27000.0, 25000.0, 17000.0, 35000.0, 35000.0, 18000.0, 85000.0, 24000.0, 35000.0, 35000.0, 18000.0, 85000.0, 24000.0, 24000.0, 20000.0, 22000.0, 20000.0, 14000.0, 19800.0, 19999.0, 15250.0, 27000.0, 18000.0, 17000.0, 22000.0, 20000.0, 35000.0, 42000.0, 35000.0, 40000.0, 20000.0, 25000.0, 17500.0, 17500.0, 22000.0, 14000.0, 18000.0, 22000.0, 18000.0, 10000.0, 50000.0, 35000.0, 25500.0, 22000.0, 17000.0, 22000.0, 25000.0, 30000.0, 28000.0, 25000.0, 30000.0, 18500.0, 20000.0, 30000.0, 26500.0, 20500.0, 17000.0, 15500.0, 18000.0, 15000.0, 7300.0, 7200.0, 5000.0, 5000.0, 6913.0, 7450.0, 14000.0, 22000.0, 20000.0, 17000.0, 65000.0, 25555.0, 38170.0, 38159.0, 38159.0, 38500.0, 38159.0, 38150.0, 38100.0, 38000.0, 38200.0, 38650.0, 38650.0, 38650.0, 38500.0, 10000.0, 12000.0, 70000.0, 35000.0, 25500.0, 22000.0, 13000.0, 33000.0, 13000.0, 23000.0, 30000.0, 25000.0, 24000.0, 25000.0, 29000.0, 16000.0, 25500.0, 22000.0, 37000.0, 38500.0, 30500.0, 19000.0, 23000.0, 14000.0, 28500.0, 14500.0, 11000.0, 20000.0, 14000.0, 25500.0, 50000.0, 15500.0, 15000.0, 21000.0, 22500.0, 16500.0, 14500.0, 17000.0, 20000.0, 16000.0, 25000.0, 25000.0, 19000.0, 10000.0, 22500.0, 14500.0, 14000.0, 30000.0, 25000.0, 18500.0, 23000.0, 30000.0, 15000.0, 100000.0, 25000.0, 13500.0, 25000.0, 43000.0, 27000.0, 23000.0, 17000.0, 18000.0, 42000.0, 21750.0, 21500.0, 7000.0, 16000.0, 26000.0, 18000.0, 18500.0, 15000.0, 85000.0, 24000.0, 23000.0, 39000.0, 25000.0, 26000.0, 80000.0, 55000.0, 21000.0, 12000.0, 35000.0, 25000.0, 20000.0, 64000.0, 15000.0, 25000.0, 15000.0, 20000.0, 29999.0, 17500.0, 20700.0, 100000.0, 39999.0, 17000.0, 23000.0, 75500.0, 25000.0, 18000.0, 17950.0, 28500.0, 23000.0, 19500.0, 13000.0, 28500.0, 60000.0, 20000.0, 30000.0, 99000.0, 18000.0, 17850.0, 18000.0, 14000.0, 15000.0, 17999.0, 35000.0, 62000.0, 37000.0, 9500.0, 20000.0, 59999.0, 30000.0, 60000.0, 18100.0, 21000.0, 18350.0, 18500.0, 12500.0, 25000.0, 24999.0, 9000.0, 25000.0, 22000.0, 17999.0, 16000.0, 20000.0, 19500.0, 19900.0, 29999.0, 28000.0, 12000.0, 15500.0, 20000.0, 19999.0, 21000.0, 18000.0, 19999.0, 20000.0, 17950.0, 20000.0, 35000.0, 15000.0, 9000.0, 30000.0, 23000.0, 14000.0, 22000.0, 30000.0, 100000.0, 12000.0, 12000.0, 19000.0, 8000.0, 13000.0, 28000.0, 35000.0, 12000.0, 13500.0, 12000.0, 22000.0, 18499.0, 27000.0, 27000.0, 40000.0, 40000.0, 42000.0, 17000.0, 22000.0, 33000.0, 45000.0, 20000.0, 24000.0, 23000.0, 39000.0, 25000.0, 26000.0, 80000.0, 18000.0, 19000.0, 20000.0, 12000.0, 21000.0, 15000.0, 20000.0, 14500.0, 29000.0, 55000.0, 21000.0, 42000.0, 21750.0, 21500.0, 7000.0, 16000.0, 29000.0, 25000.0, 22000.0, 11000.0, 34900.0, 40000.0, 30000.0, 40000.0, 26000.0, 50000.0, 25000.0, 30000.0, 30000.0, 35490.0, 33000.0, 25000.0, 25000.0, 12000.0, 15000.0, 15000.0, 19000.0, 8000.0, 13000.0, 28000.0, 35000.0, 12000.0, 13500.0, 12000.0, 19000.0, 11000.0, 5000.0, 25010.0, 38002.0, 7150.0, 24915.0, 24970.0, 6900.0, 24999.0, 25000.0, 7000.0, 11000.0, 22000.0, 50000.0, 4000.0, 10000.0, 6000.0, 19000.0, 20000.0, 18000.0, 34000.0, 35000.0, 15000.0, 15000.0, 60000.0, 12000.0, 19000.0, 11000.0, 5000.0, 25010.0, 38002.0, 19999.0, 20000.0, 17950.0, 20000.0, 60000.0, 62000.0, 37000.0, 9500.0, 20000.0, 59999.0, 30000.0, 60000.0, 18100.0, 21000.0, 18350.0, 18500.0, 12500.0, 50000.0, 35000.0, 15000.0, 9500.0, 14000.0, 9500.0, 13000.0, 15000.0, 20000.0, 17000.0, 20000.0, 20000.0, 12000.0, 13000.0, 11000.0, 20000.0, 20000.0, 19000.0, 22000.0, 19000.0, 20000.0, 20000.0, 15000.0, 20000.0, 42000.0, 17000.0, 14000.0, 22000.0, 30000.0, 100000.0, 12000.0, 40000.0, 26000.0, 18000.0, 27000.0, 22000.0, 25000.0, 9000.0, 25000.0, 15000.0, 15000.0, 23000.0, 8000.0, 24000.0, 16500.0, 24000.0, 35000.0, 25000.0, 25000.0, 19000.0, 18500.0, 22000.0, 13500.0, 15000.0, 15000.0, 18000.0, 24000.0, 30000.0, 30000.0, 22000.0, 8000.0, 30000.0, 27000.0, 21000.0, 24000.0, 30000.0, 30000.0, 22000.0, 27500.0, 16000.0, 27000.0, 50000.0, 13500.0, 12000.0, 12000.0, 26000.0, 50000.0, 45000.0, 35000.0, 27000.0, 25000.0, 30000.0, 20000.0, 32000.0, 32000.0, 65500.0, 45000.0, 42000.0, 40000.0, 55000.0, 35000.0, 33000.0, 33000.0, 80000.0, 43500.0, 26780.0, 65000.0, 30000.0, 30000.0, 40000.0, 40000.0, 45000.0, 65000.0, 90000.0, 44000.0, 68000.0, 65000.0, 45000.0, 19000.0, 45000.0, 20500.0, 13000.0, 14000.0, 15000.0, 31000.0, 20000.0, 13500.0, 14000.0, 15000.0, 45000.0, 22000.0, 17000.0, 16000.0, 26000.0, 85000.0, 35000.0, 32000.0, 13000.0, 46000.0, 38000.0, 19000.0, 27000.0, 37000.0, 12000.0, 14500.0, 17000.0, 23000.0, 18000.0, 40000.0, 27000.0, 40000.0, 49000.0, 13000.0, 18000.0, 12000.0, 12000.0, 12000.0, 25000.0, 30500.0, 12500.0, 26000.0, 30000.0, 9500.0, 22000.0, 26999.0, 19000.0, 18700.0, 60000.0, 22000.0, 24000.0, 23000.0, 36000.0, 28000.0, 30000.0, 25000.0, 28000.0, 52000.0, 14500.0, 12000.0, 16500.0, 12000.0, 13500.0, 12500.0, 14500.0, 17000.0, 16000.0, 12500.0, 15500.0, 12000.0, 13000.0, 14000.0, 13000.0, 12500.0, 14000.0, 13000.0, 12500.0, 18000.0, 13500.0, 12500.0, 14000.0, 16000.0, 14500.0, 75000.0, 35000.0, 20000.0, 19000.0, 30000.0, 19000.0, 65000.0, 47000.0, 20000.0, 30000.0, 27000.0, 24000.0, 67000.0, 27500.0, 23000.0, 32000.0, 31000.0, 29500.0, 31500.0, 32000.0, 34000.0, 60000.0, 45000.0, 24000.0, 22000.0, 36000.0, 29000.0, 29000.0, 22000.0, 23000.0, 35000.0, 42000.0, 26000.0, 21000.0, 18500.0, 27000.0, 23000.0, 25000.0, 42000.0, 35000.0, 30000.0, 20000.0, 13000.0, 12800.0, 13000.0, 16000.0, 12000.0, 18500.0, 15000.0, 12000.0, 12500.0, 15000.0, 14000.0, 13000.0, 12800.0, 13000.0, 35000.0, 25000.0, 26500.0, 33500.0, 32000.0, 11000.0, 12000.0, 19000.0, 13000.0, 9000.0, 14000.0, 20000.0, 14500.0, 25500.0, 15000.0, 15000.0, 15500.0, 16000.0, 95000.0, 25000.0, 75000.0, 75000.0, 66000.0, 22000.0, 13000.0, 13000.0, 13500.0, 13000.0, 16000.0, 14500.0, 42000.0, 32000.0, 65000.0, 20000.0, 23000.0, 12000.0, 28500.0, 40000.0, 36000.0, 36000.0, 100000.0, 25000.0, 24500.0, 25000.0, 30000.0, 65000.0, 42500.0, 28700.0, 60000.0, 22000.0, 20000.0, 19500.0, 17500.0, 26000.0, 40000.0, 23000.0, 30000.0, 15000.0, 15000.0, 36000.0, 11000.0, 10000.0, 70000.0, 20000.0, 24000.0, 27000.0, 100000.0, 14000.0, 14000.0, 28000.0, 15500.0, 35000.0, 22000.0, 14000.0, 30000.0, 26000.0, 40000.0, 36500.0, 45000.0, 40000.0, 23500.0, 19500.0, 25500.0, 16500.0, 35000.0, 45000.0, 30000.0, 45000.0, 24000.0, 36800.0, 26000.0, 24000.0, 28000.0, 31500.0, 31000.0, 32000.0, 29000.0, 35000.0, 30000.0, 31000.0, 23000.0, 14000.0, 16000.0, 26000.0, 13000.0, 10000.0, 10500.0, 15000.0, 15000.0, 11000.0, 15000.0, 11000.0, 15000.0, 15000.0, 15000.0, 15000.0, 15000.0, 11000.0, 15000.0, 15000.0, 15000.0, 11000.0, 15000.0, 11000.0, 11000.0, 15000.0, 30000.0, 15000.0, 17000.0, 15000.0, 18000.0, 85000.0, 85000.0, 65000.0, 58000.0, 55000.0, 55000.0, 18500.0, 20000.0, 20000.0, 33000.0, 29000.0, 43500.0, 25000.0, 24000.0, 23000.0, 25000.0, 25000.0, 24000.0, 24000.0, 23000.0, 23000.0, 22000.0, 24500.0, 26000.0, 23999.0, 26500.0, 24000.0, 40000.0, 14000.0, 16000.0, 28000.0, 38000.0, 38000.0, 26000.0, 30000.0, 39000.0, 25500.0, 17000.0, 22000.0, 18000.0, 70000.0, 12500.0, 13800.0, 25500.0, 26000.0, 18000.0, 25000.0, 16000.0, 20000.0, 22000.0, 25000.0, 35000.0, 41000.0, 12500.0, 20000.0, 21000.0, 65000.0, 35000.0, 37000.0, 30000.0, 60000.0, 26000.0, 30000.0, 30000.0, 30000.0, 29500.0, 20000.0, 23000.0, 18000.0, 15000.0, 200000.0, 23000.0, 25000.0, 20500.0, 27000.0, 30000.0, 21000.0, 20000.0, 17000.0, 22500.0, 33000.0, 30000.0, 32000.0, 32000.0, 14000.0, 66000.0, 15000.0, 45000.0, 65000.0, 25000.0, 27200.0, 26500.0, 20000.0, 12500.0, 21500.0, 26500.0, 24000.0, 30000.0, 32500.0, 28500.0, 34000.0, 28000.0, 17000.0, 35000.0, 35000.0, 27000.0, 46000.0, 45000.0, 38000.0, 32000.0, 45000.0, 48000.0, 43000.0, 25000.0, 27000.0, 33000.0, 32000.0, 35000.0, 45000.0, 38000.0, 30000.0, 50000.0, 33500.0, 26000.0, 26000.0, 35000.0, 13000.0, 10000.0, 10000.0, 10000.0, 10000.0, 10000.0, 10000.0, 10000.0, 10000.0, 13000.0, 13000.0, 13000.0, 13000.0, 13000.0, 13000.0, 13000.0, 13000.0, 13000.0, 13000.0, 13000.0, 44000.0, 20000.0, 45000.0, 45000.0, 32000.0, 11000.0, 29000.0, 12000.0, 14000.0, 24000.0, 14000.0, 18100.0, 25000.0, 40000.0, 22500.0, 32000.0, 80000.0, 30000.0, 18000.0, 13000.0, 16000.0, 30000.0, 42000.0, 14000.0, 30000.0, 40000.0, 14500.0, 20000.0, 10000.0, 17000.0, 12000.0, 20000.0, 22000.0, 16000.0, 12000.0, 50000.0, 50000.0, 23000.0, 18000.0, 25000.0, 30000.0, 28000.0, 20000.0, 26000.0, 29000.0, 18000.0, 17500.0, 38000.0, 45000.0, 16500.0, 30000.0, 40000.0, 24000.0, 20000.0, 60000.0, 19500.0, 14000.0, 20000.0, 10000.0, 12000.0, 21000.0, 32000.0, 7500.0, 25000.0, 6500.0, 7500.0, 7500.0, 18500.0, 35000.0, 23000.0, 100000.0, 100000.0, 65000.0, 65000.0, 26500.0, 19500.0, 55000.0, 25000.0, 26500.0, 21500.0, 22000.0, 21000.0, 27000.0, 35000.0, 25000.0, 48000.0, 14000.0, 37000.0, 35000.0, 200000.0, 52000.0, 30000.0, 30000.0, 60000.0, 35000.0, 24000.0, 85000.0, 47000.0, 50000.0, 45000.0, 40000.0, 45000.0, 65000.0, 65000.0, 27000.0, 30000.0, 60000.0, 13000.0, 20000.0, 28000.0, 18000.0, 15500.0, 32000.0, 38000.0, 32000.0, 44000.0, 32000.0, 32000.0, 45000.0, 34000.0, 32000.0, 31000.0, 23000.0, 100000.0, 27000.0, 90000.0, 42000.0, 45000.0, 45000.0, 45000.0, 100000.0, 16000.0, 14000.0, 15000.0, 14000.0, 45000.0, 18000.0, 42000.0, 28000.0, 55000.0, 65000.0, 14000.0, 45000.0, 13000.0, 20500.0, 22000.0, 22000.0, 41000.0, 29000.0, 25000.0, 25500.0, 24000.0, 25600.0, 100000.0, 32800.0, 32000.0, 50000.0, 25000.0, 24000.0, 12000.0, 21000.0, 25000.0, 25000.0, 28000.0, 25000.0, 22500.0, 30000.0, 30000.0, 55000.0, 36000.0, 45000.0, 30000.0, 65000.0, 28000.0, 35000.0, 55000.0, 65000.0, 25000.0, 27000.0, 20000.0, 14500.0, 13000.0, 10000.0, 22000.0, 15000.0, 21000.0, 15500.0, 18000.0, 15000.0, 13500.0, 14000.0, 14000.0, 13000.0, 14000.0, 13000.0, 13500.0, 21000.0, 23500.0, 33880.0, 37000.0, 100000.0, 30000.0, 60000.0, 45000.0, 50000.0, 60000.0, 65000.0, 22000.0, 27000.0, 36000.0, 37000.0, 28000.0, 17500.0, 18000.0, 18100.0, 26000.0, 29000.0, 7000.0, 7000.0, 20000.0, 6000.0, 8000.0, 16000.0, 17000.0, 25000.0, 8500.0, 22000.0, 15000.0, 19000.0, 11000.0, 12500.0, 10000.0, 12000.0, 19500.0, 30000.0, 12000.0, 12000.0, 8500.0, 9000.0, 13000.0, 12000.0, 18000.0, 16000.0, 34000.0, 26000.0, 35000.0, 6500.0, 8000.0, 12000.0, 14000.0, 12000.0, 14000.0, 12000.0, 8000.0, 8500.0, 10000.0, 14000.0, 12000.0, 17000.0, 10000.0, 13000.0, 10000.0, 12500.0, 9500.0, 7000.0, 9000.0, 5500.0, 7000.0, 8250.0, 6000.0, 8000.0, 9500.0, 5200.0, 11000.0, 11000.0, 15500.0, 9000.0, 9000.0, 11000.0, 12000.0, 10500.0, 24499.0, 32000.0, 78000.0, 20000.0, 35000.0, 32000.0, 34000.0, 33000.0, 29000.0, 34000.0, 34000.0, 18000.0, 25000.0, 29000.0, 25000.0, 24000.0, 43000.0, 45000.0, 15000.0, 27000.0, 15000.0, 16000.0, 15000.0, 13000.0, 18000.0, 19000.0, 11000.0, 14000.0, 14000.0, 11000.0, 15000.0, 10000.0, 12000.0, 14000.0, 12000.0, 15000.0, 10500.0, 14000.0, 15000.0, 20000.0, 25000.0, 21000.0, 18000.0, 35000.0, 25000.0, 20000.0, 25000.0, 22000.0, 18000.0, 23000.0, 23000.0, 33000.0, 45000.0, 27000.0, 21000.0, 20000.0, 12500.0, 29000.0, 33000.0, 45000.0, 45000.0, 28000.0, 34000.0, 16500.0, 15000.0, 26000.0, 17000.0, 30000.0, 18000.0, 27000.0, 25000.0, 21000.0, 18000.0, 35000.0, 25000.0, 52000.0, 40000.0, 40000.0, 17500.0, 25000.0, 28000.0, 52000.0, 28000.0, 26000.0, 50000.0, 28000.0, 35000.0, 20000.0, 45000.0, 33000.0, 27000.0, 38000.0, 36000.0, 34000.0, 32000.0, 28000.0, 40000.0, 45000.0, 30000.0, 32000.0, 25000.0, 20000.0, 11000.0, 25000.0, 25000.0, 25500.0, 19000.0, 23000.0, 28000.0, 17500.0, 26500.0, 27000.0, 28000.0, 18000.0, 23000.0, 26000.0, 45000.0, 45000.0, 45000.0, 65000.0, 35000.0, 35000.0, 60000.0, 53000.0, 29000.0, 15000.0, 15000.0, 15000.0, 15500.0, 15000.0, 15000.0, 9500.0, 75000.0, 56000.0, 58000.0, 55000.0, 53000.0, 52000.0, 55000.0, 49980.0, 19000.0, 14000.0, 21000.0, 20000.0, 21500.0, 27000.0, 50000.0, 14000.0, 16000.0, 20000.0, 20000.0, 15000.0, 15000.0, 27000.0, 18000.0, 13000.0, 12000.0, 13000.0, 16000.0, 17000.0, 25000.0, 25000.0, 20000.0, 16000.0, 18000.0, 24000.0, 27000.0, 38000.0, 18000.0, 20000.0, 30000.0, 50000.0, 22000.0, 27000.0, 30000.0, 26000.0, 25000.0, 18000.0, 26000.0, 68000.0, 32000.0, 35000.0, 12000.0, 55000.0, 23000.0, 38000.0, 43000.0, 26000.0, 45000.0, 19000.0, 20000.0, 24000.0, 52000.0, 22000.0, 18000.0, 37000.0, 28000.0, 65000.0, 65000.0, 26000.0, 67000.0, 42000.0, 17600.0, 10600.0, 10501.0, 22000.0, 42000.0, 48000.0, 65000.0, 40000.0, 32000.0, 60000.0, 25000.0, 50000.0, 40000.0, 40000.0, 65000.0, 40000.0, 28000.0, 25000.0, 45000.0, 45000.0, 37000.0, 100000.0, 100000.0, 25000.0, 21000.0, 45000.0, 42000.0, 45000.0, 60000.0, 27000.0, 60000.0, 45000.0, 100000.0, 35000.0, 32000.0, 28000.0, 45000.0, 33000.0, 45000.0, 47000.0, 70000.0, 34000.0, 32000.0, 70000.0, 45000.0, 65000.0, 50000.0, 28000.0, 26000.0, 25000.0, 20000.0, 23000.0, 35000.0, 50000.0, 28000.0, 22000.0, 29000.0, 40000.0, 30000.0, 35000.0, 24000.0, 70000.0, 65000.0, 61000.0, 35000.0, 50000.0, 23000.0, 45000.0, 23000.0, 40000.0, 42000.0, 25000.0, 25000.0, 25000.0, 45000.0, 40000.0, 65000.0, 35000.0, 42000.0, 50000.0, 24000.0, 36000.0, 55000.0, 32000.0, 32000.0, 25000.0, 47000.0, 31000.0, 38000.0, 45000.0, 20000.0, 60000.0, 10000.0, 10322.0, 10000.0, 30000.0, 32000.0, 16000.0, 25000.0, 27000.0, 10000.0, 15000.0, 10000.0, 23000.0, 15000.0, 14000.0, 17000.0, 10000.0, 25000.0, 23000.0, 27000.0, 29000.0, 68000.0, 65000.0, 23000.0, 25600.0, 23651.0, 29000.0, 27000.0, 26311.0, 23158.0, 22000.0, 21033.0, 45000.0, 40000.0, 35000.0, 38000.0, 25000.0, 12000.0, 20000.0, 30000.0, 19000.0, 55000.0, 80000.0, 32000.0, 26000.0, 18000.0, 28000.0, 75000.0, 35000.0, 45000.0, 100000.0, 40000.0, 35000.0, 50000.0, 35000.0, 32000.0, 38000.0, 31000.0, 37000.0, 35000.0, 35000.0, 55000.0, 40000.0, 40000.0, 34000.0, 32001.0, 40000.0, 42000.0, 45000.0, 38000.0, 50000.0, 50000.0, 25000.0, 100000.0, 55000.0, 40000.0, 36000.0, 80000.0, 85000.0, 60000.0, 30000.0, 32000.0, 27000.0, 45000.0, 32000.0, 18096.0, 14000.0, 16000.0, 30000.0, 18000.0, 30000.0, 15000.0, 45000.0, 21000.0, 60000.0, 65000.0, 17000.0, 45000.0, 10000.0, 10000.0, 9000.0, 10000.0, 9000.0, 11000.0, 17500.0, 18500.0, 35000.0, 8200.0, 20000.0, 13500.0, 13000.0, 21000.0, 18000.0, 24000.0, 24500.0, 60000.0, 65000.0, 40000.0, 52000.0, 60000.0, 42000.0, 15000.0, 45000.0, 19000.0, 19000.0, 49000.0, 21000.0, 20000.0, 15000.0, 10000.0, 13500.0, 14000.0, 13000.0, 11000.0, 21000.0, 20000.0, 26000.0, 20000.0, 16000.0, 45000.0, 28032.0, 29000.0, 55000.0, 20000.0, 15000.0, 55000.0, 40000.0, 23000.0, 50000.0, 60000.0, 25000.0, 45000.0, 28000.0, 50000.0, 46000.0, 100000.0, 100000.0, 90000.0, 35000.0, 65000.0, 55000.0, 55000.0, 45000.0, 24000.0, 33000.0, 45000.0, 57000.0, 14000.0, 20000.0, 32000.0, 27000.0, 36000.0, 27500.0, 28500.0, 50000.0, 41000.0, 40000.0, 30000.0, 25000.0, 13000.0, 7500.0, 18000.0, 29000.0, 45000.0, 18000.0, 16999.0, 25112.0, 22500.0, 25300.0, 25084.0, 26000.0, 26012.0, 26310.0, 26633.0, 24000.0, 24000.0, 25100.0, 25010.0, 26003.0, 23000.0, 23001.0, 26321.0, 23123.0, 24000.0, 24899.0, 26000.0, 17000.0, 26000.0, 18000.0, 30500.0, 34500.0, 40000.0, 40000.0, 45000.0, 14000.0, 13000.0, 22000.0, 20000.0, 28000.0, 18000.0, 34000.0, 13000.0, 15000.0, 20000.0, 16000.0, 25000.0, 22500.0, 18000.0, 22000.0, 12000.0, 11500.0, 13000.0, 15500.0, 26000.0, 12000.0, 25000.0, 35000.0, 20000.0, 14000.0, 18000.0, 22000.0, 21000.0, 30000.0, 18000.0, 26000.0, 23000.0, 18000.0, 22000.0, 18000.0, 22000.0, 35000.0, 13000.0, 12500.0, 22000.0, 11500.0, 20000.0, 7500.0, 13500.0, 20000.0, 16000.0, 10500.0, 12000.0, 23000.0, 13500.0, 20000.0, 13000.0, 16000.0, 30000.0, 19000.0, 17000.0, 10500.0, 12500.0, 23000.0, 20000.0, 16000.0, 25000.0, 19000.0, 20000.0, 13000.0, 15000.0, 13000.0, 11500.0, 14000.0, 25000.0, 24000.0, 25000.0, 31000.0, 24000.0, 30000.0, 25000.0, 24000.0, 18000.0, 23000.0, 14000.0, 14000.0, 26500.0, 19000.0, 17000.0, 40000.0, 22000.0, 38000.0, 26000.0, 17008.0, 32500.0, 30500.0, 24500.0, 35000.0, 27000.0, 10500.0, 40000.0, 48000.0, 25000.0, 13500.0, 13500.0, 14000.0, 25000.0, 37000.0, 67000.0, 28000.0, 50000.0, 50000.0, 55000.0, 60000.0, 17000.0, 14000.0, 26000.0, 38000.0, 38000.0, 14000.0, 20000.0, 25000.0, 18000.0, 21000.0, 15000.0, 25000.0, 57000.0, 35000.0, 55000.0, 45000.0, 45000.0, 36000.0, 63000.0, 21000.0, 35000.0, 33000.0, 40000.0, 30000.0, 40000.0, 20000.0, 200000.0, 100000.0, 80000.0, 72000.0, 48000.0, 38000.0, 48000.0, 38000.0, 12500.0, 27000.0, 16500.0, 28000.0, 32000.0, 43000.0, 40000.0, 53000.0, 24000.0, 27000.0, 45000.0, 25000.0, 15000.0, 16000.0, 23000.0, 65000.0, 35000.0, 30000.0, 30000.0, 35000.0, 26000.0, 24000.0, 45000.0, 18000.0, 17000.0, 25000.0, 16500.0, 15000.0, 23000.0, 18500.0, 40000.0, 60000.0, 30000.0, 18000.0, 100000.0, 51000.0, 45000.0, 47000.0, 31000.0, 37000.0, 32000.0, 28000.0, 22000.0, 37000.0, 65000.0, 45000.0, 13000.0, 21000.0, 26000.0, 23000.0, 24000.0, 23000.0, 22000.0, 20000.0, 14500.0, 12000.0, 16000.0, 17000.0, 14000.0, 16500.0, 12000.0, 200000.0, 100000.0, 81000.0, 70000.0, 15000.0, 16000.0, 35000.0, 33000.0, 18500.0, 18000.0, 45000.0, 35000.0, 45000.0, 38000.0, 46000.0, 48000.0, 26000.0, 18000.0, 18000.0, 50000.0, 26000.0, 25000.0, 25500.0, 26000.0, 22000.0, 55000.0, 55000.0, 30000.0, 30000.0, 32000.0, 50000.0, 20000.0, 16000.0, 55000.0, 24000.0, 15000.0, 15000.0, 45000.0, 35000.0, 52000.0, 36000.0, 30000.0, 30000.0, 28000.0, 41000.0, 32000.0, 27000.0, 32000.0, 48000.0, 35000.0, 40000.0, 27000.0, 37000.0, 36000.0, 33000.0, 65000.0, 85000.0, 20000.0, 28000.0, 26000.0, 23000.0, 35000.0, 55000.0, 20000.0, 15000.0, 19000.0, 13000.0, 40000.0, 17000.0, 16000.0, 23000.0, 100000.0, 12000.0, 18000.0, 23000.0, 15500.0, 15918.0, 17500.0, 15000.0, 11000.0, 17000.0, 10000.0, 14000.0, 13500.0, 13000.0, 15000.0, 12000.0, 16000.0, 30000.0, 15000.0, 21000.0, 18000.0, 15500.0, 16500.0, 16000.0, 15000.0, 18000.0, 23000.0, 27000.0, 19000.0, 20000.0, 52000.0, 16000.0, 20000.0, 42000.0, 32000.0, 16999.0, 17200.0, 17003.0, 17000.0, 9500.0, 45000.0, 40000.0, 38000.0, 21000.0, 23000.0, 30000.0, 40000.0, 23000.0, 27000.0, 22000.0, 33000.0, 40000.0, 62000.0, 35000.0, 55000.0, 19000.0, 22000.0, 20000.0, 20000.0, 20000.0, 28000.0, 36000.0, 34000.0, 17500.0, 36000.0, 12000.0, 16000.0, 14000.0, 9500.0, 29450.0, 23000.0, 28000.0, 8000.0, 26000.0, 12500.0, 100000.0, 48000.0, 85000.0, 50000.0, 400000.0, 32000.0, 50000.0, 40500.0, 40000.0, 16000.0, 24000.0, 40000.0, 22000.0, 20000.0, 30000.0, 18000.0, 25000.0, 20000.0, 28000.0, 13500.0, 25000.0, 30000.0, 21000.0, 35000.0, 25000.0, 23000.0, 21000.0, 20000.0, 35000.0, 25500.0, 16000.0, 32000.0, 35000.0, 23000.0, 27000.0, 18000.0, 31500.0, 18500.0, 19500.0, 30000.0, 26000.0, 20000.0, 45000.0, 22000.0, 75000.0, 38000.0, 40000.0, 40000.0, 27000.0, 40000.0, 24000.0, 65000.0, 60000.0, 55000.0, 32000.0, 40000.0, 39000.0, 32000.0, 57000.0, 17000.0, 15000.0, 14500.0, 10000.0, 15000.0, 25000.0, 58000.0, 28000.0, 30000.0, 18000.0, 17000.0, 11000.0, 12000.0, 12000.0, 12500.0, 26000.0, 26000.0, 12500.0, 20000.0, 23000.0, 28000.0, 13000.0, 17000.0, 50000.0, 9000.0, 8500.0, 15000.0, 35000.0, 35000.0, 25000.0, 15000.0, 22000.0, 22000.0, 15000.0, 30000.0, 28000.0, 55000.0, 24000.0, 11000.0, 25000.0, 32500.0, 35000.0, 28000.0, 35000.0, 17500.0, 29000.0, 28500.0, 30000.0, 25000.0, 17500.0, 24000.0, 31000.0, 25000.0, 25000.0, 28000.0, 25500.0, 26500.0, 23500.0, 25600.0, 31000.0, 33000.0, 32000.0, 26000.0, 35000.0, 27500.0, 32000.0, 30000.0, 27000.0, 60000.0, 55000.0, 29000.0, 25000.0, 14000.0, 10000.0, 18000.0, 27000.0, 45000.0, 16500.0, 85000.0, 24000.0, 23000.0, 23000.0, 17000.0, 28500.0, 18000.0, 50000.0, 25000.0, 30500.0, 50000.0, 16800.0, 30000.0, 25000.0, 24000.0, 35000.0, 24000.0, 19000.0, 22000.0, 25500.0, 28500.0, 25500.0, 50000.0, 18000.0, 9500.0, 10000.0, 12000.0, 13000.0, 10500.0, 14000.0, 13000.0, 12500.0, 10000.0, 5000.0, 5000.0, 36000.0, 17000.0, 27000.0, 8000.0, 10000.0, 6500.0, 18000.0, 16000.0, 25500.0, 28500.0, 25500.0, 50000.0, 16000.0, 45000.0, 22000.0, 8500.0, 23000.0, 20000.0, 25000.0, 16000.0, 24000.0, 14000.0, 75000.0, 17000.0, 38000.0, 15000.0, 60000.0, 50000.0, 15000.0, 11000.0, 16000.0, 11000.0, 22000.0, 16500.0, 18000.0, 20000.0, 21000.0, 26750.0, 17000.0, 22000.0, 17500.0, 35000.0, 31000.0, 32000.0, 29000.0, 14000.0, 12000.0, 11500.0, 7000.0, 22000.0, 14000.0, 15500.0, 8300.0, 18000.0, 15000.0, 21000.0, 28000.0, 10000.0, 10000.0, 13000.0, 35000.0, 17000.0, 10000.0, 15000.0, 9500.0, 30000.0, 25000.0, 25000.0, 15500.0, 14000.0, 7500.0, 50000.0, 50000.0, 15000.0, 11000.0, 20000.0, 23000.0, 13905.0, 14000.0, 13608.0, 13608.0, 16000.0, 16000.0, 14000.0, 14000.0, 14000.0, 12000.0, 25000.0, 24000.0, 26000.0, 26000.0, 27000.0, 11500.0, 24000.0, 18000.0, 22000.0, 10000.0, 200000.0, 8500.0, 18000.0, 10000.0, 15000.0, 20000.0, 17000.0, 18000.0, 9500.0, 10000.0, 12000.0, 29000.0, 35000.0, 22000.0, 14000.0, 15500.0, 8300.0, 18000.0, 15000.0, 21000.0, 28000.0, 10000.0, 10000.0, 13000.0, 35000.0, 17000.0, 30000.0, 55000.0, 23000.0, 24000.0, 20000.0, 25000.0, 35000.0, 19000.0, 17000.0, 18000.0, 15000.0, 14500.0, 7500.0, 7000.0, 6000.0, 6500.0, 14500.0, 15000.0, 15500.0, 10800.0, 17000.0, 12500.0, 17000.0, 11500.0, 26500.0, 17500.0, 35000.0, 31000.0, 32000.0, 29000.0, 14000.0, 12000.0, 24000.0, 26000.0, 14000.0, 12000.0, 14000.0, 75000.0, 50000.0, 50000.0, 15000.0, 11000.0, 20000.0, 13905.0, 14000.0, 12000.0, 35000.0, 20000.0, 15000.0, 16000.0, 23000.0, 27000.0, 7500.0, 12000.0, 25000.0, 30000.0, 55000.0, 17100.0, 15000.0, 38000.0, 40000.0, 45000.0, 26000.0, 55000.0, 40000.0, 50000.0, 15500.0, 14500.0, 14000.0, 25000.0, 14000.0, 16500.0, 25000.0, 22000.0, 25000.0, 16000.0, 14000.0, 18000.0, 15000.0, 14000.0, 25000.0, 20000.0, 20000.0, 23000.0, 25000.0, 25000.0, 20000.0, 15500.0, 23000.0, 15000.0, 38000.0, 35000.0, 18222.0, 13000.0, 13000.0, 25000.0, 11500.0, 20000.0, 12500.0, 31000.0, 25000.0, 30000.0, 18000.0, 17500.0, 16000.0, 16000.0, 14500.0, 14500.0, 18000.0, 12500.0, 12000.0, 13000.0, 16000.0, 12000.0, 13000.0, 13000.0, 21000.0, 17000.0, 13500.0, 29000.0, 30000.0, 18500.0, 20000.0, 21000.0, 22000.0, 35000.0, 15000.0, 45000.0, 18000.0, 38000.0, 13000.0, 40000.0, 35000.0, 14000.0, 19000.0, 22000.0, 55000.0, 35000.0, 35000.0, 38000.0, 38000.0, 32000.0, 23000.0, 20000.0, 25000.0, 33000.0, 36000.0, 35000.0, 25000.0, 25000.0, 30000.0, 22000.0, 25000.0, 15000.0, 25000.0, 20000.0, 15000.0, 25000.0, 16000.0, 45000.0, 15000.0, 25000.0, 19000.0, 18000.0, 32000.0, 26000.0, 34000.0, 25500.0, 30000.0, 38000.0, 30000.0, 40000.0, 20000.0, 33000.0, 38000.0, 45000.0, 200000.0, 42000.0, 40000.0, 27000.0, 25000.0, 40000.0, 40000.0, 40000.0, 55000.0, 42000.0, 22000.0, 22000.0, 27000.0, 45000.0, 14000.0, 12000.0, 16000.0, 22000.0, 60000.0, 17000.0, 15200.0, 15001.0, 14000.0, 15000.0, 35000.0, 27000.0, 22000.0, 30000.0, 28000.0, 20000.0, 25000.0, 45000.0, 27000.0, 35000.0, 13000.0, 15000.0, 25000.0, 13000.0, 12000.0, 22000.0, 21000.0, 24000.0, 38000.0, 12000.0, 17000.0, 12000.0, 30000.0, 24000.0, 9000.0, 40000.0, 19000.0, 29900.0, 15000.0, 17000.0, 10000.0, 10000.0, 25100.0, 12000.0, 16000.0, 11500.0, 19500.0, 18000.0, 28000.0, 25000.0, 35000.0, 22000.0, 35000.0, 15000.0, 16000.0, 27000.0, 25000.0, 20000.0, 14000.0, 16000.0, 10000.0, 16000.0, 20000.0, 12000.0, 11000.0, 19000.0, 20000.0, 14000.0, 13000.0, 25000.0, 30000.0, 30000.0, 28000.0, 26000.0, 40500.0, 14000.0, 15000.0, 25000.0, 35000.0, 17000.0, 16000.0, 18000.0, 17000.0, 16000.0, 27000.0, 27000.0, 60000.0, 26500.0, 20000.0, 20000.0, 14000.0, 21000.0, 20000.0, 15000.0, 40000.0, 36000.0, 25000.0, 30000.0, 18000.0, 12000.0, 15000.0, 23000.0, 21000.0, 35000.0, 38000.0, 18000.0, 10000.0, 35000.0, 10000.0, 30000.0, 20000.0, 25000.0, 21000.0, 19000.0, 12500.0, 11000.0, 12500.0, 16000.0, 15000.0, 12000.0, 11000.0, 14500.0, 14000.0, 12000.0, 14500.0, 20000.0, 18000.0, 40000.0, 15000.0, 14000.0, 10000.0, 9000.0, 18000.0, 65000.0, 50000.0, 21000.0, 45000.0, 18000.0, 49000.0, 42000.0, 45000.0, 65000.0, 15000.0, 15000.0, 15000.0, 8500.0, 20000.0, 25000.0, 45000.0, 30000.0, 25000.0, 36000.0, 14000.0, 35000.0, 19500.0, 18500.0, 19500.0, 20500.0, 52000.0, 40000.0, 80000.0, 32000.0, 35000.0, 14000.0, 40000.0, 30000.0, 16000.0, 60000.0, 45000.0, 21000.0, 37000.0, 20000.0, 25000.0, 25000.0, 23000.0, 15000.0, 20000.0, 14000.0, 7000.0, 20500.0, 21500.0, 26500.0, 45000.0, 35000.0, 17000.0, 24000.0, 35000.0, 45000.0, 25000.0, 23000.0, 20000.0, 25500.0, 24500.0, 7000.0, 11000.0, 45000.0, 42000.0, 17000.0, 30000.0, 33000.0, 30000.0, 40000.0, 21000.0, 23000.0, 20000.0, 48000.0, 20000.0, 35500.0, 26000.0, 15500.0, 23500.0, 26000.0, 36000.0, 46000.0, 12000.0, 25000.0, 25000.0, 20000.0, 23000.0, 21000.0, 23000.0, 25500.0, 24500.0, 37000.0, 29000.0, 14000.0, 22000.0, 14000.0, 18000.0, 14000.0, 30000.0, 38000.0, 31000.0, 50000.0, 35000.0, 16000.0, 45000.0, 23000.0, 20000.0, 14000.0, 13000.0, 14000.0, 18000.0, 25000.0, 25000.0, 13000.0, 11500.0, 22000.0, 13000.0, 15000.0, 14500.0, 10000.0, 10000.0, 12000.0, 9000.0, 8000.0, 12000.0, 12000.0, 12500.0, 16000.0, 13000.0, 15000.0, 10000.0, 12000.0, 10000.0, 18000.0, 14000.0, 11000.0, 14000.0, 9500.0, 12500.0, 22000.0, 18000.0, 11000.0, 22000.0, 9000.0, 10500.0, 12000.0, 11000.0, 12000.0, 17000.0, 16000.0, 15500.0, 22000.0, 13500.0, 14000.0, 12000.0, 22000.0, 17000.0, 15000.0, 14000.0, 14500.0, 10000.0, 18000.0, 13000.0, 20000.0, 14000.0, 12000.0, 12000.0, 21000.0, 17000.0, 14000.0, 15000.0, 13000.0, 9000.0, 18500.0, 11000.0, 11000.0, 10000.0, 8500.0, 10000.0, 12000.0, 12000.0, 15000.0, 10500.0, 15500.0, 13000.0, 12000.0, 13000.0, 12500.0, 21000.0, 20000.0, 13000.0, 10500.0, 14000.0, 12500.0, 18000.0, 13000.0, 15000.0, 13000.0, 12000.0, 20000.0, 13500.0, 16000.0, 16000.0, 13000.0, 13500.0, 10000.0, 13500.0, 14000.0, 13000.0, 14000.0, 21000.0, 15000.0, 14000.0, 13000.0, 11500.0, 22000.0, 13000.0, 15000.0, 14500.0, 10000.0, 10000.0, 12000.0, 9000.0, 20000.0, 13500.0, 16000.0, 16000.0, 13000.0, 13500.0, 10000.0, 13500.0, 14000.0, 13000.0, 14000.0, 21000.0, 15000.0, 14500.0, 13000.0, 12500.0, 14000.0, 14500.0, 16000.0, 17000.0, 14000.0, 13000.0, 12000.0, 22000.0, 14000.0, 21000.0, 14000.0, 12000.0, 13000.0, 10000.0, 11000.0, 17500.0, 18500.0, 10000.0, 11000.0, 18500.0, 10500.0, 18000.0, 12000.0, 15000.0, 15000.0, 11500.0, 17500.0, 12000.0, 15000.0, 9500.0, 13000.0, 14000.0, 20000.0, 12000.0, 13000.0, 22000.0, 5500.0, 11000.0, 15000.0, 10000.0, 30000.0, 24000.0, 12000.0, 15000.0, 16000.0, 12000.0, 15000.0, 15000.0, 12000.0, 11000.0, 13500.0, 20000.0, 21000.0, 19000.0, 35000.0, 20000.0, 18000.0, 15500.0, 25000.0, 45000.0, 18000.0, 26500.0, 16500.0, 26000.0, 26500.0, 25000.0, 12000.0, 9000.0, 14000.0, 10000.0, 25000.0, 18111.0, 40000.0, 40000.0, 15000.0, 8500.0, 75000.0, 200000.0, 25000.0, 9000.0, 11000.0, 40000.0, 35000.0, 42000.0, 36000.0, 45000.0, 32000.0, 40000.0, 14000.0, 20000.0, 24000.0, 38000.0, 60000.0, 45000.0, 42000.0, 32000.0, 45000.0, 20000.0, 18000.0, 17000.0, 38000.0, 18000.0, 31000.0, 25000.0, 50000.0, 50000.0, 24610.0, 42000.0, 70000.0, 100000.0, 95000.0, 17000.0, 7000.0, 35000.0, 50000.0, 16500.0, 40000.0, 24000.0, 33000.0, 23000.0, 50000.0, 65000.0, 17000.0, 19500.0, 36000.0, 35000.0, 65000.0, 59800.0, 23000.0, 25000.0, 18000.0, 29500.0, 45000.0, 45000.0, 11000.0, 40000.0, 36000.0, 35000.0, 26100.0, 18000.0, 13000.0, 16000.0, 27000.0, 18000.0, 35000.0, 16700.0, 27000.0, 28000.0, 18000.0, 18000.0, 16000.0, 17000.0, 35000.0, 15000.0, 30000.0, 14000.0, 19000.0, 36000.0, 85000.0, 34000.0, 75000.0, 40000.0, 28000.0, 70000.0, 32000.0, 60000.0, 100000.0, 95000.0, 19000.0, 16000.0, 20000.0, 25000.0, 26100.0, 18000.0, 13000.0, 36000.0, 35000.0, 15840.0, 15000.0, 52000.0, 22000.0, 22000.0, 12500.0, 24000.0, 12300.0, 16500.0, 18000.0, 16700.0, 27000.0, 25000.0, 100000.0, 100000.0, 80000.0, 100000.0, 25000.0, 19000.0, 20000.0, 18000.0, 11000.0, 43000.0, 36000.0, 35000.0, 40000.0, 40000.0, 57500.0, 32500.0, 31500.0, 33000.0, 42000.0, 44000.0, 19500.0, 25000.0, 22000.0, 22000.0, 12500.0, 24000.0, 38000.0, 28000.0, 23000.0, 18000.0, 35000.0, 25000.0, 35000.0, 17000.0, 22500.0, 75000.0, 14000.0, 30000.0, 23000.0, 32000.0, 15000.0, 11000.0, 9000.0, 30000.0, 32100.0, 30200.0, 14000.0, 14000.0, 10500.0, 11500.0, 14000.0, 18000.0, 9000.0, 8500.0, 11000.0, 10500.0, 12500.0, 11000.0, 11500.0, 9000.0, 17000.0, 21000.0, 31000.0, 65000.0, 9500.0, 15000.0, 18000.0, 27000.0, 7200.0, 9000.0, 7000.0, 8500.0, 15000.0, 10000.0, 15000.0, 11000.0, 11000.0, 15000.0, 11000.0, 25000.0, 14000.0, 12000.0, 35000.0, 18000.0, 85000.0, 95000.0, 20000.0, 15000.0, 28000.0, 13000.0, 16000.0, 25000.0, 16000.0, 16000.0, 70000.0, 90000.0, 35000.0, 65000.0, 30000.0, 60000.0, 15000.0, 26000.0, 22000.0, 22000.0, 27000.0, 11000.0, 38000.0, 23000.0, 30000.0, 35000.0, 15000.0, 38000.0, 30000.0, 20000.0, 35000.0, 12000.0, 17000.0, 32000.0, 35000.0, 21000.0, 15500.0, 15000.0, 25000.0, 22000.0, 17000.0, 30000.0, 30000.0, 20000.0, 6500.0, 14000.0, 20000.0, 23500.0, 20000.0, 18000.0, 19000.0, 12000.0, 40000.0, 30000.0, 30000.0, 21000.0, 18000.0, 25000.0, 18000.0, 15000.0, 15000.0, 15000.0, 14000.0, 20000.0, 17000.0, 20000.0, 15000.0, 15000.0, 13000.0, 14000.0, 15000.0, 26500.0, 22000.0, 15000.0, 18200.0, 18000.0, 33000.0, 24000.0, 20000.0, 26000.0, 30000.0, 55000.0, 23000.0, 80000.0, 37000.0, 35000.0, 35000.0, 30000.0, 30000.0, 28000.0, 35000.0, 45000.0, 28000.0, 42000.0, 32000.0, 100000.0, 19000.0, 35000.0, 67000.0, 34000.0, 23000.0, 35000.0, 42000.0, 38000.0, 23000.0, 30000.0, 35000.0, 15000.0, 38000.0, 30000.0, 20000.0, 35000.0, 12000.0, 17000.0, 32000.0, 35000.0, 21000.0, 15500.0, 15000.0, 25000.0, 22000.0, 17000.0, 30000.0, 30000.0, 20000.0, 6500.0, 35000.0, 6400.0, 45000.0, 40000.0, 25000.0, 50000.0, 14000.0, 20000.0, 23500.0, 20000.0, 18000.0, 45000.0, 26000.0, 30000.0, 22000.0, 18000.0, 17500.0, 29500.0, 25500.0, 23000.0, 20000.0, 24500.0, 18000.0, 15000.0, 21000.0, 40000.0, 30000.0, 32000.0, 26000.0, 40000.0, 30000.0, 35000.0, 17000.0, 200000.0, 8000.0, 8000.0, 18000.0, 35000.0, 13500.0, 15000.0, 11000.0, 15500.0, 12000.0, 12000.0, 18000.0, 16000.0, 100000.0, 12000.0, 12000.0, 12500.0, 13500.0, 14000.0, 9000.0, 9500.0, 13000.0, 11000.0, 8000.0, 18500.0, 15000.0, 10000.0, 10000.0, 14000.0, 15000.0, 14500.0, 12500.0, 14000.0, 13000.0, 20000.0, 21000.0, 15000.0, 9000.0, 10000.0, 15000.0, 16000.0, 14500.0, 16000.0, 12500.0, 18000.0, 12000.0, 5500.0, 6500.0, 43000.0, 60000.0, 18000.0, 15000.0, 25000.0, 15000.0, 25000.0, 28000.0, 21000.0, 17000.0, 22000.0, 13000.0, 12000.0, 11500.0, 15000.0, 18000.0, 15000.0, 11000.0, 16000.0, 11500.0, 10000.0, 12000.0, 10500.0, 12000.0, 32000.0, 25000.0, 22000.0, 22000.0, 15000.0, 11500.0, 22000.0, 19000.0, 17000.0, 11500.0, 20000.0, 12000.0, 11000.0, 11000.0, 12000.0, 15000.0, 14500.0, 16000.0, 15500.0, 16000.0, 15500.0, 14000.0, 18000.0, 12500.0, 18500.0, 14500.0, 15000.0, 16000.0, 15000.0, 15500.0, 15000.0, 10000.0, 11000.0, 11500.0, 11500.0, 13000.0, 21000.0, 27000.0, 28000.0, 15000.0, 16000.0, 11000.0, 15000.0, 14000.0, 12000.0, 25000.0, 15000.0, 25000.0, 13000.0, 25000.0, 25000.0, 23000.0, 16000.0, 15000.0, 11000.0, 18500.0, 16000.0, 16500.0, 16000.0, 8000.0, 12000.0, 14000.0, 28000.0, 15000.0, 18000.0, 10000.0, 16000.0, 28000.0, 100000.0, 22000.0, 16000.0, 23000.0, 23000.0, 20000.0, 11000.0, 11000.0, 16000.0, 15000.0, 16000.0, 11000.0, 15000.0, 14000.0, 23000.0, 21000.0, 26000.0, 23000.0, 27000.0, 21000.0, 18000.0, 26000.0, 16000.0, 22000.0, 35000.0, 17000.0, 25000.0, 25000.0, 23000.0, 16000.0, 15000.0, 11000.0, 18500.0, 16000.0, 16500.0, 16000.0, 15000.0, 18000.0, 13000.0, 9500.0, 35000.0, 28500.0, 25000.0, 28000.0, 16500.0, 21000.0, 20000.0, 15000.0, 15000.0, 11000.0, 16000.0, 18000.0, 16000.0, 14500.0, 10500.0, 14500.0, 11000.0, 21000.0, 14500.0, 11500.0, 16000.0, 18500.0, 24000.0, 32000.0, 22000.0, 11000.0, 16000.0, 15000.0, 27000.0, 28000.0, 13000.0, 15000.0, 39000.0, 23000.0, 35000.0, 45000.0, 55000.0, 45000.0, 18000.0, 10000.0, 13000.0, 12000.0, 12000.0, 12000.0, 25000.0, 15000.0, 43000.0, 9000.0, 42000.0, 30000.0, 15000.0, 18200.0, 18000.0, 15000.0, 12000.0, 17000.0, 20000.0, 28000.0, 20000.0, 21000.0, 15000.0, 15000.0, 22000.0, 25000.0, 20000.0, 12000.0, 11000.0, 13000.0, 14000.0, 13000.0, 13000.0, 17000.0, 15000.0, 17000.0, 13000.0, 14000.0, 32000.0, 14000.0, 15000.0, 24000.0, 18000.0, 14000.0, 17000.0, 15000.0, 17000.0, 18000.0, 12000.0, 10500.0, 7500.0, 14500.0, 17500.0, 15000.0, 35000.0, 11000.0, 23000.0, 20000.0, 20000.0, 13000.0, 33000.0, 22000.0, 27500.0, 23000.0, 24000.0, 34000.0, 24500.0, 24000.0, 25500.0, 33000.0, 17000.0, 16000.0, 35000.0, 12000.0, 11000.0, 20000.0, 25000.0, 25100.0, 19000.0, 24000.0, 16000.0, 20100.0, 14000.0, 19000.0, 15400.0, 18010.0, 21500.0, 18000.0, 15000.0, 12500.0, 18000.0, 13500.0, 44000.0, 17500.0, 15000.0, 45000.0, 16000.0, 8000.0, 29000.0, 5000.0, 13000.0, 25000.0, 35000.0, 47000.0, 32000.0, 15000.0, 55000.0, 16000.0, 43000.0, 10000.0, 17000.0, 44000.0, 20000.0, 25000.0, 25100.0, 19000.0, 24000.0, 16000.0, 20100.0, 14000.0, 19000.0, 15400.0, 18010.0, 21500.0, 18000.0, 15000.0, 12500.0, 18000.0, 13500.0, 17000.0, 22000.0, 27500.0, 23000.0, 24000.0, 34000.0, 24500.0, 24000.0, 25500.0, 33000.0, 17000.0, 16000.0, 20000.0, 11000.0, 22000.0, 14500.0, 20000.0, 16000.0, 16000.0, 19000.0, 21800.0, 25000.0, 32000.0, 12000.0, 5500.0, 8500.0, 8000.0, 15000.0, 7000.0, 18000.0, 18000.0, 11000.0, 10400.0, 11005.0, 14500.0, 10300.0, 35000.0, 50000.0, 15500.0, 15000.0, 15500.0, 15000.0, 15000.0, 17000.0, 15000.0, 17000.0, 22000.0, 16000.0, 5500.0, 8500.0, 8000.0, 15000.0, 7000.0, 18000.0, 22000.0, 14000.0, 13000.0, 12500.0, 15000.0, 16500.0, 23000.0, 20000.0, 11000.0, 24000.0, 16000.0, 17000.0, 20000.0, 13000.0, 4000.0, 18000.0, 10000.0, 10000.0, 10000.0, 12500.0, 12000.0, 35000.0, 18000.0, 11000.0, 10400.0, 11005.0, 14500.0, 10300.0, 14000.0, 14500.0, 14500.0, 15000.0, 24000.0, 22000.0, 14500.0, 13500.0, 28000.0, 18500.0, 18000.0, 22000.0, 85000.0, 100000.0, 80000.0, 80000.0, 15000.0, 35000.0, 65000.0, 50000.0, 13000.0, 12000.0, 17000.0, 12000.0, 22000.0, 18000.0, 17000.0, 15000.0, 15000.0, 18000.0, 18000.0, 12000.0, 25000.0, 35000.0, 12000.0, 10000.0, 9500.0, 10000.0, 25000.0, 23000.0, 19000.0, 100000.0, 25000.0, 12000.0, 12200.0, 31500.0, 100000.0, 30000.0, 32000.0, 35000.0, 32000.0, 38000.0, 27000.0, 8000.0, 10500.0, 13500.0, 11000.0, 12000.0, 18000.0, 14000.0, 14000.0, 15000.0, 13000.0, 14000.0, 14000.0, 12000.0, 9500.0, 14000.0, 15000.0, 11000.0, 22000.0, 30000.0, 15000.0, 100000.0, 13000.0, 25000.0, 8000.0, 27000.0, 33000.0, 45000.0, 50000.0, 40000.0, 30000.0, 50000.0, 20000.0, 23000.0, 13000.0, 14500.0, 13000.0, 9000.0, 19000.0, 15000.0, 12000.0, 25000.0, 45000.0, 100000.0, 100000.0, 15000.0, 100000.0, 13000.0, 13000.0, 12500.0, 27000.0, 40000.0, 95000.0, 60000.0, 60000.0, 90000.0, 70000.0, 26500.0, 45000.0, 17500.0, 45000.0, 55000.0, 65000.0, 12000.0, 12000.0, 25000.0, 25500.0, 100000.0, 20000.0, 11999.0, 11999.0, 22000.0, 20000.0, 13500.0, 24000.0, 35000.0, 11500.0, 27000.0, 30000.0, 40000.0, 43000.0, 60000.0, 75000.0, 12500.0, 100000.0, 40000.0, 35000.0, 20000.0, 16000.0, 33000.0, 81000.0, 100000.0, 15000.0, 16000.0, 20000.0, 23000.0, 20000.0, 17000.0, 40000.0, 35000.0, 28000.0, 25000.0, 29000.0, 17000.0, 48000.0, 16000.0, 22000.0, 26000.0, 37000.0, 16000.0, 26000.0, 25500.0, 31000.0, 27500.0, 22000.0, 16000.0, 17000.0, 13500.0, 26500.0, 35000.0, 15500.0, 15500.0, 10500.0, 20000.0, 32000.0, 30000.0, 60000.0, 60000.0, 40000.0, 25000.0, 24000.0, 8000.0, 24000.0, 14500.0, 12500.0, 13500.0, 12500.0, 12000.0, 13500.0, 8700.0, 12500.0, 12000.0, 12000.0, 31000.0, 13000.0, 13000.0, 8000.0, 8000.0, 13000.0, 30000.0, 35000.0, 30000.0, 13000.0, 12000.0, 33000.0, 22500.0, 25000.0, 18000.0, 12000.0, 12500.0, 30000.0, 27000.0, 18000.0, 19000.0, 12000.0, 26000.0, 24000.0, 22000.0, 21000.0, 25500.0, 22000.0, 21000.0, 26000.0, 25000.0, 24000.0, 25000.0, 24000.0, 23000.0, 23500.0, 22000.0, 23000.0, 26500.0, 26000.0, 47000.0, 50000.0, 23500.0, 36000.0, 19000.0, 25000.0, 12000.0, 20000.0, 20000.0, 25000.0, 20000.0, 24000.0, 22000.0, 21000.0, 20000.0, 50000.0, 45000.0, 15500.0, 75000.0, 100000.0, 45000.0, 28000.0, 28000.0, 24000.0, 17000.0, 11000.0, 12000.0, 18500.0, 17000.0, 17000.0, 10000.0, 10000.0, 13000.0, 6000.0, 10000.0, 19000.0, 22000.0, 15000.0, 19000.0, 16000.0, 17500.0, 14000.0, 21000.0, 26000.0, 36000.0, 12000.0, 26000.0, 29500.0, 22000.0, 33000.0, 30000.0, 45000.0, 22500.0, 39500.0, 18000.0, 20000.0, 11000.0, 19500.0, 19000.0, 18500.0, 18000.0, 22500.0, 12000.0, 19000.0, 17000.0, 19500.0, 30000.0, 25999.0, 45000.0, 18000.0, 11000.0, 12000.0, 12000.0, 11000.0, 11000.0, 11500.0, 10000.0, 10000.0, 11000.0, 10000.0, 19000.0, 18000.0, 10000.0, 10000.0, 9000.0, 8000.0, 9000.0, 12000.0, 10000.0, 9000.0, 9000.0, 9000.0, 9500.0, 33000.0, 21000.0, 8000.0, 100000.0, 100000.0, 13000.0, 13000.0, 55000.0, 13000.0, 27000.0, 19000.0, 17000.0, 13000.0, 22000.0, 11000.0, 25000.0, 13000.0, 22000.0, 14500.0, 25000.0, 23000.0, 25000.0, 25000.0, 11000.0, 22000.0, 12000.0, 13000.0, 27000.0, 19000.0, 17000.0, 11000.0, 70000.0, 20000.0, 17500.0, 24000.0, 23000.0, 16000.0, 20000.0, 19000.0, 35000.0, 18000.0, 20000.0, 27000.0, 23000.0, 13000.0, 25000.0, 28000.0, 17000.0, 17000.0, 35000.0, 39000.0, 30000.0, 25000.0, 28000.0, 28000.0, 16500.0, 29000.0, 25000.0, 14000.0, 35000.0, 25000.0, 25000.0, 48000.0, 36000.0, 35000.0, 16500.0, 20000.0, 25000.0, 25000.0, 30000.0, 50000.0, 22500.0, 60000.0, 23000.0, 25000.0, 22500.0, 11500.0, 18000.0, 35000.0, 15000.0, 26000.0, 19000.0, 21000.0, 14000.0, 23000.0, 19000.0, 23000.0, 20000.0, 16500.0, 24000.0, 23000.0, 11500.0, 17000.0, 21000.0, 21000.0, 22000.0, 25000.0, 19000.0, 50000.0, 15500.0, 12500.0, 15500.0, 19000.0, 28000.0, 45000.0, 18500.0, 13000.0, 200000.0, 30000.0, 300000.0, 35000.0, 100000.0, 17000.0, 55000.0, 15000.0, 15000.0, 36000.0, 50000.0, 28000.0, 32000.0, 18000.0, 12500.0, 25000.0, 13000.0, 40000.0, 25000.0, 28000.0, 20000.0, 25000.0, 26000.0, 23500.0, 19500.0, 18500.0, 16500.0, 13000.0, 16500.0, 13500.0, 14000.0, 21500.0, 16000.0, 11000.0, 16000.0, 12500.0, 16000.0, 24000.0, 24000.0, 18000.0, 17000.0, 22000.0, 12500.0, 15000.0, 23000.0, 22000.0, 36500.0, 18500.0, 20000.0, 18000.0, 16000.0, 11000.0, 12500.0, 200000.0, 12500.0, 13500.0, 28000.0, 20000.0, 26000.0, 26000.0, 18000.0, 50000.0, 11000.0, 15500.0, 15500.0, 30000.0, 30000.0, 20000.0, 27000.0, 15500.0, 18000.0, 13000.0, 18000.0, 22000.0, 18000.0, 16000.0, 17000.0, 16500.0, 19000.0, 25000.0, 12000.0, 100000.0, 25000.0, 25000.0, 27000.0, 11000.0, 12000.0, 5000.0, 4500.0, 5500.0, 5000.0, 15000.0, 9000.0, 8000.0, 9000.0, 14000.0, 6000.0, 17000.0, 35000.0, 8000.0, 35000.0, 4500.0, 17000.0, 4500.0, 12500.0, 23000.0, 28000.0, 24000.0, 33000.0, 30000.0, 25000.0, 20000.0, 14000.0, 8500.0, 8500.0, 8500.0, 16000.0, 20000.0, 28000.0, 14500.0, 40000.0, 26000.0, 40000.0, 55000.0, 45000.0, 22000.0, 22000.0, 23000.0, 20000.0, 26000.0, 35000.0, 23000.0, 33000.0, 30000.0, 30000.0, 32000.0, 30000.0, 20000.0, 21000.0, 28500.0, 35000.0, 23000.0, 24000.0, 20000.0, 25500.0, 24000.0, 20000.0, 25000.0, 27000.0, 20000.0, 20000.0, 30000.0, 30000.0, 24000.0, 23000.0, 24000.0, 36000.0, 25000.0, 22000.0, 23500.0, 25000.0, 30000.0, 24000.0, 21000.0, 21000.0, 24000.0, 28000.0, 22000.0, 23500.0, 25000.0, 30000.0, 24000.0, 21000.0, 21000.0, 24000.0, 28000.0, 27000.0, 19000.0, 30000.0, 29000.0, 25000.0, 23000.0, 19000.0, 28500.0, 26500.0, 20000.0, 24000.0, 28500.0, 24000.0, 31000.0, 30000.0, 25000.0, 21000.0, 24000.0, 25000.0, 20000.0, 23000.0, 33000.0, 33000.0, 24000.0, 20000.0, 30000.0, 23000.0, 30000.0, 28000.0, 24000.0, 26000.0, 20000.0, 19500.0, 23000.0, 18500.0, 18500.0, 25000.0, 16000.0, 18000.0, 24000.0, 19000.0, 13000.0, 24000.0, 22000.0, 14500.0, 40000.0, 26000.0, 40000.0, 55000.0, 45000.0, 22000.0, 18500.0, 19500.0, 18500.0, 24000.0, 19500.0, 20000.0, 19500.0, 23000.0, 18500.0, 18500.0, 25000.0, 16000.0, 22000.0, 23000.0, 16000.0, 16500.0, 15000.0, 16000.0, 18000.0, 17000.0, 20000.0, 23000.0, 22000.0, 18000.0, 24000.0, 19000.0, 13000.0, 19000.0, 20000.0, 19000.0, 28000.0, 24000.0, 27000.0, 30000.0, 26000.0, 21000.0, 19000.0, 25000.0, 24000.0, 27000.0, 24000.0, 27000.0, 26500.0, 27000.0, 30000.0, 30000.0, 28000.0, 25000.0, 20000.0, 25000.0, 27000.0, 28000.0, 25000.0, 20000.0, 27000.0, 35000.0, 25000.0, 33000.0, 30000.0, 19000.0, 23000.0, 19000.0, 19500.0, 20000.0, 21000.0, 20000.0, 30000.0, 23000.0, 46000.0, 15000.0, 17000.0, 17000.0, 10000.0, 12000.0, 26000.0, 25000.0, 18000.0, 38000.0, 15000.0, 20000.0, 75000.0, 25000.0, 20000.0, 16000.0, 32000.0, 25000.0, 14000.0, 12000.0, 22000.0, 16000.0, 23000.0, 60000.0, 20000.0, 18000.0, 9000.0, 45000.0, 16000.0, 14000.0, 14000.0, 9000.0, 5000.0, 8000.0, 45000.0, 35000.0, 28000.0, 21000.0, 23000.0, 26000.0, 21000.0, 23000.0, 22000.0, 20000.0, 38000.0, 100000.0, 28000.0, 31000.0, 21000.0, 27000.0, 25000.0, 23000.0, 23000.0, 85000.0, 27000.0, 75000.0, 27000.0, 65000.0, 9000.0, 13000.0, 23500.0, 13000.0, 22000.0, 22000.0, 20000.0, 70000.0, 22000.0, 25000.0, 24000.0, 26000.0, 13500.0, 48000.0, 48000.0, 24000.0, 17500.0, 23000.0, 12500.0, 18500.0, 22000.0, 13500.0, 16000.0, 12500.0, 27000.0, 57000.0, 13000.0, 12000.0, 45000.0, 45000.0, 18000.0, 24000.0, 21000.0, 18000.0, 18500.0, 22000.0, 7000.0, 13500.0, 15000.0, 16000.0, 12500.0, 12500.0, 25000.0, 11000.0, 45000.0, 45000.0, 20000.0, 19000.0, 57000.0, 13000.0, 12000.0, 12000.0, 10000.0, 15000.0, 15000.0, 14000.0, 8000.0, 8500.0, 8500.0, 12500.0, 25000.0, 20000.0, 19000.0, 15000.0, 12000.0, 10000.0, 34000.0, 9500.0, 18000.0, 24000.0, 25000.0, 97000.0, 97000.0, 25000.0, 20000.0, 35000.0, 15000.0, 15000.0, 20000.0, 8000.0, 23000.0, 9000.0, 15000.0, 10500.0, 8000.0, 14000.0, 15500.0, 8500.0, 12000.0, 26000.0, 5500.0, 21000.0, 25000.0, 3000.0, 3000.0, 26000.0, 15000.0, 14000.0, 20000.0, 100000.0, 40000.0, 21000.0, 25000.0, 16500.0, 13500.0, 19000.0, 11000.0, 18000.0, 10000.0, 27100.0, 24500.0, 24500.0, 20000.0, 21000.0, 13000.0, 13000.0, 12000.0, 17000.0, 17100.0, 14500.0, 22000.0, 17000.0, 17100.0, 24000.0, 31000.0, 13000.0, 40000.0, 18000.0, 18500.0, 16500.0, 20000.0, 29000.0, 56000.0, 16000.0, 40000.0, 20000.0, 32000.0, 30000.0, 12000.0, 13000.0, 7500.0, 40000.0, 18000.0, 22000.0, 22000.0, 37000.0, 20000.0, 20000.0, 42000.0, 11000.0, 65000.0, 25000.0, 19000.0, 37720.0, 75000.0, 75000.0, 14000.0, 9000.0, 17000.0, 12000.0, 19000.0, 30000.0, 60000.0, 23100.0, 20200.0, 9000.0, 14000.0, 26000.0, 24500.0, 20000.0, 20000.0, 42000.0, 11000.0, 34200.0, 9000.0, 30000.0, 18000.0, 24000.0, 31000.0, 13000.0, 43000.0, 10000.0, 37000.0, 42000.0, 30000.0, 12000.0, 9000.0, 8000.0, 75000.0, 40000.0, 42000.0, 35000.0, 30000.0, 34200.0, 37000.0, 75000.0, 14000.0, 17000.0, 28000.0, 15000.0, 27000.0, 23500.0, 28000.0, 44000.0, 36000.0, 100000.0, 36000.0, 11000.0, 24000.0, 21000.0, 23500.0, 25000.0, 42000.0, 25000.0, 25000.0, 19000.0, 37720.0, 32000.0, 17000.0, 30000.0, 13000.0, 42000.0, 20000.0, 15000.0, 25000.0, 26000.0, 13000.0, 20000.0, 7500.0, 28000.0, 30400.0, 17000.0, 30000.0, 30000.0, 20000.0, 23000.0, 28000.0, 30000.0, 22000.0, 30000.0, 25000.0, 16000.0, 7000.0, 12000.0, 12500.0, 14000.0, 13500.0, 22000.0, 23000.0, 12000.0, 8000.0, 12000.0, 8000.0, 7000.0, 6000.0, 14000.0, 32000.0, 40000.0, 35000.0, 30000.0, 35000.0, 50000.0, 50000.0, 42000.0, 45000.0, 17000.0, 18000.0, 19000.0, 27000.0, 12000.0, 40000.0, 50000.0, 30000.0, 35000.0, 18000.0, 40000.0, 40000.0, 38000.0, 30000.0, 18000.0, 35000.0, 25000.0, 50000.0, 26000.0, 28000.0, 18000.0, 28000.0, 50000.0, 40000.0, 40000.0, 45000.0, 30000.0, 32000.0, 40000.0, 50000.0, 38000.0, 30000.0, 50000.0, 35000.0, 18000.0, 32000.0, 27000.0, 45000.0, 27000.0, 21000.0, 20000.0, 40000.0, 40000.0, 40000.0, 25000.0, 60000.0, 15000.0, 27000.0, 27000.0, 20000.0, 32000.0, 21000.0, 32000.0, 20000.0, 33000.0, 26000.0, 18000.0, 35000.0, 20000.0, 18000.0, 37000.0, 35000.0, 20000.0, 30000.0, 35000.0, 30000.0, 32000.0, 35000.0, 28000.0, 36000.0, 35000.0, 32000.0, 38000.0, 36000.0, 36000.0, 33000.0, 20000.0, 45000.0, 20000.0, 20000.0, 31000.0, 40000.0, 35000.0, 20000.0, 18000.0, 19000.0, 85000.0, 38000.0, 30000.0, 35000.0, 18000.0, 18000.0, 32000.0, 40000.0, 50000.0, 26000.0, 28000.0, 25000.0, 28000.0, 23000.0, 20000.0, 17000.0, 11000.0, 9000.0, 6000.0, 4000.0, 15000.0, 10000.0, 19000.0, 25000.0, 30000.0, 26000.0, 50000.0, 35000.0, 45000.0, 25000.0, 24000.0, 37000.0, 35000.0, 40000.0, 21000.0, 28000.0, 45000.0, 30000.0, 11000.0, 25000.0, 22000.0, 16000.0, 13000.0, 14000.0, 18000.0, 21000.0, 22000.0, 27000.0, 18000.0, 15000.0, 40000.0, 21000.0, 24000.0, 22000.0, 17500.0, 25000.0, 25000.0, 28000.0, 14000.0, 28000.0, 14000.0, 21000.0, 65000.0, 55000.0, 45000.0, 13000.0, 24000.0, 14500.0, 15500.0, 16000.0, 22000.0, 25000.0, 26500.0, 14500.0, 20000.0, 26000.0, 15500.0, 18000.0, 10500.0, 23000.0, 22000.0, 16000.0, 22000.0, 22000.0, 20000.0, 20000.0, 23000.0, 7500.0, 8500.0, 8500.0, 14000.0, 25000.0, 13000.0, 20000.0, 21000.0, 21000.0, 20000.0, 20000.0, 43000.0, 28000.0, 15000.0, 11000.0, 18000.0, 22000.0, 15500.0, 21000.0, 15000.0, 20000.0, 35000.0, 8500.0, 17000.0, 25000.0, 23000.0, 20000.0, 14000.0, 16000.0, 20000.0, 13000.0, 17000.0, 21000.0, 21000.0, 20000.0, 11000.0, 20000.0, 13000.0, 17000.0, 13500.0, 23000.0, 29000.0, 26000.0, 30000.0, 25000.0, 27000.0, 12000.0, 29000.0, 20000.0, 21000.0, 28500.0, 8000.0, 18000.0, 13000.0, 18000.0, 12000.0, 18000.0, 18000.0, 20000.0, 32000.0, 25000.0, 12000.0, 24000.0, 18000.0, 25000.0, 10000.0, 18000.0, 22000.0, 70000.0, 22500.0, 30000.0, 24000.0, 26500.0, 25500.0, 24000.0, 28000.0, 24000.0, 18000.0, 25000.0, 10000.0, 18000.0, 22000.0, 20000.0, 26000.0, 25000.0, 25000.0, 100000.0, 25000.0, 45000.0, 30000.0, 22000.0, 23000.0, 13500.0, 15000.0, 20000.0, 11000.0, 22000.0, 15500.0, 18000.0, 18000.0, 20000.0, 32000.0, 25000.0, 12000.0, 35000.0, 35000.0, 18000.0, 14000.0, 19000.0, 37000.0, 20000.0, 33000.0, 11000.0, 11000.0, 12000.0, 14000.0, 84000.0, 18000.0, 10000.0, 16000.0, 14000.0, 11000.0, 11000.0, 10500.0, 10500.0, 14000.0, 15000.0, 12000.0, 12000.0, 13000.0, 8000.0, 1500.0, 12000.0, 8500.0, 12200.0, 6000.0, 22000.0, 9500.0, 7500.0, 14000.0, 23000.0, 12500.0, 8000.0, 4500.0, 30000.0, 15000.0, 6000.0, 9000.0, 15000.0, 20000.0, 15000.0, 20000.0, 20000.0, 20000.0, 22000.0, 7000.0, 55000.0, 16000.0, 14000.0, 25000.0, 32500.0, 18500.0, 13500.0, 15500.0, 19000.0, 21500.0, 18000.0, 28000.0, 31000.0, 15000.0, 12000.0, 11000.0, 18000.0, 21000.0, 28500.0, 23000.0, 22000.0, 25000.0, 37000.0, 75000.0, 25000.0, 35000.0, 30000.0, 15333.0, 25000.0, 27500.0, 26000.0, 27000.0, 37000.0, 37000.0, 30000.0, 20000.0, 48000.0, 27000.0, 31000.0, 25500.0, 30000.0, 27000.0, 32000.0, 51000.0, 40000.0, 40000.0, 30000.0, 27000.0, 24000.0, 38000.0, 32000.0, 30000.0, 26500.0, 30000.0, 23600.0, 28500.0, 29500.0, 26000.0, 27500.0, 25000.0, 55000.0, 11000.0, 25000.0, 39000.0, 36000.0, 10000.0, 60000.0, 27000.0, 16000.0, 32000.0, 36000.0, 18000.0, 10000.0, 18000.0, 22000.0, 29000.0, 19000.0, 15328.0, 15000.0, 15888.0, 18000.0, 65000.0, 15888.0, 40000.0, 40932.0, 40302.0, 30000.0, 40633.0, 15009.0, 15096.0, 15247.0, 15230.0, 15331.0, 22000.0, 29000.0, 19000.0, 55000.0, 25000.0, 26000.0, 12500.0, 22000.0, 26000.0, 9003.0, 15325.0, 60000.0, 22300.0, 22000.0, 22369.0, 22311.0, 22310.0, 22310.0, 28000.0, 16221.0, 16000.0, 16500.0, 17000.0, 54000.0, 7500.0, 7500.0, 27000.0, 27000.0, 32000.0, 23566.0, 27600.0, 14400.0, 14000.0, 27639.0, 26321.0, 17000.0, 17000.0, 18000.0, 15009.0, 15096.0, 15247.0, 15230.0, 15331.0, 40000.0, 40932.0, 40302.0, 30000.0, 40633.0, 25000.0, 22000.0, 20000.0, 19500.0, 19000.0, 15322.0, 19600.0, 15003.0, 24632.0, 25000.0, 15000.0, 30000.0, 22353.0, 22369.0, 17322.0, 22000.0, 17200.0, 22311.0, 9006.0, 9002.0, 9000.0, 22366.0, 12000.0, 25000.0, 26301.0, 8000.0, 27321.0, 10000.0, 9000.0, 9000.0, 20000.0, 22311.0, 22311.0, 22133.0, 62000.0, 28000.0, 28000.0, 28000.0, 15211.0, 54000.0, 7500.0, 7500.0, 27000.0, 27000.0, 9006.0, 9002.0, 9000.0, 300000.0, 8000.0, 8000.0, 65000.0, 26500.0, 14000.0, 27102.0, 14999.0, 22111.0, 22311.0, 100000.0, 17500.0, 24500.0, 26500.0, 38000.0, 29000.0, 15000.0, 40000.0, 37000.0, 45000.0, 30000.0, 25000.0, 28000.0, 17000.0, 26500.0, 23000.0, 14000.0, 30000.0, 75000.0, 19000.0, 100000.0, 8500.0, 20000.0, 35000.0, 23500.0, 18000.0, 17000.0, 15000.0, 36000.0, 25000.0, 30000.0, 30000.0, 46000.0, 12000.0, 20000.0, 27000.0, 9500.0, 14000.0, 14000.0, 13000.0, 13000.0, 14000.0, 12000.0, 11000.0, 12000.0, 12000.0, 12000.0, 12000.0, 42000.0, 18500.0, 10500.0, 19500.0, 14000.0, 13000.0, 9000.0, 13000.0, 13500.0, 15500.0, 14500.0, 13500.0, 20000.0, 15500.0, 8500.0, 15500.0, 15000.0, 13500.0, 26000.0, 14000.0, 13000.0, 22500.0, 17500.0, 35000.0, 26500.0, 35000.0, 35000.0, 25000.0, 30000.0, 42000.0, 18500.0, 8500.0, 25000.0, 14000.0, 30000.0, 49000.0, 51000.0, 45000.0, 26000.0, 22000.0, 40000.0, 20000.0, 13500.0, 13000.0, 15000.0, 21000.0, 35000.0, 35000.0, 28000.0, 56000.0, 53000.0, 38000.0, 28000.0, 28000.0, 30000.0, 36000.0, 24000.0, 14000.0, 18000.0, 27000.0, 22000.0, 25000.0, 27000.0, 22000.0, 23000.0, 18000.0, 16500.0, 14000.0, 15000.0, 36000.0, 32000.0, 27500.0, 10000.0, 26000.0, 27000.0, 18000.0, 24000.0, 19000.0, 14000.0, 15000.0, 20000.0, 22000.0, 22000.0, 28000.0, 65000.0, 15633.0, 21500.0, 35000.0, 22700.0, 24100.0, 24000.0, 32000.0, 24000.0, 24000.0, 15500.0, 15000.0, 14500.0, 22000.0, 20000.0, 12500.0, 8500.0, 13000.0, 10000.0, 22000.0, 23000.0, 27000.0, 13000.0, 17000.0, 20000.0, 30000.0, 12000.0, 15000.0, 13000.0, 25000.0, 28000.0, 20000.0, 23000.0, 22000.0, 26000.0, 40000.0, 45000.0, 9000.0, 8000.0, 12500.0, 21000.0, 21000.0, 8500.0, 20000.0, 8500.0, 22000.0, 14000.0, 13500.0, 11000.0, 20000.0, 9500.0, 8500.0, 20000.0, 8500.0, 22000.0, 14000.0, 13500.0, 20000.0, 24000.0, 20000.0, 14500.0, 14000.0, 8000.0, 22000.0, 14500.0, 20000.0, 64000.0, 22000.0, 21000.0, 8500.0, 13500.0, 11500.0, 8500.0, 11500.0, 8000.0, 15500.0, 19000.0, 16000.0, 7500.0, 11000.0, 12000.0, 7000.0, 9000.0, 15500.0, 12000.0, 6500.0, 12500.0, 20000.0, 20000.0, 25000.0, 14000.0, 15000.0, 13000.0, 18000.0, 12000.0, 19500.0, 17000.0, 36500.0, 15000.0, 13000.0, 14000.0, 14000.0, 26000.0, 8000.0, 13000.0, 10000.0, 9000.0, 22000.0, 15000.0, 25000.0, 10000.0, 18000.0, 14000.0, 6000.0, 11000.0, 12000.0, 12500.0, 27000.0, 12000.0, 9000.0, 7000.0, 12000.0, 8500.0, 11000.0, 18000.0, 19000.0, 10500.0, 15000.0, 12000.0, 8000.0, 11000.0, 6000.0, 7000.0, 3500.0, 4000.0, 5000.0, 13500.0, 14500.0, 6500.0, 5000.0, 11500.0, 6000.0, 5000.0, 10000.0, 12500.0, 15000.0, 11000.0, 8500.0, 8000.0, 13500.0, 12500.0, 15000.0, 11000.0, 13500.0, 15000.0, 11000.0, 11000.0, 14000.0, 13000.0, 15000.0, 12000.0, 30000.0, 10000.0, 13000.0, 23000.0, 16000.0, 14000.0, 16000.0, 3500.0, 4000.0, 5000.0, 13500.0, 14500.0, 6500.0, 5000.0, 11500.0, 6000.0, 13000.0, 19000.0, 20000.0, 20000.0, 25000.0, 14000.0, 15000.0, 13000.0, 18000.0, 12000.0, 5000.0, 9500.0, 16000.0, 5000.0, 7500.0, 7500.0, 10000.0, 5500.0, 5300.0, 15500.0, 9000.0, 8000.0, 16000.0, 14000.0, 16000.0, 15500.0, 17500.0, 15500.0, 7500.0, 12000.0, 8500.0, 8500.0, 9000.0, 6000.0, 10000.0, 8000.0, 8500.0, 7500.0, 30000.0, 10000.0, 13000.0, 23000.0, 16000.0, 8000.0, 15000.0, 29000.0, 7000.0, 6500.0, 19000.0, 15000.0, 17000.0, 29000.0, 5500.0, 6500.0, 6000.0, 5000.0, 9500.0, 16000.0, 13000.0, 13500.0, 15000.0, 11000.0, 11000.0, 14000.0, 13000.0, 15000.0, 12000.0, 9000.0, 13000.0, 12000.0, 11000.0, 26000.0, 12000.0, 13000.0, 19000.0, 12000.0, 30000.0, 13500.0, 85000.0, 14000.0, 20000.0, 14000.0, 22000.0, 8500.0, 15000.0, 30000.0, 16000.0, 15000.0, 14000.0, 35000.0, 23000.0, 8500.0, 20000.0, 12000.0, 21000.0, 27000.0, 26000.0, 25500.0, 25000.0, 26000.0, 22000.0, 35000.0, 32000.0, 25001.0, 22000.0, 25000.0, 22000.0, 30000.0, 20000.0, 33000.0, 30000.0, 30000.0, 25000.0, 35000.0, 30000.0, 24000.0, 25000.0, 25000.0, 17000.0, 17000.0, 18000.0, 65000.0, 18000.0, 25000.0, 27000.0, 24999.0, 40000.0, 25000.0, 18000.0, 30000.0, 22000.0, 28000.0, 18000.0, 25000.0, 30000.0, 25000.0, 28000.0, 21500.0, 28500.0, 27000.0, 25100.0, 28000.0, 32000.0, 40000.0, 30000.0, 40000.0, 35000.0, 38000.0, 22500.0, 19000.0, 18000.0, 24999.0, 40000.0, 16000.0, 20000.0, 25000.0, 22000.0, 9000.0, 20000.0, 24000.0, 25000.0, 25000.0, 65000.0, 85000.0, 45000.0, 15000.0, 17000.0, 22000.0, 9000.0, 8500.0, 8500.0, 12000.0, 9000.0, 10000.0, 11000.0, 12000.0, 9000.0, 18000.0, 12000.0, 18000.0, 15000.0, 10000.0, 9000.0, 9000.0, 18000.0, 15000.0, 10000.0, 12000.0, 10000.0, 9000.0, 12000.0, 15000.0, 18000.0, 9000.0, 18000.0, 18000.0, 10000.0, 18000.0, 12000.0, 20000.0, 11000.0, 10000.0, 9000.0, 12000.0, 15000.0, 18000.0, 18000.0, 15000.0, 10000.0, 55000.0, 49200.0, 45000.0, 18000.0, 29000.0, 15000.0, 15000.0, 15000.0, 29000.0, 24500.0, 20000.0, 16500.0, 22000.0, 15000.0, 45000.0, 23000.0, 22000.0, 20000.0, 20000.0, 19000.0, 18000.0, 17000.0, 16000.0, 15000.0, 14000.0, 13000.0, 20000.0, 22000.0, 17000.0, 17000.0, 15000.0, 14000.0, 16000.0, 22000.0, 18000.0, 25000.0, 23000.0, 15000.0, 13000.0, 11000.0, 10000.0, 14000.0, 15000.0, 15000.0, 11000.0, 15500.0, 6000.0, 16000.0, 11500.0, 13000.0, 20000.0, 10000.0, 15000.0, 10000.0, 15000.0, 9000.0, 9500.0, 20000.0, 27550.0, 20000.0, 21000.0, 24000.0, 22000.0, 15000.0, 19000.0, 15500.0, 14000.0, 36000.0, 13000.0, 15000.0, 23000.0, 15500.0, 50000.0, 11000.0, 14000.0, 23000.0, 8500.0, 12500.0, 12000.0, 13500.0, 9000.0, 19000.0, 18000.0, 17000.0, 15000.0, 15000.0, 16000.0, 15000.0, 16000.0, 13500.0, 18000.0, 14000.0, 13000.0, 24000.0, 15500.0, 23000.0, 16000.0, 13000.0, 11000.0, 10000.0, 20000.0, 20000.0, 19000.0, 18000.0, 16000.0, 15000.0, 14000.0, 10500.0, 15000.0, 15000.0, 15000.0, 17500.0, 15000.0, 30000.0, 15000.0, 19000.0, 17000.0, 15000.0, 18000.0, 30000.0, 30000.0, 25500.0, 34000.0, 30000.0, 30000.0, 45000.0, 25000.0, 28000.0, 45000.0, 35000.0, 35000.0, 23000.0, 40000.0, 60000.0, 12000.0, 14000.0, 12500.0, 28000.0, 9000.0, 14000.0, 15000.0, 25000.0, 100000.0, 81000.0, 32000.0, 27000.0, 65000.0, 12000.0, 100000.0, 17000.0, 18000.0, 15000.0, 13000.0, 65000.0, 25000.0, 65000.0, 75000.0, 22000.0, 10000.0, 10000.0, 55000.0, 28500.0, 18000.0, 19000.0, 16000.0, 10000.0, 20000.0, 13000.0, 16000.0, 14000.0, 20500.0, 70000.0, 22250.0, 20500.0, 23000.0, 24000.0, 100000.0, 25000.0, 19000.0, 15000.0, 20000.0, 20000.0, 16000.0, 15000.0, 15000.0, 35000.0, 12500.0, 9000.0, 20000.0, 30000.0, 30000.0, 25000.0, 24000.0, 17000.0, 15000.0, 22000.0, 50000.0, 40000.0, 22000.0, 15000.0, 28000.0, 30000.0, 18000.0, 25000.0, 18000.0, 25000.0, 28000.0, 18000.0, 17000.0, 28000.0, 32000.0, 35000.0, 40000.0, 22000.0, 22000.0, 8500.0, 26000.0, 25000.0, 9000.0, 35000.0, 25000.0, 15250.0, 40000.0, 13000.0, 14000.0, 13000.0, 22000.0, 8500.0, 15000.0, 18000.0, 19000.0, 25000.0, 22000.0, 12500.0, 16000.0, 70000.0, 16000.0, 29000.0, 14500.0, 18000.0, 18000.0, 20000.0, 20000.0, 16000.0, 12000.0, 100000.0, 17000.0, 18000.0, 15000.0, 13000.0, 65000.0, 25000.0, 65000.0, 75000.0, 22000.0, 10000.0, 10000.0, 20000.0, 17500.0, 25000.0, 12000.0, 14000.0, 12500.0, 16000.0, 100000.0, 30000.0, 20000.0, 10000.0, 10000.0, 25000.0, 15000.0, 18000.0, 17500.0, 20000.0, 25000.0, 19000.0, 30000.0, 14000.0, 33000.0, 19000.0, 20500.0, 20000.0, 17000.0, 22000.0, 100000.0, 30000.0, 20000.0, 10000.0, 10000.0, 25000.0, 18000.0, 18000.0, 20000.0, 20000.0, 16000.0, 15000.0, 8500.0, 28000.0, 32000.0, 35000.0, 40000.0, 22000.0, 22000.0, 8500.0, 28000.0, 16000.0, 60000.0, 45000.0, 22000.0, 27000.0, 60000.0, 27000.0, 9500.0, 15000.0, 18000.0, 15000.0, 10500.0, 9000.0, 9000.0, 9500.0, 45000.0, 60000.0, 21500.0, 23000.0, 24000.0, 12500.0, 10000.0, 12000.0, 11000.0, 15000.0, 8500.0, 14000.0, 17500.0, 14500.0, 12000.0, 13000.0, 15000.0, 15000.0, 16000.0, 13500.0, 12500.0, 45000.0, 15000.0, 16000.0, 15000.0, 32000.0, 13000.0, 13000.0, 65000.0, 8500.0, 40000.0, 22000.0, 22000.0, 30000.0, 35000.0, 14500.0, 14500.0, 20500.0, 12500.0, 45000.0, 37000.0, 33500.0, 25000.0, 20000.0, 70000.0, 22250.0, 20500.0, 23000.0, 24000.0, 22000.0, 20000.0, 8500.0, 30000.0, 13000.0, 25000.0, 26500.0, 25000.0, 24000.0, 85000.0, 30000.0, 18000.0, 25000.0, 16000.0, 15000.0, 26500.0, 9500.0, 11500.0, 55000.0, 16000.0, 27000.0, 45000.0, 55000.0, 55000.0, 45000.0, 25000.0, 65000.0, 70000.0, 16000.0, 50000.0, 100000.0, 45000.0, 55000.0, 35000.0, 42000.0, 36000.0, 25500.0, 9000.0, 17500.0, 38000.0, 13000.0, 13500.0, 15500.0, 15000.0, 11500.0, 12000.0, 22000.0, 16000.0, 11500.0, 9000.0, 17000.0, 12500.0, 17000.0, 12000.0, 21000.0, 15500.0, 12000.0, 14000.0, 12000.0, 9000.0, 12000.0, 12500.0, 16000.0, 14000.0, 15000.0, 12000.0, 9000.0, 12500.0, 8000.0, 13500.0, 7000.0, 12000.0, 11000.0, 13000.0, 10000.0, 15000.0, 18000.0, 8000.0, 10500.0, 8500.0, 15000.0, 12000.0, 8800.0, 15500.0, 17500.0, 9000.0, 8500.0, 18000.0, 15000.0, 25000.0, 9500.0, 75000.0, 11000.0, 40000.0, 22000.0, 20000.0, 8500.0, 30000.0, 13000.0, 25000.0, 26500.0, 25000.0, 24000.0, 85000.0, 30000.0, 18000.0, 25000.0, 16000.0, 10500.0, 14500.0, 13500.0, 16000.0, 14000.0, 20000.0, 8500.0, 24500.0, 20000.0, 13000.0, 15000.0, 12500.0, 21000.0, 10500.0, 14000.0, 9000.0, 23000.0, 35000.0, 35000.0, 37000.0, 18000.0, 19000.0, 35000.0, 25000.0, 100000.0, 15500.0, 25000.0, 15000.0, 26000.0, 18000.0, 11000.0, 10000.0, 11500.0, 25000.0, 14500.0, 10500.0, 17500.0, 23000.0, 15000.0, 13000.0, 13000.0, 11000.0, 18000.0, 10800.0, 8000.0, 9500.0, 9500.0, 15000.0, 9500.0, 14000.0, 10000.0, 12500.0, 12000.0, 9000.0, 11000.0, 16000.0, 13000.0, 12000.0, 15000.0, 9500.0, 12000.0, 12000.0, 7000.0, 37000.0, 22000.0, 29000.0, 27000.0, 17000.0, 36000.0, 10000.0, 7500.0, 14500.0, 10000.0, 13000.0, 16500.0, 22000.0, 25000.0, 23000.0, 12000.0, 12000.0, 15000.0, 13000.0, 14000.0, 18000.0, 20000.0, 11000.0, 8500.0, 23000.0, 7000.0, 30000.0, 30000.0, 26000.0, 8000.0, 11000.0, 20000.0, 29000.0, 22000.0, 35000.0, 21000.0, 14000.0, 6500.0, 23000.0, 16000.0, 11000.0, 11000.0, 21000.0, 25000.0, 13000.0, 13000.0, 16000.0, 14000.0, 16000.0, 25000.0, 14000.0, 16500.0, 27000.0, 17000.0, 21000.0, 25000.0, 20000.0, 45000.0, 18000.0, 17000.0, 14000.0, 17000.0, 16000.0, 17000.0, 14000.0, 21000.0, 15000.0, 22000.0, 20000.0, 21000.0, 22000.0, 24000.0, 22000.0, 23000.0, 16000.0, 15000.0, 14000.0, 14000.0, 24000.0, 19000.0, 15000.0, 20000.0, 19000.0, 34000.0, 25000.0, 22500.0, 17500.0, 21000.0, 24000.0, 22000.0, 14000.0, 27000.0, 16000.0, 13500.0, 75000.0, 75000.0, 18000.0, 35000.0, 35000.0, 25000.0, 20000.0, 15000.0, 14000.0, 38000.0, 30000.0, 30000.0, 35000.0, 40000.0, 16000.0, 20000.0, 18000.0, 16000.0, 20000.0, 16000.0, 22000.0, 22000.0, 22000.0, 15000.0, 18000.0, 26000.0, 55000.0, 55000.0, 11000.0, 11000.0, 25000.0, 7000.0, 11000.0, 15000.0, 26000.0, 45000.0, 8750.0, 28000.0, 40000.0, 50000.0, 30000.0, 35000.0, 80000.0, 65000.0, 70000.0, 40000.0, 37000.0, 38000.0, 55000.0, 63000.0, 45000.0, 40000.0, 63000.0, 70000.0, 50000.0, 45000.0, 43000.0, 36000.0, 50000.0, 36000.0, 32000.0, 45000.0, 44000.0, 40000.0, 40000.0, 45000.0, 57000.0, 40000.0, 45000.0, 55000.0, 35000.0, 50000.0, 29000.0, 32000.0, 35000.0, 32000.0, 35000.0, 52000.0, 42000.0, 45000.0, 31000.0, 55000.0, 50000.0, 85000.0, 60000.0, 33000.0, 31000.0, 40000.0, 35000.0, 30000.0, 30000.0, 40000.0, 51000.0, 27000.0, 34000.0, 32000.0, 26000.0, 31000.0, 34500.0, 30000.0, 25000.0, 30000.0, 28000.0, 27000.0, 36000.0, 30000.0, 45000.0, 44000.0, 35000.0, 35000.0, 35000.0, 30500.0, 32000.0, 30000.0, 30000.0, 35000.0, 35000.0, 35000.0, 30500.0, 35000.0, 40000.0, 38000.0, 27000.0, 27000.0, 30000.0, 32000.0, 35000.0, 100000.0, 55000.0, 50000.0, 24000.0, 23000.0, 23000.0, 32000.0, 35000.0, 31000.0, 25000.0, 50000.0, 30000.0, 38000.0, 22000.0, 9000.0, 8750.0, 9000.0, 40000.0, 16000.0, 20000.0, 18000.0, 16000.0, 20000.0, 21000.0, 22000.0, 22000.0, 28000.0, 22000.0, 36000.0, 20000.0, 32000.0, 40000.0, 30000.0, 24000.0, 23000.0, 23000.0, 32000.0, 35000.0, 31000.0, 25000.0, 28000.0, 22000.0, 9000.0, 9000.0, 25000.0, 55000.0, 20300.0, 31000.0, 26322.0, 19000.0, 22000.0, 17000.0, 23000.0, 20000.0, 45000.0, 16500.0, 18500.0, 22000.0, 24500.0, 23000.0, 32000.0, 24500.0, 30000.0, 23000.0, 32000.0, 32000.0, 18000.0, 18000.0, 22000.0, 19000.0, 18000.0, 21000.0, 21000.0, 26000.0, 24000.0, 25000.0, 14000.0, 14000.0, 14000.0, 22000.0, 19000.0, 22000.0, 19000.0, 35000.0, 20000.0, 16000.0, 26000.0, 30000.0, 25000.0, 15000.0, 25000.0, 20000.0, 32000.0, 26000.0, 25000.0, 22300.0, 25000.0, 25000.0, 24000.0, 26000.0, 30000.0, 28000.0, 28000.0, 26000.0, 29000.0, 35000.0, 45000.0, 55000.0, 28000.0, 30000.0, 19500.0, 22000.0, 26000.0, 25000.0, 30000.0, 25000.0, 25000.0, 23000.0, 42000.0, 85000.0, 35000.0, 52000.0, 40000.0, 25000.0, 42000.0, 37000.0, 28000.0, 45000.0, 28000.0, 70000.0, 35000.0, 55000.0, 24000.0, 21000.0, 15000.0, 13000.0, 5440.0, 21000.0, 17000.0, 6500.0, 15000.0, 10000.0, 16000.0, 8500.0, 20000.0, 8000.0, 15000.0, 11000.0, 17000.0, 15000.0, 10500.0, 32000.0, 16000.0, 16000.0, 15000.0, 10000.0, 6500.0, 11500.0, 11000.0, 8500.0, 15000.0, 10000.0, 12000.0, 20000.0, 6500.0, 8500.0, 11500.0, 11000.0, 9500.0, 30000.0, 24000.0, 22000.0, 17000.0, 42000.0, 10500.0, 7500.0, 18000.0, 26000.0, 14000.0, 17000.0, 16500.0, 11000.0, 16000.0, 11000.0, 7500.0, 14000.0, 10000.0, 30000.0, 15000.0, 30000.0, 42000.0, 10500.0, 7500.0, 26000.0, 14000.0, 18000.0, 23000.0, 12000.0, 23000.0, 19000.0, 12000.0, 20000.0, 25000.0, 8000.0, 12000.0, 6000.0, 15000.0, 15500.0, 10000.0, 35000.0, 35000.0, 15000.0, 25000.0, 18000.0, 15000.0, 10000.0, 10500.0, 12500.0, 14000.0, 21000.0, 12000.0, 15000.0, 16500.0, 10000.0, 10500.0, 12500.0, 14000.0, 21000.0, 12000.0, 22000.0, 14500.0, 23000.0, 16000.0, 28000.0, 15000.0, 11000.0, 20000.0, 20000.0, 12000.0, 18000.0, 15000.0, 12500.0, 16000.0, 15000.0, 35000.0, 16000.0, 17000.0, 30000.0, 17000.0, 21000.0, 14000.0, 12000.0, 5000.0, 24000.0, 15000.0, 14000.0, 12000.0, 16000.0, 16000.0, 13000.0, 10000.0, 25000.0, 13000.0, 18000.0, 20000.0, 7500.0, 26000.0, 22000.0, 14000.0, 13000.0, 7000.0, 21000.0, 10000.0, 13000.0, 14000.0, 15000.0, 11000.0, 10000.0, 8500.0, 17000.0, 22000.0, 16000.0, 15000.0, 14000.0, 22000.0, 15000.0, 20000.0, 17500.0, 13000.0, 10000.0, 25000.0, 12500.0, 4000.0, 15000.0, 15000.0, 15000.0, 8500.0, 13000.0, 11000.0, 15000.0, 32000.0, 23000.0, 23000.0, 30000.0, 28000.0, 12000.0, 16000.0, 21000.0, 16000.0, 12000.0, 13000.0, 11000.0, 8100.0, 8100.0, 7600.0, 24000.0, 7100.0, 8500.0, 9000.0, 8500.0, 10600.0, 10000.0, 9000.0, 9000.0, 7000.0, 10000.0, 14000.0, 7500.0, 12000.0, 10000.0, 8500.0, 25000.0, 13000.0, 20000.0, 16000.0, 13100.0, 9400.0, 8500.0, 13000.0, 8100.0, 11000.0, 7200.0, 11200.0, 11500.0, 10600.0, 7500.0, 11000.0, 11000.0, 10600.0, 11200.0, 9999.0, 12000.0, 9500.0, 14000.0, 24000.0, 18000.0, 12000.0, 14000.0, 8600.0, 23000.0, 12500.0, 8000.0, 11500.0, 13000.0, 10500.0, 9000.0, 8100.0, 11500.0, 8500.0, 10000.0, 13999.0, 12500.0, 15000.0, 12000.0, 10000.0, 8000.0, 12000.0, 13500.0, 12100.0, 9000.0, 8100.0, 7000.0, 8100.0, 8500.0, 8000.0, 9500.0, 14100.0, 13999.0, 9500.0, 12500.0, 13999.0, 10900.0, 8400.0, 9000.0, 9000.0, 11500.0, 8000.0, 8500.0, 8000.0, 11500.0, 8000.0, 12100.0, 7500.0, 10999.0, 13500.0, 8000.0, 12500.0, 24000.0, 6500.0, 8000.0, 12000.0, 8000.0, 12500.0, 9000.0, 8000.0, 9000.0, 8000.0, 40000.0, 18000.0, 13000.0, 11500.0, 9600.0, 14100.0, 13999.0, 14000.0, 10600.0, 8400.0, 10200.0, 13500.0, 19000.0, 25500.0, 19500.0, 18000.0, 12000.0, 9900.0, 18000.0, 23000.0, 13500.0, 8400.0, 10500.0, 13500.0, 17000.0, 12500.0, 9500.0, 14000.0, 9000.0, 12000.0, 8000.0, 7500.0, 10999.0, 10000.0, 8000.0, 11000.0, 12500.0, 11000.0, 8100.0, 8000.0, 7500.0, 11000.0, 10000.0, 8500.0, 11000.0, 11000.0, 11500.0, 10000.0, 12000.0, 14000.0, 8000.0, 10500.0, 13500.0, 11500.0, 13000.0, 9500.0, 11000.0, 9500.0, 11000.0, 11500.0, 11000.0, 10000.0, 8500.0, 11000.0, 12000.0, 25500.0, 10000.0, 8500.0, 11000.0, 17000.0, 24000.0, 45000.0, 27000.0, 23000.0, 21000.0, 15200.0, 13000.0, 12000.0, 18000.0, 17500.0, 14500.0, 18000.0, 20000.0, 30000.0, 30000.0, 23000.0, 12000.0, 15000.0, 11000.0, 10000.0, 10000.0, 10000.0, 13000.0, 24000.0, 19000.0, 10000.0, 15000.0, 13000.0, 13000.0, 13000.0, 12000.0, 15000.0, 11000.0, 13000.0, 14000.0, 17000.0, 20000.0, 12000.0, 12000.0, 15000.0, 18000.0, 14000.0, 18000.0, 14000.0, 12000.0, 17000.0, 16500.0, 16000.0, 12000.0, 35000.0, 12000.0, 25000.0, 12000.0, 15000.0, 36500.0, 10000.0, 15000.0, 13000.0, 17000.0, 20000.0, 10000.0, 24000.0, 10000.0, 15000.0, 15000.0, 11000.0, 10000.0, 10000.0, 15000.0, 15000.0, 11000.0, 15000.0, 19000.0, 17000.0, 12000.0, 9500.0, 9000.0, 9000.0, 17000.0, 10000.0, 36500.0, 10000.0, 10000.0, 11000.0, 15000.0, 9000.0, 10000.0, 16500.0, 16000.0, 15000.0, 20000.0, 11000.0, 9000.0, 16000.0, 11000.0, 13000.0, 26000.0, 9000.0, 40000.0, 18000.0, 14000.0, 18000.0, 14000.0, 10000.0, 34000.0, 17000.0, 30000.0, 20800.0, 12000.0, 13000.0, 16000.0, 25000.0, 4500.0, 17000.0, 10000.0, 79000.0, 5000.0, 4000.0, 51000.0, 27000.0, 9000.0, 10000.0, 13000.0, 18000.0, 26000.0, 25000.0, 20000.0, 25000.0, 25000.0, 35000.0, 30000.0, 12000.0, 9000.0, 18000.0, 22000.0, 19000.0, 40000.0, 20000.0, 14000.0, 18000.0, 20000.0, 15000.0, 14000.0, 20000.0, 13000.0, 13000.0, 10000.0, 4500.0, 8000.0, 18000.0, 10000.0, 12500.0, 28000.0, 15000.0, 8000.0, 13000.0, 12000.0, 10000.0, 27000.0, 52000.0, 6000.0, 15000.0, 24000.0, 10000.0, 8000.0, 18000.0, 9500.0, 19000.0, 18000.0, 12000.0, 25000.0, 17000.0, 27000.0, 27000.0, 25000.0, 21000.0, 18000.0, 60000.0, 13000.0, 8000.0, 18000.0, 9500.0, 12000.0, 12000.0, 14200.0, 18000.0, 13000.0, 200000.0, 21000.0, 20000.0, 12000.0, 12000.0, 6500.0, 23000.0, 80000.0, 80000.0, 20000.0, 27000.0, 100000.0, 45000.0, 41000.0, 45000.0, 46000.0, 25000.0, 22000.0, 22000.0, 21000.0, 22000.0, 20000.0, 33000.0, 21000.0, 24000.0, 29000.0, 18000.0, 16500.0, 25000.0, 20000.0, 23000.0, 80000.0, 80000.0, 20000.0, 27000.0, 100000.0, 45000.0, 41000.0, 45000.0, 10500.0, 10000.0, 35000.0, 14000.0, 5000.0, 12000.0, 13000.0, 35000.0, 24000.0, 22000.0, 16000.0, 20000.0, 33000.0, 27000.0, 27000.0, 25000.0, 65000.0, 24000.0, 21000.0, 45000.0, 32000.0, 20000.0, 25000.0, 90000.0, 40000.0, 25000.0, 17000.0, 30000.0, 25000.0, 45000.0, 65000.0, 30000.0, 22000.0, 40000.0, 5000.0, 24000.0, 32000.0, 26000.0, 13000.0, 55000.0, 24000.0, 15000.0, 18000.0, 18000.0, 65000.0, 12500.0, 52000.0, 75000.0, 8000.0, 11500.0, 50000.0, 100000.0, 20000.0, 19000.0, 18500.0, 14500.0, 18000.0, 13000.0, 13000.0, 12000.0, 17000.0, 13000.0, 9000.0, 4500.0, 20000.0, 18000.0, 15000.0, 15000.0, 23000.0, 6500.0, 28000.0, 16000.0, 20000.0, 8500.0, 20000.0, 30005.0, 13000.0, 6000.0, 25000.0, 23000.0, 25000.0, 22000.0, 22000.0, 19000.0, 15000.0, 21000.0, 55000.0, 24000.0, 16000.0, 14000.0, 15000.0, 12000.0, 25000.0, 19000.0, 15000.0, 12000.0, 17000.0, 12500.0, 20000.0, 6500.0, 12000.0, 30000.0, 80000.0, 6500.0, 9000.0, 9000.0, 10000.0, 15000.0, 16000.0, 12000.0, 13000.0, 14000.0, 19000.0, 22000.0, 35000.0, 13000.0, 26000.0, 45000.0, 19000.0, 11000.0, 11500.0, 100000.0, 21000.0, 20000.0, 22000.0, 15000.0, 20000.0, 17500.0, 22000.0, 25000.0, 17500.0, 25000.0, 18000.0, 20000.0, 30000.0, 20000.0, 29000.0, 23000.0, 25000.0, 16500.0, 18000.0, 23000.0, 21000.0, 18000.0, 25000.0, 18000.0, 20000.0, 25000.0, 28000.0, 23000.0, 16000.0, 12000.0, 8000.0, 12000.0, 18000.0, 25000.0, 25000.0, 38000.0, 23000.0, 13000.0, 25000.0, 43500.0, 32000.0, 21000.0, 36000.0, 18000.0, 18500.0, 25000.0, 7000.0, 28000.0, 22000.0, 42000.0, 35000.0, 20000.0, 20000.0, 23000.0, 25000.0, 20000.0, 18000.0, 13500.0, 100000.0, 15570.0, 14927.0, 20000.0, 18000.0, 12000.0, 14000.0, 8000.0, 7000.0, 25000.0, 20000.0, 15000.0, 13500.0, 19500.0, 17000.0, 15000.0, 24000.0, 18000.0, 16000.0, 23000.0, 25000.0, 15500.0, 20000.0, 35000.0, 12000.0, 29000.0, 12000.0, 15000.0, 32000.0, 100000.0, 400000.0, 58000.0, 15500.0, 14500.0, 14000.0, 27000.0, 12000.0, 20000.0, 24000.0, 16000.0, 12000.0, 22000.0, 29000.0, 28000.0, 16000.0, 20000.0, 25000.0, 30000.0, 22000.0, 24000.0, 30000.0, 25000.0, 50000.0, 21000.0, 22000.0, 18000.0, 20000.0, 8500.0, 10000.0, 10000.0, 16000.0, 20000.0, 50000.0, 20000.0, 16000.0, 22000.0, 16000.0, 25000.0, 16000.0, 13500.0, 13000.0, 13500.0, 13000.0, 15000.0, 13000.0, 16000.0, 20000.0, 21000.0, 38000.0, 32000.0, 24000.0, 17000.0, 26000.0, 22000.0, 15000.0, 19000.0, 8000.0, 11000.0, 20000.0, 25000.0, 20000.0, 18000.0, 18000.0, 14000.0, 20000.0, 16000.0, 24000.0, 17000.0, 15000.0, 19000.0, 25000.0, 27000.0, 27000.0, 13000.0, 31000.0, 16000.0, 26000.0, 30000.0, 80000.0, 20000.0, 8000.0, 11000.0, 16000.0, 13000.0, 10000.0, 12000.0, 8499.0, 22000.0, 18000.0, 35000.0, 16000.0, 15000.0, 13000.0, 23000.0, 18000.0, 13000.0, 15000.0, 16000.0, 15500.0, 15000.0, 15500.0, 15000.0, 15500.0, 15000.0, 10500.0, 10000.0, 25000.0, 18000.0, 13500.0, 25000.0, 19000.0, 15000.0, 28000.0, 27000.0, 13000.0, 13500.0, 15000.0, 15000.0, 11500.0, 12000.0, 8500.0, 18000.0, 20000.0, 17000.0, 14500.0, 17000.0, 12500.0, 24000.0, 15000.0, 12000.0, 12000.0, 16000.0, 15000.0, 25000.0, 15000.0, 10000.0, 18500.0, 16000.0, 11000.0, 22000.0, 18000.0, 12000.0, 16000.0, 15000.0, 25000.0, 24000.0, 15000.0, 13000.0, 15000.0, 13000.0, 11000.0, 22000.0, 16000.0, 18000.0, 9500.0, 13000.0, 17500.0, 13000.0, 17000.0, 13500.0, 13500.0, 14000.0, 12000.0, 8000.0, 13000.0, 18000.0, 15000.0, 9000.0, 12500.0, 17000.0, 25000.0, 18000.0, 13000.0, 24000.0, 15500.0, 10000.0, 10500.0, 13500.0, 14500.0, 7500.0, 26000.0, 15000.0, 8000.0, 13000.0, 16000.0, 22000.0, 16000.0, 13500.0, 13000.0, 13500.0, 13000.0, 15500.0, 15000.0, 15500.0, 10500.0, 15000.0, 10500.0, 15500.0, 15000.0, 10000.0, 15500.0, 15000.0, 10000.0, 15500.0, 15000.0, 10500.0, 10000.0, 10000.0, 13000.0, 16000.0, 13000.0, 22000.0, 36000.0, 13000.0, 10000.0, 23000.0, 36000.0, 8000.0, 18000.0, 15000.0, 11000.0, 20000.0, 18000.0, 26000.0, 10000.0, 22000.0, 8000.0, 85000.0, 7000.0, 5500.0, 18000.0, 20000.0, 24000.0, 23000.0, 16000.0, 15000.0, 19000.0, 15000.0, 24000.0, 20000.0, 22000.0, 38000.0, 35000.0, 7500.0, 24000.0, 12000.0, 13000.0, 15000.0, 12500.0, 14000.0, 15000.0, 40000.0, 13000.0, 9000.0, 30000.0, 15500.0, 12000.0, 12000.0, 12000.0, 13000.0, 24000.0, 11000.0, 17000.0, 7000.0, 16000.0, 18000.0, 16000.0, 15000.0, 16000.0, 8000.0, 16000.0, 11000.0, 12000.0, 15000.0, 9000.0, 10000.0, 14000.0, 16000.0, 9000.0, 13000.0, 15000.0, 10000.0, 20000.0, 19000.0, 19000.0, 26500.0, 23500.0, 15000.0, 17000.0, 23000.0, 15000.0, 14000.0, 18000.0, 23000.0, 23000.0, 23000.0, 15000.0, 27000.0, 21000.0, 16500.0, 17000.0, 23000.0, 15000.0, 16000.0, 18000.0, 19000.0, 26000.0, 18000.0, 24000.0, 9000.0, 23000.0, 27000.0, 35000.0, 24000.0, 24000.0, 8000.0, 13500.0, 17000.0, 15000.0, 9000.0, 24000.0, 23000.0, 27000.0, 35000.0, 40000.0, 18000.0, 13500.0, 13000.0, 12000.0, 60000.0, 21000.0, 20000.0, 17500.0, 7000.0, 17000.0, 10000.0, 19000.0, 9000.0, 25000.0, 15000.0, 16500.0, 13000.0, 15000.0, 10000.0, 15000.0, 12500.0, 10000.0, 16000.0, 15000.0, 15000.0, 13000.0, 18000.0, 10000.0, 18000.0, 30000.0, 12000.0, 11000.0, 13000.0, 15000.0, 10500.0, 10000.0, 30000.0, 16500.0, 16000.0, 18000.0, 18000.0, 16000.0, 18000.0, 16000.0, 20000.0, 20000.0, 20000.0, 10000.0, 75000.0, 16000.0, 13000.0, 18000.0, 21000.0, 28000.0, 22000.0, 22000.0, 20000.0, 14000.0, 14000.0, 13000.0, 10000.0, 15000.0, 15000.0, 36000.0, 30000.0, 15000.0, 24000.0, 26000.0, 20000.0, 32000.0, 21000.0, 22000.0, 26500.0, 30000.0, 25000.0, 21000.0, 22000.0, 19000.0, 26000.0, 17000.0, 29000.0, 18000.0, 22000.0, 22000.0, 21000.0, 25000.0, 21000.0, 20000.0, 35000.0, 22000.0, 21000.0, 25000.0, 23000.0, 25000.0, 16500.0, 29000.0, 18000.0, 22000.0, 22000.0, 21000.0, 25000.0, 21000.0, 20000.0, 35000.0, 22000.0, 21000.0, 25000.0, 23000.0, 25000.0, 16500.0, 19000.0, 20000.0, 20000.0, 20000.0, 18850.0, 20000.0, 19000.0, 20000.0, 20000.0, 25000.0, 15660.0, 19000.0, 40000.0, 20000.0, 28000.0, 25000.0, 25000.0, 25000.0, 23000.0, 20000.0, 30000.0, 20000.0, 23000.0, 32000.0, 32000.0, 32000.0, 25000.0, 26000.0, 28000.0, 21000.0, 23000.0, 24000.0, 22000.0, 25000.0, 30000.0, 23000.0, 26000.0, 13000.0, 11000.0, 21000.0, 26000.0, 12000.0, 14000.0, 14000.0, 12500.0, 24000.0, 12000.0, 13000.0, 25000.0, 36000.0, 40000.0, 13500.0, 13000.0, 14000.0, 16000.0, 26000.0, 12500.0, 15000.0, 45000.0, 33000.0, 15000.0, 30000.0, 100000.0, 32000.0, 45000.0, 17000.0, 32000.0, 17000.0, 13500.0, 13000.0, 14000.0, 16000.0, 26000.0, 12500.0, 45000.0, 55000.0, 15000.0, 15000.0, 10500.0, 21000.0, 15000.0, 35000.0, 35000.0, 40000.0, 36000.0, 15000.0, 15000.0, 10500.0, 21000.0, 17000.0, 32000.0, 17000.0, 100000.0, 38000.0, 27000.0, 15000.0, 15000.0, 14000.0, 55000.0, 36000.0, 25000.0, 25000.0, 25000.0, 25000.0, 26500.0, 35000.0, 35000.0, 35000.0, 30000.0, 27000.0, 32000.0, 29000.0, 15000.0, 85000.0, 14000.0, 12500.0, 14000.0, 26000.0, 10000.0, 8000.0, 10000.0, 6500.0, 6000.0, 10000.0, 8000.0, 20000.0, 19000.0, 18000.0, 20000.0, 23000.0, 19000.0, 16000.0, 25000.0, 23000.0, 20000.0, 20000.0, 19000.0, 18000.0, 15000.0, 20000.0, 15000.0, 15000.0, 19000.0, 18000.0, 18000.0, 18000.0, 18000.0, 25000.0, 25000.0, 20000.0, 25000.0, 17000.0, 20000.0, 23000.0, 35000.0, 38000.0, 25000.0, 20000.0, 23000.0, 38000.0, 21000.0, 21000.0, 20000.0, 25000.0, 30000.0, 37000.0, 28000.0, 18000.0, 25000.0, 20000.0, 35000.0, 54000.0, 16000.0, 17000.0, 16000.0, 19000.0, 17000.0, 20000.0, 20000.0, 23000.0, 20000.0, 18000.0, 25000.0, 17000.0, 20000.0, 28000.0, 23000.0, 17000.0, 18000.0, 15000.0, 18000.0, 13000.0, 16000.0, 12000.0, 12000.0, 12000.0, 14000.0, 15000.0, 15500.0, 30000.0, 20000.0, 25000.0, 22000.0, 20000.0, 12000.0, 11000.0, 11000.0, 20000.0, 13500.0, 16500.0, 9500.0, 12500.0, 12000.0, 15000.0, 20000.0, 16500.0, 13500.0, 12000.0, 12000.0, 11000.0, 16000.0, 15000.0, 25000.0, 17000.0, 14000.0, 17000.0, 15000.0, 13000.0, 10000.0, 19000.0, 12000.0, 9000.0, 15600.0, 20000.0, 15000.0, 9000.0, 19000.0, 15000.0, 16000.0, 15000.0, 15000.0, 16000.0, 16000.0, 10000.0, 14000.0, 12000.0, 11000.0, 18000.0, 14000.0, 14500.0, 14000.0, 10000.0, 11000.0, 20000.0, 10000.0, 30000.0, 10000.0, 17000.0, 15000.0, 13000.0, 10000.0, 19000.0, 12000.0, 9000.0, 15600.0, 20000.0, 15000.0, 9000.0, 19000.0, 15000.0, 12000.0, 12000.0, 12000.0, 8500.0, 8500.0, 9000.0, 13000.0, 16000.0, 13000.0, 12000.0, 12000.0, 25000.0, 15000.0, 18000.0, 12000.0, 12000.0, 12000.0, 11000.0, 16000.0, 15000.0, 25000.0, 17000.0, 14000.0, 18000.0, 18000.0, 14000.0, 13500.0, 12500.0, 16000.0, 10000.0, 12500.0, 14000.0, 21000.0, 13500.0, 14000.0, 15000.0, 16000.0, 16000.0, 10000.0, 14000.0, 14000.0, 19000.0, 17000.0, 12000.0, 12000.0, 10000.0, 12000.0, 17000.0, 16500.0, 13000.0, 17000.0, 16500.0, 15000.0, 13000.0, 15000.0, 9500.0, 13000.0, 12000.0, 15000.0, 25000.0, 11000.0, 16000.0, 12000.0, 12000.0, 11000.0, 11000.0, 14000.0, 22000.0, 13000.0, 13000.0, 11000.0, 15000.0, 14000.0, 16000.0, 16000.0, 13000.0, 18000.0, 14000.0, 14500.0, 26000.0, 26000.0, 15000.0, 20000.0, 15000.0, 18000.0, 20000.0, 18000.0, 15000.0, 16000.0, 15000.0, 15000.0, 18000.0, 16000.0, 13000.0, 10000.0, 16000.0, 12000.0, 30000.0, 12000.0, 28000.0, 30000.0, 16000.0, 100000.0, 100000.0, 8000.0, 28000.0, 11000.0, 12000.0, 12000.0, 23000.0, 15000.0, 30000.0, 18000.0, 30000.0, 17000.0, 16000.0, 24000.0, 15000.0, 16000.0, 20000.0, 16000.0, 18000.0, 15000.0, 17000.0, 14000.0, 21000.0, 16000.0, 18000.0, 15000.0, 10000.0, 10000.0, 10000.0, 30000.0, 20000.0, 20000.0, 35000.0, 18500.0, 10000.0, 7000.0, 16000.0, 9000.0, 9200.0, 12500.0, 11000.0, 13000.0, 25000.0, 9000.0, 20000.0, 12000.0, 9000.0, 45000.0, 11000.0, 17000.0, 15500.0, 11000.0, 11000.0, 16000.0, 10500.0, 6500.0, 10000.0, 7500.0, 16000.0, 13500.0, 11000.0, 13000.0, 16500.0, 30000.0, 25000.0, 65000.0, 30000.0, 7500.0, 10500.0, 10000.0, 22000.0, 22000.0, 23000.0, 6000.0, 15000.0, 21000.0, 16000.0, 10000.0, 10000.0, 6800.0, 10500.0, 13000.0, 4000.0, 7000.0, 14500.0, 14000.0, 12000.0, 13000.0, 6000.0, 10000.0, 17000.0, 12000.0, 16500.0, 16200.0, 15000.0, 16000.0, 10000.0, 13000.0, 16000.0, 16000.0, 14000.0, 16000.0, 13000.0, 5000.0, 28000.0, 24000.0, 6000.0, 22000.0, 8000.0, 8500.0, 6500.0, 18000.0, 13000.0, 28000.0, 14000.0, 12000.0, 12000.0, 10000.0, 21000.0, 25000.0, 21000.0, 10000.0, 16000.0, 15000.0, 19000.0, 33000.0, 10000.0, 12000.0, 28000.0, 3500.0, 4000.0, 21000.0, 11000.0, 7500.0, 8000.0, 18000.0, 12500.0, 8500.0, 8500.0, 7500.0, 7500.0, 9700.0, 10000.0, 14000.0, 9000.0, 10000.0, 18000.0, 24000.0, 4500.0, 14000.0, 15000.0, 25000.0, 6000.0, 5500.0, 8500.0, 10000.0, 9888.0, 4000.0, 8000.0, 15000.0, 8000.0, 21000.0, 16500.0, 12000.0, 9000.0, 10500.0, 7000.0, 10000.0, 9000.0, 18000.0, 26500.0, 6000.0, 6000.0, 12000.0, 3800.0, 4500.0, 12000.0, 10000.0, 15000.0, 12500.0, 9500.0, 25000.0, 14000.0, 6000.0, 20000.0, 4500.0, 11000.0, 11000.0, 49000.0, 9000.0, 13000.0, 10000.0, 8800.0, 14000.0, 14000.0, 24000.0, 5000.0, 12500.0, 10000.0, 10500.0, 22000.0, 8000.0, 6000.0, 7500.0, 15000.0, 12000.0, 13000.0, 17500.0, 21000.0, 11000.0, 12400.0, 13500.0, 11500.0, 8000.0, 20000.0, 10000.0, 9000.0, 8000.0, 6000.0, 11000.0, 10500.0, 15000.0, 15500.0, 9000.0, 12500.0, 11000.0, 15000.0, 12000.0, 8000.0, 14100.0, 12000.0, 8000.0, 6000.0, 7500.0, 16000.0, 7500.0, 7500.0, 18000.0, 11000.0, 10000.0, 19000.0, 15500.0, 18000.0, 28000.0, 10000.0, 15000.0, 10000.0, 16000.0, 8500.0, 18000.0, 20000.0, 15000.0, 7000.0, 10500.0, 18000.0, 20000.0, 10000.0, 10000.0, 12000.0, 20000.0, 22000.0, 6500.0, 16000.0, 6000.0, 23000.0, 20000.0, 24000.0, 12000.0, 11000.0, 13000.0, 12500.0, 14000.0, 12000.0, 11000.0, 27000.0, 23000.0, 6800.0, 4500.0, 23000.0, 4500.0, 12500.0, 8500.0, 14000.0, 13500.0, 15500.0, 23000.0, 19000.0, 6500.0, 16600.0, 12000.0, 16000.0, 18000.0, 14500.0, 12000.0, 25000.0, 13000.0, 22000.0, 13000.0, 9000.0, 23000.0, 14000.0, 13000.0, 13000.0, 13000.0, 13000.0, 16000.0, 7000.0, 13000.0, 14500.0, 30000.0, 15500.0, 7500.0, 14000.0, 15000.0, 9500.0, 10000.0, 28000.0, 25000.0, 17000.0, 15500.0, 13000.0, 16500.0, 15900.0, 28000.0, 15500.0, 7500.0, 13000.0, 12000.0, 26000.0, 12000.0, 10000.0, 16000.0, 12600.0, 6000.0, 28000.0, 6000.0, 17000.0, 6500.0, 5500.0, 10000.0, 15500.0, 11000.0, 17500.0, 25000.0, 38000.0, 7500.0, 25000.0, 18000.0, 9000.0, 12000.0, 23500.0, 21000.0, 18000.0, 36000.0, 25000.0, 9500.0, 15000.0, 14000.0, 15000.0, 5500.0, 11000.0, 17000.0, 28000.0, 17000.0, 6000.0, 23000.0, 22000.0, 16000.0, 13000.0, 16000.0, 14000.0, 18000.0, 8000.0, 8000.0, 19000.0, 7500.0, 12000.0, 14000.0, 7500.0, 3200.0, 8000.0, 9500.0, 20000.0, 11500.0, 11500.0, 40000.0, 12000.0, 30000.0, 17000.0, 10000.0, 20000.0, 24000.0, 14000.0, 12000.0, 26000.0, 16000.0, 12500.0, 16000.0, 6000.0, 15000.0, 25500.0, 7000.0, 11000.0, 10000.0, 7800.0, 9000.0, 24000.0, 3500.0, 12000.0, 12000.0, 13000.0, 9000.0, 13000.0, 7000.0, 15000.0, 24000.0, 7500.0, 10000.0, 27000.0, 11000.0, 16000.0, 7500.0, 7000.0, 12000.0, 20000.0, 10000.0, 20001.0, 15000.0, 16000.0, 18000.0, 13000.0, 16500.0, 15500.0, 13000.0, 15000.0, 12000.0, 15000.0, 12000.0, 12500.0, 7500.0, 8500.0, 6000.0, 13000.0, 5500.0, 15000.0, 10000.0, 30000.0, 7500.0, 16000.0, 8000.0, 9600.0, 16000.0, 17500.0, 14500.0, 12000.0, 8000.0, 15500.0, 10000.0, 16000.0, 17000.0, 5800.0, 20000.0, 18000.0, 12000.0, 13000.0, 12600.0, 13500.0, 15000.0, 7000.0, 9000.0, 10000.0, 7600.0, 12600.0, 13500.0, 15000.0, 7000.0, 9000.0, 10000.0, 7600.0, 32000.0, 13000.0, 14000.0, 7500.0, 10000.0, 5000.0, 18000.0, 12500.0, 25000.0, 7500.0, 20000.0, 20000.0, 16500.0, 6000.0, 10500.0, 35000.0, 10000.0, 12000.0, 17500.0, 25000.0, 25000.0, 25000.0, 25000.0, 25000.0, 25000.0, 25000.0, 25000.0, 25000.0, 25000.0, 25000.0, 25000.0, 25000.0, 25000.0, 25000.0, 25000.0, 25000.0, 25000.0, 25000.0, 25000.0, 17000.0, 17000.0, 17000.0, 6000.0, 7500.0, 20000.0, 17000.0, 17000.0, 37000.0, 16000.0, 19000.0, 35000.0, 13500.0, 11000.0, 12000.0, 19000.0, 21000.0, 8500.0, 16500.0, 11000.0, 30000.0, 27000.0, 5500.0, 11000.0, 6500.0, 7499.0, 26000.0, 13000.0, 6000.0, 8000.0, 17000.0, 12400.0, 16500.0, 11000.0, 23000.0, 3500.0, 12000.0, 12000.0, 8500.0, 10000.0, 12000.0, 15000.0, 9000.0, 16000.0, 18000.0, 23000.0, 6000.0, 20000.0, 20000.0, 28000.0, 6500.0, 13000.0, 5500.0, 13000.0, 6000.0, 8500.0, 20500.0, 8400.0, 23000.0, 28000.0, 20000.0, 9000.0, 25000.0, 24000.0, 16000.0, 11000.0, 7000.0, 16000.0, 8500.0, 11000.0, 23000.0, 5000.0, 20000.0, 15000.0, 20000.0, 14000.0, 23000.0, 12000.0, 14000.0, 12500.0, 18000.0, 8000.0, 25000.0, 7000.0, 30000.0, 16000.0, 16000.0, 13500.0, 11000.0, 11500.0, 40000.0, 9500.0, 4500.0, 24000.0, 10000.0, 9000.0, 9000.0, 13000.0, 8000.0, 10000.0, 4000.0, 9500.0, 7100.0, 9500.0, 12500.0, 14000.0, 5000.0, 13500.0, 16000.0, 6000.0, 8000.0, 17000.0, 12400.0, 11000.0, 4000.0, 7500.0, 14000.0, 18000.0, 13000.0, 8500.0, 11000.0, 16500.0, 13000.0, 100000.0, 100000.0, 11500.0, 12500.0, 23000.0, 17500.0, 23000.0, 12000.0, 14000.0, 8500.0, 20500.0, 8400.0, 23000.0, 28000.0, 20000.0, 9000.0, 25000.0, 24000.0, 16000.0, 11000.0, 12500.0, 18000.0, 8000.0, 12000.0, 9000.0, 9500.0, 15000.0, 8000.0, 8500.0, 20000.0, 20000.0, 5000.0, 17000.0, 12500.0, 26000.0, 20000.0, 16000.0, 15000.0, 18000.0, 30000.0, 12000.0, 12000.0, 18000.0, 18000.0, 10000.0, 50000.0, 4000.0, 5000.0, 10000.0, 18000.0, 11000.0, 9000.0, 40000.0, 7000.0, 12500.0, 6500.0, 8000.0, 5500.0, 33000.0, 32000.0, 10000.0, 7500.0, 10000.0, 15000.0, 8500.0, 5000.0, 7500.0, 12000.0, 15000.0, 11500.0, 14000.0, 13000.0, 16500.0, 29000.0, 8000.0, 6000.0, 18000.0, 7000.0, 5500.0, 13000.0, 5000.0, 18000.0, 18000.0, 10000.0, 17500.0, 12000.0, 25000.0, 18000.0, 19000.0, 23000.0, 15000.0, 14000.0, 15000.0, 17000.0, 22000.0, 10000.0, 25000.0, 15000.0, 9000.0, 8000.0, 25000.0, 19500.0, 16000.0, 25000.0, 16500.0, 9000.0, 27000.0, 15500.0, 8000.0, 21000.0, 16000.0, 22000.0, 10000.0, 8000.0, 10000.0, 9000.0, 16500.0, 15000.0, 15000.0, 25000.0, 8000.0, 6000.0, 15000.0, 12000.0, 19200.0, 10500.0, 23500.0, 16000.0, 19000.0, 11000.0, 16000.0, 20000.0, 11300.0, 23000.0, 12000.0, 11000.0, 15000.0, 10000.0, 20000.0, 7500.0, 7000.0, 11000.0, 12000.0, 12000.0, 11592.0, 6000.0, 15000.0, 35000.0, 22000.0, 24000.0, 7000.0, 18000.0, 10000.0, 16000.0, 12000.0, 20000.0, 37000.0, 6000.0, 16000.0, 19000.0, 14000.0, 10000.0, 28000.0, 6000.0, 6000.0, 12000.0, 10000.0, 19500.0, 14000.0, 11500.0, 12000.0, 9000.0, 9500.0, 15000.0, 8000.0, 8500.0, 20000.0, 20000.0, 4300.0, 23000.0, 13000.0, 4000.0, 5000.0, 9000.0, 13000.0, 27000.0, 22000.0, 17500.0, 7000.0, 16000.0, 12500.0, 18000.0, 14000.0, 9700.0, 4500.0, 25000.0, 18000.0, 12000.0, 10000.0, 9000.0, 9000.0, 13000.0, 8000.0, 10000.0, 4000.0, 9500.0, 7100.0, 9500.0, 33000.0, 10000.0, 4500.0, 15000.0, 7500.0, 12000.0, 17000.0, 24000.0, 3500.0, 15000.0, 18000.0, 9500.0, 12500.0, 14000.0, 5000.0, 13500.0, 16000.0, 10000.0, 11000.0, 4000.0, 7500.0, 14000.0, 18000.0, 19000.0, 22000.0, 27000.0, 6500.0, 14000.0, 5000.0, 16000.0, 16000.0, 6000.0, 6500.0, 5500.0, 8000.0, 12000.0, 6000.0, 10000.0, 11500.0, 18000.0, 11500.0, 9000.0, 7000.0, 14000.0, 13000.0, 18000.0, 8000.0, 7000.0, 21000.0, 15500.0, 10500.0, 26000.0, 13000.0, 10000.0, 23000.0, 23000.0, 7000.0, 14000.0, 12000.0, 7800.0, 14000.0, 34000.0, 30000.0, 10000.0, 11100.0, 14000.0, 4000.0, 16000.0, 10000.0, 14000.0, 35000.0, 16500.0, 5500.0, 16500.0, 16500.0, 6000.0, 5500.0, 20000.0, 8000.0, 5000.0, 10000.0, 13000.0, 19000.0, 16000.0, 8800.0, 10500.0, 10500.0, 8000.0, 8500.0, 15000.0, 10000.0, 9500.0, 7000.0, 9000.0, 15500.0, 12000.0, 13000.0, 7500.0, 18000.0, 20000.0, 20000.0, 10000.0, 10000.0, 15000.0, 16000.0, 4000.0, 9000.0, 23400.0, 9000.0, 8500.0, 8500.0, 8500.0, 8500.0, 8500.0, 8500.0, 8500.0, 8500.0, 8500.0, 8500.0, 8500.0, 8500.0, 8500.0, 8500.0, 7500.0, 11500.0, 11000.0, 8500.0, 18000.0, 9000.0, 21000.0, 12000.0, 4500.0, 7500.0, 12000.0, 13500.0, 18000.0, 35000.0, 7500.0, 8500.0, 7500.0, 5500.0, 7000.0, 7500.0, 4500.0, 10000.0, 10000.0, 16500.0, 16500.0, 16500.0, 16500.0, 16500.0, 16500.0, 16500.0, 18500.0, 18500.0, 18500.0, 10000.0, 8500.0, 7500.0, 7500.0, 7500.0, 12000.0, 12000.0, 14000.0, 13500.0, 12500.0, 12400.0, 7000.0, 16000.0, 10000.0, 10500.0, 8500.0, 45000.0, 10000.0, 17000.0, 25000.0, 12000.0, 10000.0, 5800.0, 15000.0, 12000.0, 12000.0, 19000.0, 5000.0, 5500.0, 13500.0, 19000.0, 4500.0, 13000.0, 6500.0, 20000.0, 16000.0, 11000.0, 14500.0, 15000.0, 32000.0, 17000.0, 30000.0, 7500.0, 8000.0, 8000.0, 8000.0, 8000.0, 18500.0, 9500.0, 18500.0, 9500.0, 35000.0, 9500.0, 35000.0, 9500.0, 18500.0, 9500.0, 35000.0, 18500.0, 9500.0, 35000.0, 35000.0, 9500.0, 45000.0, 45000.0, 45000.0, 17000.0, 6500.0, 18000.0, 9500.0, 14650.0, 14650.0, 15650.0, 15650.0, 18000.0, 18000.0, 20000.0, 13500.0, 20900.0, 3500.0, 3500.0, 3500.0, 3500.0, 17000.0, 17000.0, 17000.0, 17000.0, 17000.0, 17000.0, 17000.0, 8000.0, 11000.0, 16500.0, 16500.0, 16000.0, 16500.0, 16500.0, 15900.0, 11500.0, 9000.0, 9000.0, 14000.0, 7500.0, 12500.0, 6500.0, 14000.0, 9000.0, 9000.0, 7500.0, 48000.0, 8500.0, 13500.0, 7500.0, 11000.0, 25000.0, 11000.0, 14000.0, 4000.0, 12700.0, 7000.0, 5000.0, 8000.0, 6500.0, 13000.0, 50000.0, 22000.0, 10000.0, 8500.0, 8500.0, 8500.0, 5500.0, 16500.0, 16500.0, 7000.0, 8500.0, 7000.0, 15000.0, 14000.0, 5000.0, 7000.0, 21000.0, 15000.0, 8000.0, 19000.0, 26000.0, 13000.0, 32000.0, 18000.0, 18000.0, 18000.0, 18000.0, 18000.0, 18000.0, 18000.0, 18000.0, 18000.0, 18000.0, 18000.0, 16000.0, 16000.0, 16000.0, 16000.0, 16000.0, 16000.0, 16000.0, 16000.0, 16000.0, 16000.0, 16000.0, 25000.0, 20400.0, 12500.0, 20000.0, 20000.0, 20000.0, 20000.0, 20000.0, 20400.0, 20400.0, 4700.0, 8500.0, 18000.0, 19000.0, 19000.0, 19000.0, 19000.0, 19000.0, 7500.0, 10000.0, 12000.0, 12000.0, 11592.0, 6000.0, 15000.0, 35000.0, 22000.0, 25000.0, 8000.0, 6000.0, 15000.0, 12000.0, 19200.0, 10500.0, 23500.0, 16000.0, 19000.0, 11000.0, 23000.0, 23000.0, 23000.0, 23000.0, 23000.0, 23000.0, 23000.0, 23000.0, 23000.0, 23000.0, 23000.0, 12000.0, 11000.0, 11500.0, 11500.0, 15000.0, 15000.0, 15000.0, 15000.0, 15000.0, 15000.0, 15000.0, 15000.0, 15000.0, 9000.0, 7000.0, 13000.0, 14700.0, 14700.0, 14700.0, 14700.0, 14700.0, 14700.0, 14700.0, 14700.0, 6500.0, 6500.0, 6500.0, 6500.0, 6500.0, 8000.0, 21000.0, 16000.0, 22000.0, 10000.0, 8000.0, 11000.0, 16500.0, 15000.0, 15000.0, 7000.0, 9000.0, 15000.0, 8500.0, 15000.0, 16000.0, 4000.0, 9000.0, 23400.0, 9000.0, 4000.0, 4000.0, 4000.0, 4000.0, 23000.0, 5500.0, 5500.0, 5500.0, 6500.0, 6500.0, 14000.0, 8000.0, 14500.0, 18000.0, 14650.0, 7000.0, 20000.0, 14500.0, 17000.0, 14500.0, 10800.0, 9000.0, 18000.0, 23000.0, 17000.0, 5000.0, 14000.0, 7500.0, 11500.0, 11000.0, 8500.0, 18000.0, 9000.0, 21000.0, 12000.0, 4500.0, 7500.0, 12000.0, 13500.0, 18000.0, 35000.0, 7500.0, 8500.0, 7500.0, 5500.0, 7000.0, 7500.0, 18500.0, 6000.0, 12900.0, 7000.0, 11800.0, 25000.0, 25000.0, 25000.0, 7000.0, 8500.0, 7000.0, 15000.0, 14000.0, 5000.0, 7000.0, 21000.0, 15000.0, 8000.0, 19000.0, 26000.0, 13000.0, 32000.0, 12000.0, 14000.0, 10000.0, 33000.0, 11000.0, 26000.0, 20000.0, 11000.0, 10000.0, 12500.0, 7000.0, 9000.0, 8000.0, 8000.0, 8000.0, 8000.0, 25000.0, 29000.0, 6500.0, 9000.0, 22000.0, 18000.0, 6000.0, 18000.0, 16000.0, 10000.0, 5500.0, 12000.0, 12500.0, 15000.0, 13100.0, 9500.0, 45000.0, 45000.0, 45000.0, 17000.0, 6500.0, 18000.0, 9500.0, 14650.0, 14650.0, 15650.0, 15650.0, 18000.0, 18000.0, 20000.0, 13500.0, 20900.0, 3500.0, 3500.0, 3500.0, 8500.0, 8500.0, 8500.0, 8500.0, 8500.0, 8500.0, 8500.0, 9500.0, 6500.0, 9000.0, 9000.0, 9000.0, 9000.0, 7500.0, 13000.0, 15000.0, 15000.0, 16000.0, 12000.0, 22000.0, 7500.0, 12500.0, 6500.0, 14000.0, 9000.0, 9000.0, 7500.0, 48000.0, 8500.0, 13500.0, 7500.0, 11000.0, 25000.0, 11000.0, 14000.0, 4000.0, 12700.0, 7000.0, 5000.0, 8000.0, 5000.0, 18000.0, 23500.0, 14000.0, 19000.0, 19000.0, 22000.0, 9500.0, 17000.0, 13000.0, 13000.0, 14000.0, 17000.0, 4000.0, 7000.0, 17000.0, 17000.0, 22500.0, 18000.0, 14000.0, 7500.0, 13000.0, 12000.0, 8000.0, 8500.0, 8000.0, 20000.0, 8000.0, 4500.0, 9000.0, 9000.0, 9000.0, 9000.0, 9000.0, 9000.0, 9000.0, 9500.0, 9500.0, 9500.0, 9500.0, 9500.0, 9500.0, 9500.0, 9500.0, 12000.0, 12000.0, 19000.0, 5000.0, 5500.0, 13500.0, 19000.0, 4500.0, 13000.0, 6500.0, 20000.0, 16000.0, 11000.0, 14500.0, 15000.0, 32000.0, 11500.0, 18000.0, 11500.0, 9000.0, 7000.0, 7500.0, 7500.0, 26000.0, 5500.0, 15000.0, 5000.0, 9000.0, 15000.0, 18500.0, 13000.0, 22000.0, 20000.0, 6000.0, 10000.0, 18000.0, 16000.0, 13000.0, 8000.0, 8000.0, 9000.0, 15500.0, 34000.0, 14000.0, 16000.0, 6000.0, 18000.0, 12000.0, 18000.0, 10500.0, 13000.0, 7000.0, 12000.0, 18000.0, 10000.0, 13500.0, 6500.0, 15000.0, 23000.0, 17000.0, 15500.0, 12000.0, 10000.0, 17000.0, 22000.0, 13000.0, 15500.0, 5500.0, 18000.0, 15000.0, 8000.0, 6000.0, 17000.0, 8500.0, 18000.0, 8500.0, 9000.0, 5000.0, 6000.0, 9000.0, 35000.0, 20000.0, 5000.0, 20000.0, 17000.0, 17000.0, 17000.0, 17000.0, 17000.0, 17000.0, 17000.0, 17000.0, 17000.0, 17000.0, 17000.0, 17000.0, 17000.0, 17000.0, 17000.0, 17000.0, 17000.0, 17000.0, 17000.0, 17000.0, 17000.0, 17000.0, 17000.0, 6000.0, 6000.0, 5500.0, 5500.0, 5500.0, 8000.0, 5500.0, 5500.0, 5500.0, 5500.0, 5500.0, 5500.0, 5500.0, 5500.0, 5500.0, 5500.0, 5500.0, 5500.0, 5500.0, 5500.0, 5500.0, 5500.0, 8500.0, 9000.0, 8500.0, 8000.0, 20000.0, 8000.0, 4500.0, 9000.0, 9000.0, 9000.0, 9000.0, 9000.0, 9000.0, 9000.0, 9500.0, 9500.0, 9500.0, 9500.0, 9500.0, 9500.0, 9500.0, 9500.0, 12000.0, 28000.0, 22000.0, 25000.0, 12000.0, 22000.0, 12000.0, 11000.0, 15000.0, 16000.0, 7500.0, 14500.0, 16000.0, 12000.0, 17000.0, 8000.0, 12000.0, 17000.0, 25000.0, 28000.0, 24000.0, 13000.0, 13000.0, 42000.0, 13000.0, 13000.0, 24000.0, 13000.0, 13000.0, 42000.0, 13000.0, 9500.0, 25000.0, 45000.0, 10000.0, 12000.0, 8500.0, 45000.0, 14000.0, 10500.0, 6000.0, 8500.0, 11000.0, 11000.0, 5000.0, 15000.0, 6000.0, 7500.0, 12000.0, 14000.0, 12000.0, 45000.0, 33000.0, 13000.0, 17000.0, 18000.0, 38000.0, 17000.0, 18000.0, 16500.0, 14000.0, 17000.0, 22000.0, 42000.0, 12500.0, 12500.0, 11000.0, 35000.0, 23000.0, 18000.0, 18000.0, 23000.0, 20000.0, 32000.0, 23000.0, 25000.0, 80000.0, 42000.0, 40000.0, 19000.0, 14000.0, 14000.0, 17000.0, 14000.0, 19000.0, 30000.0, 23000.0, 22000.0, 25000.0, 14500.0, 14000.0, 18000.0, 12500.0, 19500.0, 20000.0, 21000.0, 18000.0, 15000.0, 15000.0, 18500.0, 18500.0, 14000.0, 24000.0, 17500.0, 18500.0, 26000.0, 21000.0, 15000.0, 19000.0, 20000.0, 20000.0, 20000.0, 18000.0, 20000.0, 27000.0, 23000.0, 17000.0, 19000.0, 15000.0, 18000.0, 45000.0, 14000.0, 18500.0, 20000.0, 26000.0, 21000.0, 15000.0, 19000.0, 18000.0, 45000.0, 13000.0, 55000.0, 27000.0, 24500.0, 14000.0, 18500.0, 20000.0, 20000.0, 17000.0, 16000.0, 16000.0, 14000.0, 17000.0, 15000.0, 15000.0, 15000.0, 17500.0, 18000.0, 21000.0, 15000.0, 15000.0, 16000.0, 13500.0, 25000.0, 14000.0, 18000.0, 18000.0, 14000.0, 18000.0, 15000.0, 14000.0, 30000.0, 18500.0, 13000.0, 55000.0, 27000.0, 24500.0, 14500.0, 16000.0, 12500.0, 16000.0, 16000.0, 20000.0, 17500.0, 17000.0, 15500.0, 17500.0, 17500.0, 17000.0, 17500.0, 17500.0, 14000.0, 19000.0, 22000.0, 18500.0, 15500.0, 16000.0, 14500.0, 18000.0, 18000.0, 13500.0, 18000.0, 45000.0, 25000.0, 40000.0, 14000.0, 14000.0, 21000.0, 18000.0, 12500.0, 26000.0, 22500.0, 22500.0, 17500.0, 15000.0, 18500.0, 14000.0, 18000.0, 14500.0, 15000.0, 24000.0, 24000.0, 22000.0, 16000.0, 14500.0, 18000.0, 18000.0, 13500.0, 18000.0, 18500.0, 15500.0, 45000.0, 25000.0, 40000.0, 14000.0, 20000.0, 23000.0, 27000.0, 17500.0, 15000.0] <class 'list'>\n"
          ]
        }
      ]
    },
    {
      "cell_type": "code",
      "source": [
        "df['rent'] = price_int"
      ],
      "metadata": {
        "id": "4iiKO012ztjv"
      },
      "execution_count": 89,
      "outputs": []
    },
    {
      "cell_type": "code",
      "source": [
        "df.head()"
      ],
      "metadata": {
        "colab": {
          "base_uri": "https://localhost:8080/",
          "height": 206
        },
        "id": "BkfgVROJzulv",
        "outputId": "a58271d4-4e8a-4818-e321-5c26e19d80f5"
      },
      "execution_count": 90,
      "outputs": [
        {
          "output_type": "execute_result",
          "data": {
            "text/plain": [
              "                     title   price  area          location          status  \\\n",
              "0          1 BHK Apartment  11,000   567     Dhanori, Pune     Unfurnished   \n",
              "1    1 RK Studio Apartment   5,000   300  MAE Campus, Pune       Furnished   \n",
              "2          2 BHK Apartment  19,000  1020       Warje, Pune     Unfurnished   \n",
              "3  1 BHK Independent Floor   5,500   500    Lohegaon, Pune  Semi-Furnished   \n",
              "4  2 BHK Independent Floor  14,999   950    Lohegaon, Pune     Unfurnished   \n",
              "\n",
              "   bedroom   rent  \n",
              "0      1.0  11000  \n",
              "1      1.0   5000  \n",
              "2      2.0  19000  \n",
              "3      1.0   5500  \n",
              "4      2.0  14999  "
            ],
            "text/html": [
              "\n",
              "  <div id=\"df-e0d155e6-67af-4985-b299-bf10faf6ee9e\" class=\"colab-df-container\">\n",
              "    <div>\n",
              "<style scoped>\n",
              "    .dataframe tbody tr th:only-of-type {\n",
              "        vertical-align: middle;\n",
              "    }\n",
              "\n",
              "    .dataframe tbody tr th {\n",
              "        vertical-align: top;\n",
              "    }\n",
              "\n",
              "    .dataframe thead th {\n",
              "        text-align: right;\n",
              "    }\n",
              "</style>\n",
              "<table border=\"1\" class=\"dataframe\">\n",
              "  <thead>\n",
              "    <tr style=\"text-align: right;\">\n",
              "      <th></th>\n",
              "      <th>title</th>\n",
              "      <th>price</th>\n",
              "      <th>area</th>\n",
              "      <th>location</th>\n",
              "      <th>status</th>\n",
              "      <th>bedroom</th>\n",
              "      <th>rent</th>\n",
              "    </tr>\n",
              "  </thead>\n",
              "  <tbody>\n",
              "    <tr>\n",
              "      <th>0</th>\n",
              "      <td>1 BHK Apartment</td>\n",
              "      <td>11,000</td>\n",
              "      <td>567</td>\n",
              "      <td>Dhanori, Pune</td>\n",
              "      <td>Unfurnished</td>\n",
              "      <td>1.0</td>\n",
              "      <td>11000</td>\n",
              "    </tr>\n",
              "    <tr>\n",
              "      <th>1</th>\n",
              "      <td>1 RK Studio Apartment</td>\n",
              "      <td>5,000</td>\n",
              "      <td>300</td>\n",
              "      <td>MAE Campus, Pune</td>\n",
              "      <td>Furnished</td>\n",
              "      <td>1.0</td>\n",
              "      <td>5000</td>\n",
              "    </tr>\n",
              "    <tr>\n",
              "      <th>2</th>\n",
              "      <td>2 BHK Apartment</td>\n",
              "      <td>19,000</td>\n",
              "      <td>1020</td>\n",
              "      <td>Warje, Pune</td>\n",
              "      <td>Unfurnished</td>\n",
              "      <td>2.0</td>\n",
              "      <td>19000</td>\n",
              "    </tr>\n",
              "    <tr>\n",
              "      <th>3</th>\n",
              "      <td>1 BHK Independent Floor</td>\n",
              "      <td>5,500</td>\n",
              "      <td>500</td>\n",
              "      <td>Lohegaon, Pune</td>\n",
              "      <td>Semi-Furnished</td>\n",
              "      <td>1.0</td>\n",
              "      <td>5500</td>\n",
              "    </tr>\n",
              "    <tr>\n",
              "      <th>4</th>\n",
              "      <td>2 BHK Independent Floor</td>\n",
              "      <td>14,999</td>\n",
              "      <td>950</td>\n",
              "      <td>Lohegaon, Pune</td>\n",
              "      <td>Unfurnished</td>\n",
              "      <td>2.0</td>\n",
              "      <td>14999</td>\n",
              "    </tr>\n",
              "  </tbody>\n",
              "</table>\n",
              "</div>\n",
              "    <div class=\"colab-df-buttons\">\n",
              "\n",
              "  <div class=\"colab-df-container\">\n",
              "    <button class=\"colab-df-convert\" onclick=\"convertToInteractive('df-e0d155e6-67af-4985-b299-bf10faf6ee9e')\"\n",
              "            title=\"Convert this dataframe to an interactive table.\"\n",
              "            style=\"display:none;\">\n",
              "\n",
              "  <svg xmlns=\"http://www.w3.org/2000/svg\" height=\"24px\" viewBox=\"0 -960 960 960\">\n",
              "    <path d=\"M120-120v-720h720v720H120Zm60-500h600v-160H180v160Zm220 220h160v-160H400v160Zm0 220h160v-160H400v160ZM180-400h160v-160H180v160Zm440 0h160v-160H620v160ZM180-180h160v-160H180v160Zm440 0h160v-160H620v160Z\"/>\n",
              "  </svg>\n",
              "    </button>\n",
              "\n",
              "  <style>\n",
              "    .colab-df-container {\n",
              "      display:flex;\n",
              "      gap: 12px;\n",
              "    }\n",
              "\n",
              "    .colab-df-convert {\n",
              "      background-color: #E8F0FE;\n",
              "      border: none;\n",
              "      border-radius: 50%;\n",
              "      cursor: pointer;\n",
              "      display: none;\n",
              "      fill: #1967D2;\n",
              "      height: 32px;\n",
              "      padding: 0 0 0 0;\n",
              "      width: 32px;\n",
              "    }\n",
              "\n",
              "    .colab-df-convert:hover {\n",
              "      background-color: #E2EBFA;\n",
              "      box-shadow: 0px 1px 2px rgba(60, 64, 67, 0.3), 0px 1px 3px 1px rgba(60, 64, 67, 0.15);\n",
              "      fill: #174EA6;\n",
              "    }\n",
              "\n",
              "    .colab-df-buttons div {\n",
              "      margin-bottom: 4px;\n",
              "    }\n",
              "\n",
              "    [theme=dark] .colab-df-convert {\n",
              "      background-color: #3B4455;\n",
              "      fill: #D2E3FC;\n",
              "    }\n",
              "\n",
              "    [theme=dark] .colab-df-convert:hover {\n",
              "      background-color: #434B5C;\n",
              "      box-shadow: 0px 1px 3px 1px rgba(0, 0, 0, 0.15);\n",
              "      filter: drop-shadow(0px 1px 2px rgba(0, 0, 0, 0.3));\n",
              "      fill: #FFFFFF;\n",
              "    }\n",
              "  </style>\n",
              "\n",
              "    <script>\n",
              "      const buttonEl =\n",
              "        document.querySelector('#df-e0d155e6-67af-4985-b299-bf10faf6ee9e button.colab-df-convert');\n",
              "      buttonEl.style.display =\n",
              "        google.colab.kernel.accessAllowed ? 'block' : 'none';\n",
              "\n",
              "      async function convertToInteractive(key) {\n",
              "        const element = document.querySelector('#df-e0d155e6-67af-4985-b299-bf10faf6ee9e');\n",
              "        const dataTable =\n",
              "          await google.colab.kernel.invokeFunction('convertToInteractive',\n",
              "                                                    [key], {});\n",
              "        if (!dataTable) return;\n",
              "\n",
              "        const docLinkHtml = 'Like what you see? Visit the ' +\n",
              "          '<a target=\"_blank\" href=https://colab.research.google.com/notebooks/data_table.ipynb>data table notebook</a>'\n",
              "          + ' to learn more about interactive tables.';\n",
              "        element.innerHTML = '';\n",
              "        dataTable['output_type'] = 'display_data';\n",
              "        await google.colab.output.renderOutput(dataTable, element);\n",
              "        const docLink = document.createElement('div');\n",
              "        docLink.innerHTML = docLinkHtml;\n",
              "        element.appendChild(docLink);\n",
              "      }\n",
              "    </script>\n",
              "  </div>\n",
              "\n",
              "\n",
              "<div id=\"df-9091e456-092f-4ccd-a49a-50c800ba108d\">\n",
              "  <button class=\"colab-df-quickchart\" onclick=\"quickchart('df-9091e456-092f-4ccd-a49a-50c800ba108d')\"\n",
              "            title=\"Suggest charts\"\n",
              "            style=\"display:none;\">\n",
              "\n",
              "<svg xmlns=\"http://www.w3.org/2000/svg\" height=\"24px\"viewBox=\"0 0 24 24\"\n",
              "     width=\"24px\">\n",
              "    <g>\n",
              "        <path d=\"M19 3H5c-1.1 0-2 .9-2 2v14c0 1.1.9 2 2 2h14c1.1 0 2-.9 2-2V5c0-1.1-.9-2-2-2zM9 17H7v-7h2v7zm4 0h-2V7h2v10zm4 0h-2v-4h2v4z\"/>\n",
              "    </g>\n",
              "</svg>\n",
              "  </button>\n",
              "\n",
              "<style>\n",
              "  .colab-df-quickchart {\n",
              "      --bg-color: #E8F0FE;\n",
              "      --fill-color: #1967D2;\n",
              "      --hover-bg-color: #E2EBFA;\n",
              "      --hover-fill-color: #174EA6;\n",
              "      --disabled-fill-color: #AAA;\n",
              "      --disabled-bg-color: #DDD;\n",
              "  }\n",
              "\n",
              "  [theme=dark] .colab-df-quickchart {\n",
              "      --bg-color: #3B4455;\n",
              "      --fill-color: #D2E3FC;\n",
              "      --hover-bg-color: #434B5C;\n",
              "      --hover-fill-color: #FFFFFF;\n",
              "      --disabled-bg-color: #3B4455;\n",
              "      --disabled-fill-color: #666;\n",
              "  }\n",
              "\n",
              "  .colab-df-quickchart {\n",
              "    background-color: var(--bg-color);\n",
              "    border: none;\n",
              "    border-radius: 50%;\n",
              "    cursor: pointer;\n",
              "    display: none;\n",
              "    fill: var(--fill-color);\n",
              "    height: 32px;\n",
              "    padding: 0;\n",
              "    width: 32px;\n",
              "  }\n",
              "\n",
              "  .colab-df-quickchart:hover {\n",
              "    background-color: var(--hover-bg-color);\n",
              "    box-shadow: 0 1px 2px rgba(60, 64, 67, 0.3), 0 1px 3px 1px rgba(60, 64, 67, 0.15);\n",
              "    fill: var(--button-hover-fill-color);\n",
              "  }\n",
              "\n",
              "  .colab-df-quickchart-complete:disabled,\n",
              "  .colab-df-quickchart-complete:disabled:hover {\n",
              "    background-color: var(--disabled-bg-color);\n",
              "    fill: var(--disabled-fill-color);\n",
              "    box-shadow: none;\n",
              "  }\n",
              "\n",
              "  .colab-df-spinner {\n",
              "    border: 2px solid var(--fill-color);\n",
              "    border-color: transparent;\n",
              "    border-bottom-color: var(--fill-color);\n",
              "    animation:\n",
              "      spin 1s steps(1) infinite;\n",
              "  }\n",
              "\n",
              "  @keyframes spin {\n",
              "    0% {\n",
              "      border-color: transparent;\n",
              "      border-bottom-color: var(--fill-color);\n",
              "      border-left-color: var(--fill-color);\n",
              "    }\n",
              "    20% {\n",
              "      border-color: transparent;\n",
              "      border-left-color: var(--fill-color);\n",
              "      border-top-color: var(--fill-color);\n",
              "    }\n",
              "    30% {\n",
              "      border-color: transparent;\n",
              "      border-left-color: var(--fill-color);\n",
              "      border-top-color: var(--fill-color);\n",
              "      border-right-color: var(--fill-color);\n",
              "    }\n",
              "    40% {\n",
              "      border-color: transparent;\n",
              "      border-right-color: var(--fill-color);\n",
              "      border-top-color: var(--fill-color);\n",
              "    }\n",
              "    60% {\n",
              "      border-color: transparent;\n",
              "      border-right-color: var(--fill-color);\n",
              "    }\n",
              "    80% {\n",
              "      border-color: transparent;\n",
              "      border-right-color: var(--fill-color);\n",
              "      border-bottom-color: var(--fill-color);\n",
              "    }\n",
              "    90% {\n",
              "      border-color: transparent;\n",
              "      border-bottom-color: var(--fill-color);\n",
              "    }\n",
              "  }\n",
              "</style>\n",
              "\n",
              "  <script>\n",
              "    async function quickchart(key) {\n",
              "      const quickchartButtonEl =\n",
              "        document.querySelector('#' + key + ' button');\n",
              "      quickchartButtonEl.disabled = true;  // To prevent multiple clicks.\n",
              "      quickchartButtonEl.classList.add('colab-df-spinner');\n",
              "      try {\n",
              "        const charts = await google.colab.kernel.invokeFunction(\n",
              "            'suggestCharts', [key], {});\n",
              "      } catch (error) {\n",
              "        console.error('Error during call to suggestCharts:', error);\n",
              "      }\n",
              "      quickchartButtonEl.classList.remove('colab-df-spinner');\n",
              "      quickchartButtonEl.classList.add('colab-df-quickchart-complete');\n",
              "    }\n",
              "    (() => {\n",
              "      let quickchartButtonEl =\n",
              "        document.querySelector('#df-9091e456-092f-4ccd-a49a-50c800ba108d button');\n",
              "      quickchartButtonEl.style.display =\n",
              "        google.colab.kernel.accessAllowed ? 'block' : 'none';\n",
              "    })();\n",
              "  </script>\n",
              "</div>\n",
              "\n",
              "    </div>\n",
              "  </div>\n"
            ],
            "application/vnd.google.colaboratory.intrinsic+json": {
              "type": "dataframe",
              "variable_name": "df",
              "summary": "{\n  \"name\": \"df\",\n  \"rows\": 15985,\n  \"fields\": [\n    {\n      \"column\": \"title\",\n      \"properties\": {\n        \"dtype\": \"category\",\n        \"num_unique_values\": 4420,\n        \"samples\": [\n          \"1 BHK Apartment in Shree Swetayan Smruti\",\n          \"5 BHK Apartment in Amanora Adreno Towers\",\n          \"1 BHK Apartment in RK Majestic\"\n        ],\n        \"semantic_type\": \"\",\n        \"description\": \"\"\n      }\n    },\n    {\n      \"column\": \"price\",\n      \"properties\": {\n        \"dtype\": \"category\",\n        \"num_unique_values\": 508,\n        \"samples\": [\n          \"16,500\",\n          \"34,900\",\n          \"9,200\"\n        ],\n        \"semantic_type\": \"\",\n        \"description\": \"\"\n      }\n    },\n    {\n      \"column\": \"area\",\n      \"properties\": {\n        \"dtype\": \"number\",\n        \"std\": 582,\n        \"min\": 150,\n        \"max\": 9600,\n        \"num_unique_values\": 1040,\n        \"samples\": [\n          1805,\n          1098,\n          1358\n        ],\n        \"semantic_type\": \"\",\n        \"description\": \"\"\n      }\n    },\n    {\n      \"column\": \"location\",\n      \"properties\": {\n        \"dtype\": \"category\",\n        \"num_unique_values\": 302,\n        \"samples\": [\n          \"Fursungi Gaon, Pune\",\n          \"BT Kawde, Pune\",\n          \"Mulshi, Pune\"\n        ],\n        \"semantic_type\": \"\",\n        \"description\": \"\"\n      }\n    },\n    {\n      \"column\": \"status\",\n      \"properties\": {\n        \"dtype\": \"category\",\n        \"num_unique_values\": 3,\n        \"samples\": [\n          \"Unfurnished\",\n          \"Furnished\",\n          \"Semi-Furnished\"\n        ],\n        \"semantic_type\": \"\",\n        \"description\": \"\"\n      }\n    },\n    {\n      \"column\": \"bedroom\",\n      \"properties\": {\n        \"dtype\": \"number\",\n        \"std\": 0.8021098549723201,\n        \"min\": 1.0,\n        \"max\": 14.0,\n        \"num_unique_values\": 9,\n        \"samples\": [\n          8.0,\n          2.0,\n          6.0\n        ],\n        \"semantic_type\": \"\",\n        \"description\": \"\"\n      }\n    },\n    {\n      \"column\": \"rent\",\n      \"properties\": {\n        \"dtype\": \"number\",\n        \"std\": 19070,\n        \"min\": 1500,\n        \"max\": 400000,\n        \"num_unique_values\": 465,\n        \"samples\": [\n          75000,\n          38000,\n          200000\n        ],\n        \"semantic_type\": \"\",\n        \"description\": \"\"\n      }\n    }\n  ]\n}"
            }
          },
          "metadata": {},
          "execution_count": 90
        }
      ]
    },
    {
      "source": [
        "from matplotlib import pyplot as plt\n",
        "df.plot(kind='scatter', x='bedroom', y='rent', s=32, alpha=.8)\n",
        "plt.gca().spines[['top', 'right',]].set_visible(False)"
      ],
      "cell_type": "code",
      "execution_count": 112,
      "outputs": [
        {
          "output_type": "display_data",
          "data": {
            "text/plain": [
              "<Figure size 640x480 with 1 Axes>"
            ],
            "image/png": "[encoded data removed]"
          },
          "metadata": {}
        }
      ],
      "metadata": {
        "colab": {
          "base_uri": "https://localhost:8080/",
          "height": 449
        },
        "id": "J3YvCKOiEoHz",
        "outputId": "bf287426-3f56-4331-af2a-628b9ee3f525"
      }
    },
    {
      "source": [
        "from matplotlib import pyplot as plt\n",
        "df.plot(kind='scatter', x='area', y='bedroom', s=32, alpha=.8)\n",
        "plt.gca().spines[['top', 'right',]].set_visible(False)"
      ],
      "cell_type": "code",
      "execution_count": 113,
      "outputs": [
        {
          "output_type": "display_data",
          "data": {
            "text/plain": [
              "<Figure size 640x480 with 1 Axes>"
            ],
            "image/png": "[encoded data removed]"
          },
          "metadata": {}
        }
      ],
      "metadata": {
        "colab": {
          "base_uri": "https://localhost:8080/",
          "height": 449
        },
        "id": "1mjcgElbEh8C",
        "outputId": "620a48bf-8fc9-42d2-e9e7-c997b42fa48b"
      }
    },
    {
      "cell_type": "code",
      "source": [
        "df2=df.drop('price',axis=1)"
      ],
      "metadata": {
        "id": "0aNapPLazytU"
      },
      "execution_count": 91,
      "outputs": []
    },
    {
      "cell_type": "code",
      "source": [
        "sns.boxplot(data = df2,x='rent')"
      ],
      "metadata": {
        "colab": {
          "base_uri": "https://localhost:8080/",
          "height": 466
        },
        "id": "1LOqDFrOzz91",
        "outputId": "d4dea94a-8824-4ed3-b348-b7fc2295c010"
      },
      "execution_count": 92,
      "outputs": [
        {
          "output_type": "execute_result",
          "data": {
            "text/plain": [
              "<Axes: xlabel='rent'>"
            ]
          },
          "metadata": {},
          "execution_count": 92
        },
        {
          "output_type": "display_data",
          "data": {
            "text/plain": [
              "<Figure size 640x480 with 1 Axes>"
            ],
            "image/png": "[encoded data removed]"
          },
          "metadata": {}
        }
      ]
    },
    {
      "cell_type": "code",
      "source": [
        "sns.kdeplot(df2['rent']);"
      ],
      "metadata": {
        "colab": {
          "base_uri": "https://localhost:8080/",
          "height": 465
        },
        "id": "YwNnh4kSz1Mz",
        "outputId": "8c7821b0-4ddf-4b6a-f817-65dba0846c93"
      },
      "execution_count": 93,
      "outputs": [
        {
          "output_type": "display_data",
          "data": {
            "text/plain": [
              "<Figure size 640x480 with 1 Axes>"
            ],
            "image/png": "[encoded data removed]"
          },
          "metadata": {}
        }
      ]
    },
    {
      "cell_type": "code",
      "source": [
        "df2.location =df2.location.apply(lambda x : x.strip())\n",
        "locationc = df2.groupby('location')['location'].count().sort_values(ascending=False)\n",
        "locationc"
      ],
      "metadata": {
        "colab": {
          "base_uri": "https://localhost:8080/",
          "height": 490
        },
        "id": "6pSozuBHz2Mr",
        "outputId": "e9966890-6df5-45e1-a497-034494f1b9da"
      },
      "execution_count": 94,
      "outputs": [
        {
          "output_type": "execute_result",
          "data": {
            "text/plain": [
              "location\n",
              "Wagholi, Pune            1766\n",
              "Hadapsar, Pune           1102\n",
              "Kharadi, Pune            1086\n",
              "Viman Nagar, Pune         901\n",
              "Hinjewadi, Pune           871\n",
              "                         ... \n",
              "Dhanakwadi, Pune            1\n",
              "Pashan Road, Pune           1\n",
              "Pashan Sus Road, Pune       1\n",
              "Perugate, Pune              1\n",
              "Rambaug Colony, Pune        1\n",
              "Name: location, Length: 302, dtype: int64"
            ],
            "text/html": [
              "<div>\n",
              "<style scoped>\n",
              "    .dataframe tbody tr th:only-of-type {\n",
              "        vertical-align: middle;\n",
              "    }\n",
              "\n",
              "    .dataframe tbody tr th {\n",
              "        vertical-align: top;\n",
              "    }\n",
              "\n",
              "    .dataframe thead th {\n",
              "        text-align: right;\n",
              "    }\n",
              "</style>\n",
              "<table border=\"1\" class=\"dataframe\">\n",
              "  <thead>\n",
              "    <tr style=\"text-align: right;\">\n",
              "      <th></th>\n",
              "      <th>location</th>\n",
              "    </tr>\n",
              "    <tr>\n",
              "      <th>location</th>\n",
              "      <th></th>\n",
              "    </tr>\n",
              "  </thead>\n",
              "  <tbody>\n",
              "    <tr>\n",
              "      <th>Wagholi, Pune</th>\n",
              "      <td>1766</td>\n",
              "    </tr>\n",
              "    <tr>\n",
              "      <th>Hadapsar, Pune</th>\n",
              "      <td>1102</td>\n",
              "    </tr>\n",
              "    <tr>\n",
              "      <th>Kharadi, Pune</th>\n",
              "      <td>1086</td>\n",
              "    </tr>\n",
              "    <tr>\n",
              "      <th>Viman Nagar, Pune</th>\n",
              "      <td>901</td>\n",
              "    </tr>\n",
              "    <tr>\n",
              "      <th>Hinjewadi, Pune</th>\n",
              "      <td>871</td>\n",
              "    </tr>\n",
              "    <tr>\n",
              "      <th>...</th>\n",
              "      <td>...</td>\n",
              "    </tr>\n",
              "    <tr>\n",
              "      <th>Dhanakwadi, Pune</th>\n",
              "      <td>1</td>\n",
              "    </tr>\n",
              "    <tr>\n",
              "      <th>Pashan Road, Pune</th>\n",
              "      <td>1</td>\n",
              "    </tr>\n",
              "    <tr>\n",
              "      <th>Pashan Sus Road, Pune</th>\n",
              "      <td>1</td>\n",
              "    </tr>\n",
              "    <tr>\n",
              "      <th>Perugate, Pune</th>\n",
              "      <td>1</td>\n",
              "    </tr>\n",
              "    <tr>\n",
              "      <th>Rambaug Colony, Pune</th>\n",
              "      <td>1</td>\n",
              "    </tr>\n",
              "  </tbody>\n",
              "</table>\n",
              "<p>302 rows × 1 columns</p>\n",
              "</div><br><label><b>dtype:</b> int64</label>"
            ]
          },
          "metadata": {},
          "execution_count": 94
        }
      ]
    },
    {
      "cell_type": "code",
      "source": [
        "df2.bedroom.unique()"
      ],
      "metadata": {
        "colab": {
          "base_uri": "https://localhost:8080/"
        },
        "id": "hFW6lbR8z3u7",
        "outputId": "e0e7945f-81fd-4500-c5d9-5d1fca3a77d9"
      },
      "execution_count": 95,
      "outputs": [
        {
          "output_type": "execute_result",
          "data": {
            "text/plain": [
              "array([ 1.,  2.,  3.,  4.,  5.,  6.,  7.,  8., 14.])"
            ]
          },
          "metadata": {},
          "execution_count": 95
        }
      ]
    },
    {
      "cell_type": "code",
      "source": [
        "from sklearn import preprocessing\n",
        "label_encoder = preprocessing.LabelEncoder()\n",
        "df2['location']= label_encoder.fit_transform(df2['location'])"
      ],
      "metadata": {
        "id": "lWxuKLplz5Bp"
      },
      "execution_count": 96,
      "outputs": []
    },
    {
      "cell_type": "code",
      "source": [
        "X = df2.drop(['rent', 'title'], axis=1)\n",
        "y= df2.rent"
      ],
      "metadata": {
        "id": "-x5Ts5noz6ct"
      },
      "execution_count": 97,
      "outputs": []
    },
    {
      "cell_type": "code",
      "source": [
        "X_train,X_test,y_train,y_test = train_test_split(X,y,test_size=0.15,random_state=2)"
      ],
      "metadata": {
        "id": "FcQyNjnsz7tZ"
      },
      "execution_count": 98,
      "outputs": []
    },
    {
      "cell_type": "code",
      "source": [
        "def evaluate_model(y_test, y_pred):\n",
        "    r2 = r2_score(y_test, y_pred)\n",
        "    mae = mean_absolute_error(y_test, y_pred)\n",
        "    mse = mean_squared_error(y_test, y_pred)\n",
        "    rmse = np.sqrt(mse)\n",
        "\n",
        "    print(f'R2 score: {r2}')\n",
        "    print(f'MAE: {mae}')\n",
        "    print(f'MSE: {mse}')\n",
        "    print(f'RMSE: {rmse}')"
      ],
      "metadata": {
        "id": "xQxd0nJ73c2F"
      },
      "execution_count": 99,
      "outputs": []
    },
    {
      "cell_type": "code",
      "source": [
        "from sklearn.compose import ColumnTransformer\n",
        "from sklearn.pipeline import Pipeline\n",
        "\n",
        "ct = ColumnTransformer([('one-hot-encoder', OneHotEncoder(drop='first'), [2,3])], remainder='passthrough')\n",
        "\n",
        "step1 = ColumnTransformer(transformers=[\n",
        "    ('col_tnf',OneHotEncoder(sparse=False,drop='first'),[2,3])\n",
        "],remainder='passthrough')\n",
        "\n",
        "step2 = LinearRegression()\n",
        "\n",
        "pipe = Pipeline([\n",
        "    ('step1',step1),\n",
        "    ('step2',step2)\n",
        "])\n",
        "\n",
        "pipe.fit(X_train,y_train)"
      ],
      "metadata": {
        "colab": {
          "base_uri": "https://localhost:8080/",
          "height": 247
        },
        "id": "kWC4fhT-0EIO",
        "outputId": "7be278db-cd1b-4670-fc16-6cb324cc61f0"
      },
      "execution_count": 100,
      "outputs": [
        {
          "output_type": "stream",
          "name": "stderr",
          "text": [
            "/usr/local/lib/python3.10/dist-packages/sklearn/preprocessing/_encoders.py:975: FutureWarning: `sparse` was renamed to `sparse_output` in version 1.2 and will be removed in 1.4. `sparse_output` is ignored unless you leave `sparse` to its default value.\n",
            "  warnings.warn(\n"
          ]
        },
        {
          "output_type": "execute_result",
          "data": {
            "text/plain": [
              "Pipeline(steps=[('step1',\n",
              "                 ColumnTransformer(remainder='passthrough',\n",
              "                                   transformers=[('col_tnf',\n",
              "                                                  OneHotEncoder(drop='first',\n",
              "                                                                sparse=False),\n",
              "                                                  [2, 3])])),\n",
              "                ('step2', LinearRegression())])"
            ],
            "text/html": [
              "<style>#sk-container-id-9 {color: black;}#sk-container-id-9 pre{padding: 0;}#sk-container-id-9 div.sk-toggleable {background-color: white;}#sk-container-id-9 label.sk-toggleable__label {cursor: pointer;display: block;width: 100%;margin-bottom: 0;padding: 0.3em;box-sizing: border-box;text-align: center;}#sk-container-id-9 label.sk-toggleable__label-arrow:before {content: \"▸\";float: left;margin-right: 0.25em;color: #696969;}#sk-container-id-9 label.sk-toggleable__label-arrow:hover:before {color: black;}#sk-container-id-9 div.sk-estimator:hover label.sk-toggleable__label-arrow:before {color: black;}#sk-container-id-9 div.sk-toggleable__content {max-height: 0;max-width: 0;overflow: hidden;text-align: left;background-color: #f0f8ff;}#sk-container-id-9 div.sk-toggleable__content pre {margin: 0.2em;color: black;border-radius: 0.25em;background-color: #f0f8ff;}#sk-container-id-9 input.sk-toggleable__control:checked~div.sk-toggleable__content {max-height: 200px;max-width: 100%;overflow: auto;}#sk-container-id-9 input.sk-toggleable__control:checked~label.sk-toggleable__label-arrow:before {content: \"▾\";}#sk-container-id-9 div.sk-estimator input.sk-toggleable__control:checked~label.sk-toggleable__label {background-color: #d4ebff;}#sk-container-id-9 div.sk-label input.sk-toggleable__control:checked~label.sk-toggleable__label {background-color: #d4ebff;}#sk-container-id-9 input.sk-hidden--visually {border: 0;clip: rect(1px 1px 1px 1px);clip: rect(1px, 1px, 1px, 1px);height: 1px;margin: -1px;overflow: hidden;padding: 0;position: absolute;width: 1px;}#sk-container-id-9 div.sk-estimator {font-family: monospace;background-color: #f0f8ff;border: 1px dotted black;border-radius: 0.25em;box-sizing: border-box;margin-bottom: 0.5em;}#sk-container-id-9 div.sk-estimator:hover {background-color: #d4ebff;}#sk-container-id-9 div.sk-parallel-item::after {content: \"\";width: 100%;border-bottom: 1px solid gray;flex-grow: 1;}#sk-container-id-9 div.sk-label:hover label.sk-toggleable__label {background-color: #d4ebff;}#sk-container-id-9 div.sk-serial::before {content: \"\";position: absolute;border-left: 1px solid gray;box-sizing: border-box;top: 0;bottom: 0;left: 50%;z-index: 0;}#sk-container-id-9 div.sk-serial {display: flex;flex-direction: column;align-items: center;background-color: white;padding-right: 0.2em;padding-left: 0.2em;position: relative;}#sk-container-id-9 div.sk-item {position: relative;z-index: 1;}#sk-container-id-9 div.sk-parallel {display: flex;align-items: stretch;justify-content: center;background-color: white;position: relative;}#sk-container-id-9 div.sk-item::before, #sk-container-id-9 div.sk-parallel-item::before {content: \"\";position: absolute;border-left: 1px solid gray;box-sizing: border-box;top: 0;bottom: 0;left: 50%;z-index: -1;}#sk-container-id-9 div.sk-parallel-item {display: flex;flex-direction: column;z-index: 1;position: relative;background-color: white;}#sk-container-id-9 div.sk-parallel-item:first-child::after {align-self: flex-end;width: 50%;}#sk-container-id-9 div.sk-parallel-item:last-child::after {align-self: flex-start;width: 50%;}#sk-container-id-9 div.sk-parallel-item:only-child::after {width: 0;}#sk-container-id-9 div.sk-dashed-wrapped {border: 1px dashed gray;margin: 0 0.4em 0.5em 0.4em;box-sizing: border-box;padding-bottom: 0.4em;background-color: white;}#sk-container-id-9 div.sk-label label {font-family: monospace;font-weight: bold;display: inline-block;line-height: 1.2em;}#sk-container-id-9 div.sk-label-container {text-align: center;}#sk-container-id-9 div.sk-container {/* jupyter's `normalize.less` sets `[hidden] { display: none; }` but bootstrap.min.css set `[hidden] { display: none !important; }` so we also need the `!important` here to be able to override the default hidden behavior on the sphinx rendered scikit-learn.org. See: https://github.com/scikit-learn/scikit-learn/issues/21755 */display: inline-block !important;position: relative;}#sk-container-id-9 div.sk-text-repr-fallback {display: none;}</style><div id=\"sk-container-id-9\" class=\"sk-top-container\"><div class=\"sk-text-repr-fallback\"><pre>Pipeline(steps=[(&#x27;step1&#x27;,\n",
              "                 ColumnTransformer(remainder=&#x27;passthrough&#x27;,\n",
              "                                   transformers=[(&#x27;col_tnf&#x27;,\n",
              "                                                  OneHotEncoder(drop=&#x27;first&#x27;,\n",
              "                                                                sparse=False),\n",
              "                                                  [2, 3])])),\n",
              "                (&#x27;step2&#x27;, LinearRegression())])</pre><b>In a Jupyter environment, please rerun this cell to show the HTML representation or trust the notebook. <br />On GitHub, the HTML representation is unable to render, please try loading this page with nbviewer.org.</b></div><div class=\"sk-container\" hidden><div class=\"sk-item sk-dashed-wrapped\"><div class=\"sk-label-container\"><div class=\"sk-label sk-toggleable\"><input class=\"sk-toggleable__control sk-hidden--visually\" id=\"sk-estimator-id-57\" type=\"checkbox\" ><label for=\"sk-estimator-id-57\" class=\"sk-toggleable__label sk-toggleable__label-arrow\">Pipeline</label><div class=\"sk-toggleable__content\"><pre>Pipeline(steps=[(&#x27;step1&#x27;,\n",
              "                 ColumnTransformer(remainder=&#x27;passthrough&#x27;,\n",
              "                                   transformers=[(&#x27;col_tnf&#x27;,\n",
              "                                                  OneHotEncoder(drop=&#x27;first&#x27;,\n",
              "                                                                sparse=False),\n",
              "                                                  [2, 3])])),\n",
              "                (&#x27;step2&#x27;, LinearRegression())])</pre></div></div></div><div class=\"sk-serial\"><div class=\"sk-item sk-dashed-wrapped\"><div class=\"sk-label-container\"><div class=\"sk-label sk-toggleable\"><input class=\"sk-toggleable__control sk-hidden--visually\" id=\"sk-estimator-id-58\" type=\"checkbox\" ><label for=\"sk-estimator-id-58\" class=\"sk-toggleable__label sk-toggleable__label-arrow\">step1: ColumnTransformer</label><div class=\"sk-toggleable__content\"><pre>ColumnTransformer(remainder=&#x27;passthrough&#x27;,\n",
              "                  transformers=[(&#x27;col_tnf&#x27;,\n",
              "                                 OneHotEncoder(drop=&#x27;first&#x27;, sparse=False),\n",
              "                                 [2, 3])])</pre></div></div></div><div class=\"sk-parallel\"><div class=\"sk-parallel-item\"><div class=\"sk-item\"><div class=\"sk-label-container\"><div class=\"sk-label sk-toggleable\"><input class=\"sk-toggleable__control sk-hidden--visually\" id=\"sk-estimator-id-59\" type=\"checkbox\" ><label for=\"sk-estimator-id-59\" class=\"sk-toggleable__label sk-toggleable__label-arrow\">col_tnf</label><div class=\"sk-toggleable__content\"><pre>[2, 3]</pre></div></div></div><div class=\"sk-serial\"><div class=\"sk-item\"><div class=\"sk-estimator sk-toggleable\"><input class=\"sk-toggleable__control sk-hidden--visually\" id=\"sk-estimator-id-60\" type=\"checkbox\" ><label for=\"sk-estimator-id-60\" class=\"sk-toggleable__label sk-toggleable__label-arrow\">OneHotEncoder</label><div class=\"sk-toggleable__content\"><pre>OneHotEncoder(drop=&#x27;first&#x27;, sparse=False)</pre></div></div></div></div></div></div><div class=\"sk-parallel-item\"><div class=\"sk-item\"><div class=\"sk-label-container\"><div class=\"sk-label sk-toggleable\"><input class=\"sk-toggleable__control sk-hidden--visually\" id=\"sk-estimator-id-61\" type=\"checkbox\" ><label for=\"sk-estimator-id-61\" class=\"sk-toggleable__label sk-toggleable__label-arrow\">remainder</label><div class=\"sk-toggleable__content\"><pre>[&#x27;area&#x27;, &#x27;location&#x27;]</pre></div></div></div><div class=\"sk-serial\"><div class=\"sk-item\"><div class=\"sk-estimator sk-toggleable\"><input class=\"sk-toggleable__control sk-hidden--visually\" id=\"sk-estimator-id-62\" type=\"checkbox\" ><label for=\"sk-estimator-id-62\" class=\"sk-toggleable__label sk-toggleable__label-arrow\">passthrough</label><div class=\"sk-toggleable__content\"><pre>passthrough</pre></div></div></div></div></div></div></div></div><div class=\"sk-item\"><div class=\"sk-estimator sk-toggleable\"><input class=\"sk-toggleable__control sk-hidden--visually\" id=\"sk-estimator-id-63\" type=\"checkbox\" ><label for=\"sk-estimator-id-63\" class=\"sk-toggleable__label sk-toggleable__label-arrow\">LinearRegression</label><div class=\"sk-toggleable__content\"><pre>LinearRegression()</pre></div></div></div></div></div></div></div>"
            ]
          },
          "metadata": {},
          "execution_count": 100
        }
      ]
    },
    {
      "cell_type": "code",
      "source": [
        "y_pred = pipe.predict(X_test)\n",
        "\n",
        "print(\"\\nLinear Regression Results:\")\n",
        "evaluate_model(y_test, y_pred)"
      ],
      "metadata": {
        "colab": {
          "base_uri": "https://localhost:8080/"
        },
        "id": "NtaiCIRU0pqL",
        "outputId": "5cae09a3-5a8e-4f16-f8d2-0c745e45abb5"
      },
      "execution_count": 101,
      "outputs": [
        {
          "output_type": "stream",
          "name": "stdout",
          "text": [
            "\n",
            "Linear Regression Results:\n",
            "R2 score: 0.6384794351007625\n",
            "MAE: 6599.325461747813\n",
            "MSE: 150777009.31404167\n",
            "RMSE: 12279.129012842957\n"
          ]
        }
      ]
    },
    {
      "cell_type": "code",
      "source": [
        "step1 = ColumnTransformer(transformers=[\n",
        "    ('col_tnf',OneHotEncoder(sparse=False,drop='first'),[2,3])\n",
        "],remainder='passthrough')\n",
        "\n",
        "step2 = Ridge(alpha=10)\n",
        "\n",
        "pipe = Pipeline([\n",
        "    ('step1',step1),\n",
        "    ('step2',step2)\n",
        "])\n",
        "\n",
        "pipe.fit(X_train,y_train)"
      ],
      "metadata": {
        "colab": {
          "base_uri": "https://localhost:8080/",
          "height": 247
        },
        "id": "PnjOkz_t0ry2",
        "outputId": "e7eed580-8154-4da6-a91f-b23b5606146e"
      },
      "execution_count": 102,
      "outputs": [
        {
          "output_type": "stream",
          "name": "stderr",
          "text": [
            "/usr/local/lib/python3.10/dist-packages/sklearn/preprocessing/_encoders.py:975: FutureWarning: `sparse` was renamed to `sparse_output` in version 1.2 and will be removed in 1.4. `sparse_output` is ignored unless you leave `sparse` to its default value.\n",
            "  warnings.warn(\n"
          ]
        },
        {
          "output_type": "execute_result",
          "data": {
            "text/plain": [
              "Pipeline(steps=[('step1',\n",
              "                 ColumnTransformer(remainder='passthrough',\n",
              "                                   transformers=[('col_tnf',\n",
              "                                                  OneHotEncoder(drop='first',\n",
              "                                                                sparse=False),\n",
              "                                                  [2, 3])])),\n",
              "                ('step2', Ridge(alpha=10))])"
            ],
            "text/html": [
              "<style>#sk-container-id-10 {color: black;}#sk-container-id-10 pre{padding: 0;}#sk-container-id-10 div.sk-toggleable {background-color: white;}#sk-container-id-10 label.sk-toggleable__label {cursor: pointer;display: block;width: 100%;margin-bottom: 0;padding: 0.3em;box-sizing: border-box;text-align: center;}#sk-container-id-10 label.sk-toggleable__label-arrow:before {content: \"▸\";float: left;margin-right: 0.25em;color: #696969;}#sk-container-id-10 label.sk-toggleable__label-arrow:hover:before {color: black;}#sk-container-id-10 div.sk-estimator:hover label.sk-toggleable__label-arrow:before {color: black;}#sk-container-id-10 div.sk-toggleable__content {max-height: 0;max-width: 0;overflow: hidden;text-align: left;background-color: #f0f8ff;}#sk-container-id-10 div.sk-toggleable__content pre {margin: 0.2em;color: black;border-radius: 0.25em;background-color: #f0f8ff;}#sk-container-id-10 input.sk-toggleable__control:checked~div.sk-toggleable__content {max-height: 200px;max-width: 100%;overflow: auto;}#sk-container-id-10 input.sk-toggleable__control:checked~label.sk-toggleable__label-arrow:before {content: \"▾\";}#sk-container-id-10 div.sk-estimator input.sk-toggleable__control:checked~label.sk-toggleable__label {background-color: #d4ebff;}#sk-container-id-10 div.sk-label input.sk-toggleable__control:checked~label.sk-toggleable__label {background-color: #d4ebff;}#sk-container-id-10 input.sk-hidden--visually {border: 0;clip: rect(1px 1px 1px 1px);clip: rect(1px, 1px, 1px, 1px);height: 1px;margin: -1px;overflow: hidden;padding: 0;position: absolute;width: 1px;}#sk-container-id-10 div.sk-estimator {font-family: monospace;background-color: #f0f8ff;border: 1px dotted black;border-radius: 0.25em;box-sizing: border-box;margin-bottom: 0.5em;}#sk-container-id-10 div.sk-estimator:hover {background-color: #d4ebff;}#sk-container-id-10 div.sk-parallel-item::after {content: \"\";width: 100%;border-bottom: 1px solid gray;flex-grow: 1;}#sk-container-id-10 div.sk-label:hover label.sk-toggleable__label {background-color: #d4ebff;}#sk-container-id-10 div.sk-serial::before {content: \"\";position: absolute;border-left: 1px solid gray;box-sizing: border-box;top: 0;bottom: 0;left: 50%;z-index: 0;}#sk-container-id-10 div.sk-serial {display: flex;flex-direction: column;align-items: center;background-color: white;padding-right: 0.2em;padding-left: 0.2em;position: relative;}#sk-container-id-10 div.sk-item {position: relative;z-index: 1;}#sk-container-id-10 div.sk-parallel {display: flex;align-items: stretch;justify-content: center;background-color: white;position: relative;}#sk-container-id-10 div.sk-item::before, #sk-container-id-10 div.sk-parallel-item::before {content: \"\";position: absolute;border-left: 1px solid gray;box-sizing: border-box;top: 0;bottom: 0;left: 50%;z-index: -1;}#sk-container-id-10 div.sk-parallel-item {display: flex;flex-direction: column;z-index: 1;position: relative;background-color: white;}#sk-container-id-10 div.sk-parallel-item:first-child::after {align-self: flex-end;width: 50%;}#sk-container-id-10 div.sk-parallel-item:last-child::after {align-self: flex-start;width: 50%;}#sk-container-id-10 div.sk-parallel-item:only-child::after {width: 0;}#sk-container-id-10 div.sk-dashed-wrapped {border: 1px dashed gray;margin: 0 0.4em 0.5em 0.4em;box-sizing: border-box;padding-bottom: 0.4em;background-color: white;}#sk-container-id-10 div.sk-label label {font-family: monospace;font-weight: bold;display: inline-block;line-height: 1.2em;}#sk-container-id-10 div.sk-label-container {text-align: center;}#sk-container-id-10 div.sk-container {/* jupyter's `normalize.less` sets `[hidden] { display: none; }` but bootstrap.min.css set `[hidden] { display: none !important; }` so we also need the `!important` here to be able to override the default hidden behavior on the sphinx rendered scikit-learn.org. See: https://github.com/scikit-learn/scikit-learn/issues/21755 */display: inline-block !important;position: relative;}#sk-container-id-10 div.sk-text-repr-fallback {display: none;}</style><div id=\"sk-container-id-10\" class=\"sk-top-container\"><div class=\"sk-text-repr-fallback\"><pre>Pipeline(steps=[(&#x27;step1&#x27;,\n",
              "                 ColumnTransformer(remainder=&#x27;passthrough&#x27;,\n",
              "                                   transformers=[(&#x27;col_tnf&#x27;,\n",
              "                                                  OneHotEncoder(drop=&#x27;first&#x27;,\n",
              "                                                                sparse=False),\n",
              "                                                  [2, 3])])),\n",
              "                (&#x27;step2&#x27;, Ridge(alpha=10))])</pre><b>In a Jupyter environment, please rerun this cell to show the HTML representation or trust the notebook. <br />On GitHub, the HTML representation is unable to render, please try loading this page with nbviewer.org.</b></div><div class=\"sk-container\" hidden><div class=\"sk-item sk-dashed-wrapped\"><div class=\"sk-label-container\"><div class=\"sk-label sk-toggleable\"><input class=\"sk-toggleable__control sk-hidden--visually\" id=\"sk-estimator-id-64\" type=\"checkbox\" ><label for=\"sk-estimator-id-64\" class=\"sk-toggleable__label sk-toggleable__label-arrow\">Pipeline</label><div class=\"sk-toggleable__content\"><pre>Pipeline(steps=[(&#x27;step1&#x27;,\n",
              "                 ColumnTransformer(remainder=&#x27;passthrough&#x27;,\n",
              "                                   transformers=[(&#x27;col_tnf&#x27;,\n",
              "                                                  OneHotEncoder(drop=&#x27;first&#x27;,\n",
              "                                                                sparse=False),\n",
              "                                                  [2, 3])])),\n",
              "                (&#x27;step2&#x27;, Ridge(alpha=10))])</pre></div></div></div><div class=\"sk-serial\"><div class=\"sk-item sk-dashed-wrapped\"><div class=\"sk-label-container\"><div class=\"sk-label sk-toggleable\"><input class=\"sk-toggleable__control sk-hidden--visually\" id=\"sk-estimator-id-65\" type=\"checkbox\" ><label for=\"sk-estimator-id-65\" class=\"sk-toggleable__label sk-toggleable__label-arrow\">step1: ColumnTransformer</label><div class=\"sk-toggleable__content\"><pre>ColumnTransformer(remainder=&#x27;passthrough&#x27;,\n",
              "                  transformers=[(&#x27;col_tnf&#x27;,\n",
              "                                 OneHotEncoder(drop=&#x27;first&#x27;, sparse=False),\n",
              "                                 [2, 3])])</pre></div></div></div><div class=\"sk-parallel\"><div class=\"sk-parallel-item\"><div class=\"sk-item\"><div class=\"sk-label-container\"><div class=\"sk-label sk-toggleable\"><input class=\"sk-toggleable__control sk-hidden--visually\" id=\"sk-estimator-id-66\" type=\"checkbox\" ><label for=\"sk-estimator-id-66\" class=\"sk-toggleable__label sk-toggleable__label-arrow\">col_tnf</label><div class=\"sk-toggleable__content\"><pre>[2, 3]</pre></div></div></div><div class=\"sk-serial\"><div class=\"sk-item\"><div class=\"sk-estimator sk-toggleable\"><input class=\"sk-toggleable__control sk-hidden--visually\" id=\"sk-estimator-id-67\" type=\"checkbox\" ><label for=\"sk-estimator-id-67\" class=\"sk-toggleable__label sk-toggleable__label-arrow\">OneHotEncoder</label><div class=\"sk-toggleable__content\"><pre>OneHotEncoder(drop=&#x27;first&#x27;, sparse=False)</pre></div></div></div></div></div></div><div class=\"sk-parallel-item\"><div class=\"sk-item\"><div class=\"sk-label-container\"><div class=\"sk-label sk-toggleable\"><input class=\"sk-toggleable__control sk-hidden--visually\" id=\"sk-estimator-id-68\" type=\"checkbox\" ><label for=\"sk-estimator-id-68\" class=\"sk-toggleable__label sk-toggleable__label-arrow\">remainder</label><div class=\"sk-toggleable__content\"><pre>[&#x27;area&#x27;, &#x27;location&#x27;]</pre></div></div></div><div class=\"sk-serial\"><div class=\"sk-item\"><div class=\"sk-estimator sk-toggleable\"><input class=\"sk-toggleable__control sk-hidden--visually\" id=\"sk-estimator-id-69\" type=\"checkbox\" ><label for=\"sk-estimator-id-69\" class=\"sk-toggleable__label sk-toggleable__label-arrow\">passthrough</label><div class=\"sk-toggleable__content\"><pre>passthrough</pre></div></div></div></div></div></div></div></div><div class=\"sk-item\"><div class=\"sk-estimator sk-toggleable\"><input class=\"sk-toggleable__control sk-hidden--visually\" id=\"sk-estimator-id-70\" type=\"checkbox\" ><label for=\"sk-estimator-id-70\" class=\"sk-toggleable__label sk-toggleable__label-arrow\">Ridge</label><div class=\"sk-toggleable__content\"><pre>Ridge(alpha=10)</pre></div></div></div></div></div></div></div>"
            ]
          },
          "metadata": {},
          "execution_count": 102
        }
      ]
    },
    {
      "cell_type": "code",
      "source": [
        "y_pred = pipe.predict(X_test)\n",
        "\n",
        "print(\"\\nRidge Results:\")\n",
        "evaluate_model(y_test, y_pred)"
      ],
      "metadata": {
        "colab": {
          "base_uri": "https://localhost:8080/"
        },
        "id": "Q1IO0z-h0tOx",
        "outputId": "bc5abf4f-5fdf-4e63-9eeb-cf2a2c18f009"
      },
      "execution_count": 103,
      "outputs": [
        {
          "output_type": "stream",
          "name": "stdout",
          "text": [
            "\n",
            "Ridge Results:\n",
            "R2 score: 0.6389204154067429\n",
            "MAE: 6593.2008129454425\n",
            "MSE: 150593092.5520156\n",
            "RMSE: 12271.637729008122\n"
          ]
        }
      ]
    },
    {
      "cell_type": "code",
      "source": [
        "step1 = ColumnTransformer(transformers=[\n",
        "    ('col_tnf',OneHotEncoder(sparse=False,drop='first'),[2,3])\n",
        "],remainder='passthrough')\n",
        "\n",
        "step2 = Lasso(alpha=0.001)\n",
        "\n",
        "pipe = Pipeline([\n",
        "    ('step1',step1),\n",
        "    ('step2',step2)\n",
        "])\n",
        "\n",
        "pipe.fit(X_train,y_train)"
      ],
      "metadata": {
        "colab": {
          "base_uri": "https://localhost:8080/",
          "height": 247
        },
        "id": "GbIZ2OyW0vOX",
        "outputId": "fb315e2c-c386-4160-e8dd-b11d8b36a7d9"
      },
      "execution_count": 104,
      "outputs": [
        {
          "output_type": "stream",
          "name": "stderr",
          "text": [
            "/usr/local/lib/python3.10/dist-packages/sklearn/preprocessing/_encoders.py:975: FutureWarning: `sparse` was renamed to `sparse_output` in version 1.2 and will be removed in 1.4. `sparse_output` is ignored unless you leave `sparse` to its default value.\n",
            "  warnings.warn(\n"
          ]
        },
        {
          "output_type": "execute_result",
          "data": {
            "text/plain": [
              "Pipeline(steps=[('step1',\n",
              "                 ColumnTransformer(remainder='passthrough',\n",
              "                                   transformers=[('col_tnf',\n",
              "                                                  OneHotEncoder(drop='first',\n",
              "                                                                sparse=False),\n",
              "                                                  [2, 3])])),\n",
              "                ('step2', Lasso(alpha=0.001))])"
            ],
            "text/html": [
              "<style>#sk-container-id-11 {color: black;}#sk-container-id-11 pre{padding: 0;}#sk-container-id-11 div.sk-toggleable {background-color: white;}#sk-container-id-11 label.sk-toggleable__label {cursor: pointer;display: block;width: 100%;margin-bottom: 0;padding: 0.3em;box-sizing: border-box;text-align: center;}#sk-container-id-11 label.sk-toggleable__label-arrow:before {content: \"▸\";float: left;margin-right: 0.25em;color: #696969;}#sk-container-id-11 label.sk-toggleable__label-arrow:hover:before {color: black;}#sk-container-id-11 div.sk-estimator:hover label.sk-toggleable__label-arrow:before {color: black;}#sk-container-id-11 div.sk-toggleable__content {max-height: 0;max-width: 0;overflow: hidden;text-align: left;background-color: #f0f8ff;}#sk-container-id-11 div.sk-toggleable__content pre {margin: 0.2em;color: black;border-radius: 0.25em;background-color: #f0f8ff;}#sk-container-id-11 input.sk-toggleable__control:checked~div.sk-toggleable__content {max-height: 200px;max-width: 100%;overflow: auto;}#sk-container-id-11 input.sk-toggleable__control:checked~label.sk-toggleable__label-arrow:before {content: \"▾\";}#sk-container-id-11 div.sk-estimator input.sk-toggleable__control:checked~label.sk-toggleable__label {background-color: #d4ebff;}#sk-container-id-11 div.sk-label input.sk-toggleable__control:checked~label.sk-toggleable__label {background-color: #d4ebff;}#sk-container-id-11 input.sk-hidden--visually {border: 0;clip: rect(1px 1px 1px 1px);clip: rect(1px, 1px, 1px, 1px);height: 1px;margin: -1px;overflow: hidden;padding: 0;position: absolute;width: 1px;}#sk-container-id-11 div.sk-estimator {font-family: monospace;background-color: #f0f8ff;border: 1px dotted black;border-radius: 0.25em;box-sizing: border-box;margin-bottom: 0.5em;}#sk-container-id-11 div.sk-estimator:hover {background-color: #d4ebff;}#sk-container-id-11 div.sk-parallel-item::after {content: \"\";width: 100%;border-bottom: 1px solid gray;flex-grow: 1;}#sk-container-id-11 div.sk-label:hover label.sk-toggleable__label {background-color: #d4ebff;}#sk-container-id-11 div.sk-serial::before {content: \"\";position: absolute;border-left: 1px solid gray;box-sizing: border-box;top: 0;bottom: 0;left: 50%;z-index: 0;}#sk-container-id-11 div.sk-serial {display: flex;flex-direction: column;align-items: center;background-color: white;padding-right: 0.2em;padding-left: 0.2em;position: relative;}#sk-container-id-11 div.sk-item {position: relative;z-index: 1;}#sk-container-id-11 div.sk-parallel {display: flex;align-items: stretch;justify-content: center;background-color: white;position: relative;}#sk-container-id-11 div.sk-item::before, #sk-container-id-11 div.sk-parallel-item::before {content: \"\";position: absolute;border-left: 1px solid gray;box-sizing: border-box;top: 0;bottom: 0;left: 50%;z-index: -1;}#sk-container-id-11 div.sk-parallel-item {display: flex;flex-direction: column;z-index: 1;position: relative;background-color: white;}#sk-container-id-11 div.sk-parallel-item:first-child::after {align-self: flex-end;width: 50%;}#sk-container-id-11 div.sk-parallel-item:last-child::after {align-self: flex-start;width: 50%;}#sk-container-id-11 div.sk-parallel-item:only-child::after {width: 0;}#sk-container-id-11 div.sk-dashed-wrapped {border: 1px dashed gray;margin: 0 0.4em 0.5em 0.4em;box-sizing: border-box;padding-bottom: 0.4em;background-color: white;}#sk-container-id-11 div.sk-label label {font-family: monospace;font-weight: bold;display: inline-block;line-height: 1.2em;}#sk-container-id-11 div.sk-label-container {text-align: center;}#sk-container-id-11 div.sk-container {/* jupyter's `normalize.less` sets `[hidden] { display: none; }` but bootstrap.min.css set `[hidden] { display: none !important; }` so we also need the `!important` here to be able to override the default hidden behavior on the sphinx rendered scikit-learn.org. See: https://github.com/scikit-learn/scikit-learn/issues/21755 */display: inline-block !important;position: relative;}#sk-container-id-11 div.sk-text-repr-fallback {display: none;}</style><div id=\"sk-container-id-11\" class=\"sk-top-container\"><div class=\"sk-text-repr-fallback\"><pre>Pipeline(steps=[(&#x27;step1&#x27;,\n",
              "                 ColumnTransformer(remainder=&#x27;passthrough&#x27;,\n",
              "                                   transformers=[(&#x27;col_tnf&#x27;,\n",
              "                                                  OneHotEncoder(drop=&#x27;first&#x27;,\n",
              "                                                                sparse=False),\n",
              "                                                  [2, 3])])),\n",
              "                (&#x27;step2&#x27;, Lasso(alpha=0.001))])</pre><b>In a Jupyter environment, please rerun this cell to show the HTML representation or trust the notebook. <br />On GitHub, the HTML representation is unable to render, please try loading this page with nbviewer.org.</b></div><div class=\"sk-container\" hidden><div class=\"sk-item sk-dashed-wrapped\"><div class=\"sk-label-container\"><div class=\"sk-label sk-toggleable\"><input class=\"sk-toggleable__control sk-hidden--visually\" id=\"sk-estimator-id-71\" type=\"checkbox\" ><label for=\"sk-estimator-id-71\" class=\"sk-toggleable__label sk-toggleable__label-arrow\">Pipeline</label><div class=\"sk-toggleable__content\"><pre>Pipeline(steps=[(&#x27;step1&#x27;,\n",
              "                 ColumnTransformer(remainder=&#x27;passthrough&#x27;,\n",
              "                                   transformers=[(&#x27;col_tnf&#x27;,\n",
              "                                                  OneHotEncoder(drop=&#x27;first&#x27;,\n",
              "                                                                sparse=False),\n",
              "                                                  [2, 3])])),\n",
              "                (&#x27;step2&#x27;, Lasso(alpha=0.001))])</pre></div></div></div><div class=\"sk-serial\"><div class=\"sk-item sk-dashed-wrapped\"><div class=\"sk-label-container\"><div class=\"sk-label sk-toggleable\"><input class=\"sk-toggleable__control sk-hidden--visually\" id=\"sk-estimator-id-72\" type=\"checkbox\" ><label for=\"sk-estimator-id-72\" class=\"sk-toggleable__label sk-toggleable__label-arrow\">step1: ColumnTransformer</label><div class=\"sk-toggleable__content\"><pre>ColumnTransformer(remainder=&#x27;passthrough&#x27;,\n",
              "                  transformers=[(&#x27;col_tnf&#x27;,\n",
              "                                 OneHotEncoder(drop=&#x27;first&#x27;, sparse=False),\n",
              "                                 [2, 3])])</pre></div></div></div><div class=\"sk-parallel\"><div class=\"sk-parallel-item\"><div class=\"sk-item\"><div class=\"sk-label-container\"><div class=\"sk-label sk-toggleable\"><input class=\"sk-toggleable__control sk-hidden--visually\" id=\"sk-estimator-id-73\" type=\"checkbox\" ><label for=\"sk-estimator-id-73\" class=\"sk-toggleable__label sk-toggleable__label-arrow\">col_tnf</label><div class=\"sk-toggleable__content\"><pre>[2, 3]</pre></div></div></div><div class=\"sk-serial\"><div class=\"sk-item\"><div class=\"sk-estimator sk-toggleable\"><input class=\"sk-toggleable__control sk-hidden--visually\" id=\"sk-estimator-id-74\" type=\"checkbox\" ><label for=\"sk-estimator-id-74\" class=\"sk-toggleable__label sk-toggleable__label-arrow\">OneHotEncoder</label><div class=\"sk-toggleable__content\"><pre>OneHotEncoder(drop=&#x27;first&#x27;, sparse=False)</pre></div></div></div></div></div></div><div class=\"sk-parallel-item\"><div class=\"sk-item\"><div class=\"sk-label-container\"><div class=\"sk-label sk-toggleable\"><input class=\"sk-toggleable__control sk-hidden--visually\" id=\"sk-estimator-id-75\" type=\"checkbox\" ><label for=\"sk-estimator-id-75\" class=\"sk-toggleable__label sk-toggleable__label-arrow\">remainder</label><div class=\"sk-toggleable__content\"><pre>[&#x27;area&#x27;, &#x27;location&#x27;]</pre></div></div></div><div class=\"sk-serial\"><div class=\"sk-item\"><div class=\"sk-estimator sk-toggleable\"><input class=\"sk-toggleable__control sk-hidden--visually\" id=\"sk-estimator-id-76\" type=\"checkbox\" ><label for=\"sk-estimator-id-76\" class=\"sk-toggleable__label sk-toggleable__label-arrow\">passthrough</label><div class=\"sk-toggleable__content\"><pre>passthrough</pre></div></div></div></div></div></div></div></div><div class=\"sk-item\"><div class=\"sk-estimator sk-toggleable\"><input class=\"sk-toggleable__control sk-hidden--visually\" id=\"sk-estimator-id-77\" type=\"checkbox\" ><label for=\"sk-estimator-id-77\" class=\"sk-toggleable__label sk-toggleable__label-arrow\">Lasso</label><div class=\"sk-toggleable__content\"><pre>Lasso(alpha=0.001)</pre></div></div></div></div></div></div></div>"
            ]
          },
          "metadata": {},
          "execution_count": 104
        }
      ]
    },
    {
      "cell_type": "code",
      "source": [
        "y_pred = pipe.predict(X_test)\n",
        "\n",
        "print(\"\\nLasso Results:\")\n",
        "evaluate_model(y_test, y_pred)"
      ],
      "metadata": {
        "colab": {
          "base_uri": "https://localhost:8080/"
        },
        "id": "BXlkLcQK0wfJ",
        "outputId": "e395abb0-742b-4cdc-9e01-87adf4a1eec1"
      },
      "execution_count": 105,
      "outputs": [
        {
          "output_type": "stream",
          "name": "stdout",
          "text": [
            "\n",
            "Lasso Results:\n",
            "R2 score: 0.6384794965127003\n",
            "MAE: 6599.323751578732\n",
            "MSE: 150776983.70136786\n",
            "RMSE: 12279.12796990763\n"
          ]
        }
      ]
    },
    {
      "cell_type": "code",
      "source": [
        "step1 = ColumnTransformer(transformers=[\n",
        "    ('col_tnf', OneHotEncoder(sparse=False, drop='first'), [2, 3])\n",
        "], remainder='passthrough')\n",
        "\n",
        "step2 = DecisionTreeRegressor(random_state=2)\n",
        "\n",
        "pipe = Pipeline([\n",
        "    ('step1', step1),\n",
        "    ('step2', step2)\n",
        "])\n",
        "\n",
        "pipe.fit(X_train, y_train)"
      ],
      "metadata": {
        "colab": {
          "base_uri": "https://localhost:8080/",
          "height": 247
        },
        "id": "DrkVtlJn3WJ5",
        "outputId": "c55259b3-07bc-46da-a14b-675f952400cf"
      },
      "execution_count": 106,
      "outputs": [
        {
          "output_type": "stream",
          "name": "stderr",
          "text": [
            "/usr/local/lib/python3.10/dist-packages/sklearn/preprocessing/_encoders.py:975: FutureWarning: `sparse` was renamed to `sparse_output` in version 1.2 and will be removed in 1.4. `sparse_output` is ignored unless you leave `sparse` to its default value.\n",
            "  warnings.warn(\n"
          ]
        },
        {
          "output_type": "execute_result",
          "data": {
            "text/plain": [
              "Pipeline(steps=[('step1',\n",
              "                 ColumnTransformer(remainder='passthrough',\n",
              "                                   transformers=[('col_tnf',\n",
              "                                                  OneHotEncoder(drop='first',\n",
              "                                                                sparse=False),\n",
              "                                                  [2, 3])])),\n",
              "                ('step2', DecisionTreeRegressor(random_state=2))])"
            ],
            "text/html": [
              "<style>#sk-container-id-12 {color: black;}#sk-container-id-12 pre{padding: 0;}#sk-container-id-12 div.sk-toggleable {background-color: white;}#sk-container-id-12 label.sk-toggleable__label {cursor: pointer;display: block;width: 100%;margin-bottom: 0;padding: 0.3em;box-sizing: border-box;text-align: center;}#sk-container-id-12 label.sk-toggleable__label-arrow:before {content: \"▸\";float: left;margin-right: 0.25em;color: #696969;}#sk-container-id-12 label.sk-toggleable__label-arrow:hover:before {color: black;}#sk-container-id-12 div.sk-estimator:hover label.sk-toggleable__label-arrow:before {color: black;}#sk-container-id-12 div.sk-toggleable__content {max-height: 0;max-width: 0;overflow: hidden;text-align: left;background-color: #f0f8ff;}#sk-container-id-12 div.sk-toggleable__content pre {margin: 0.2em;color: black;border-radius: 0.25em;background-color: #f0f8ff;}#sk-container-id-12 input.sk-toggleable__control:checked~div.sk-toggleable__content {max-height: 200px;max-width: 100%;overflow: auto;}#sk-container-id-12 input.sk-toggleable__control:checked~label.sk-toggleable__label-arrow:before {content: \"▾\";}#sk-container-id-12 div.sk-estimator input.sk-toggleable__control:checked~label.sk-toggleable__label {background-color: #d4ebff;}#sk-container-id-12 div.sk-label input.sk-toggleable__control:checked~label.sk-toggleable__label {background-color: #d4ebff;}#sk-container-id-12 input.sk-hidden--visually {border: 0;clip: rect(1px 1px 1px 1px);clip: rect(1px, 1px, 1px, 1px);height: 1px;margin: -1px;overflow: hidden;padding: 0;position: absolute;width: 1px;}#sk-container-id-12 div.sk-estimator {font-family: monospace;background-color: #f0f8ff;border: 1px dotted black;border-radius: 0.25em;box-sizing: border-box;margin-bottom: 0.5em;}#sk-container-id-12 div.sk-estimator:hover {background-color: #d4ebff;}#sk-container-id-12 div.sk-parallel-item::after {content: \"\";width: 100%;border-bottom: 1px solid gray;flex-grow: 1;}#sk-container-id-12 div.sk-label:hover label.sk-toggleable__label {background-color: #d4ebff;}#sk-container-id-12 div.sk-serial::before {content: \"\";position: absolute;border-left: 1px solid gray;box-sizing: border-box;top: 0;bottom: 0;left: 50%;z-index: 0;}#sk-container-id-12 div.sk-serial {display: flex;flex-direction: column;align-items: center;background-color: white;padding-right: 0.2em;padding-left: 0.2em;position: relative;}#sk-container-id-12 div.sk-item {position: relative;z-index: 1;}#sk-container-id-12 div.sk-parallel {display: flex;align-items: stretch;justify-content: center;background-color: white;position: relative;}#sk-container-id-12 div.sk-item::before, #sk-container-id-12 div.sk-parallel-item::before {content: \"\";position: absolute;border-left: 1px solid gray;box-sizing: border-box;top: 0;bottom: 0;left: 50%;z-index: -1;}#sk-container-id-12 div.sk-parallel-item {display: flex;flex-direction: column;z-index: 1;position: relative;background-color: white;}#sk-container-id-12 div.sk-parallel-item:first-child::after {align-self: flex-end;width: 50%;}#sk-container-id-12 div.sk-parallel-item:last-child::after {align-self: flex-start;width: 50%;}#sk-container-id-12 div.sk-parallel-item:only-child::after {width: 0;}#sk-container-id-12 div.sk-dashed-wrapped {border: 1px dashed gray;margin: 0 0.4em 0.5em 0.4em;box-sizing: border-box;padding-bottom: 0.4em;background-color: white;}#sk-container-id-12 div.sk-label label {font-family: monospace;font-weight: bold;display: inline-block;line-height: 1.2em;}#sk-container-id-12 div.sk-label-container {text-align: center;}#sk-container-id-12 div.sk-container {/* jupyter's `normalize.less` sets `[hidden] { display: none; }` but bootstrap.min.css set `[hidden] { display: none !important; }` so we also need the `!important` here to be able to override the default hidden behavior on the sphinx rendered scikit-learn.org. See: https://github.com/scikit-learn/scikit-learn/issues/21755 */display: inline-block !important;position: relative;}#sk-container-id-12 div.sk-text-repr-fallback {display: none;}</style><div id=\"sk-container-id-12\" class=\"sk-top-container\"><div class=\"sk-text-repr-fallback\"><pre>Pipeline(steps=[(&#x27;step1&#x27;,\n",
              "                 ColumnTransformer(remainder=&#x27;passthrough&#x27;,\n",
              "                                   transformers=[(&#x27;col_tnf&#x27;,\n",
              "                                                  OneHotEncoder(drop=&#x27;first&#x27;,\n",
              "                                                                sparse=False),\n",
              "                                                  [2, 3])])),\n",
              "                (&#x27;step2&#x27;, DecisionTreeRegressor(random_state=2))])</pre><b>In a Jupyter environment, please rerun this cell to show the HTML representation or trust the notebook. <br />On GitHub, the HTML representation is unable to render, please try loading this page with nbviewer.org.</b></div><div class=\"sk-container\" hidden><div class=\"sk-item sk-dashed-wrapped\"><div class=\"sk-label-container\"><div class=\"sk-label sk-toggleable\"><input class=\"sk-toggleable__control sk-hidden--visually\" id=\"sk-estimator-id-78\" type=\"checkbox\" ><label for=\"sk-estimator-id-78\" class=\"sk-toggleable__label sk-toggleable__label-arrow\">Pipeline</label><div class=\"sk-toggleable__content\"><pre>Pipeline(steps=[(&#x27;step1&#x27;,\n",
              "                 ColumnTransformer(remainder=&#x27;passthrough&#x27;,\n",
              "                                   transformers=[(&#x27;col_tnf&#x27;,\n",
              "                                                  OneHotEncoder(drop=&#x27;first&#x27;,\n",
              "                                                                sparse=False),\n",
              "                                                  [2, 3])])),\n",
              "                (&#x27;step2&#x27;, DecisionTreeRegressor(random_state=2))])</pre></div></div></div><div class=\"sk-serial\"><div class=\"sk-item sk-dashed-wrapped\"><div class=\"sk-label-container\"><div class=\"sk-label sk-toggleable\"><input class=\"sk-toggleable__control sk-hidden--visually\" id=\"sk-estimator-id-79\" type=\"checkbox\" ><label for=\"sk-estimator-id-79\" class=\"sk-toggleable__label sk-toggleable__label-arrow\">step1: ColumnTransformer</label><div class=\"sk-toggleable__content\"><pre>ColumnTransformer(remainder=&#x27;passthrough&#x27;,\n",
              "                  transformers=[(&#x27;col_tnf&#x27;,\n",
              "                                 OneHotEncoder(drop=&#x27;first&#x27;, sparse=False),\n",
              "                                 [2, 3])])</pre></div></div></div><div class=\"sk-parallel\"><div class=\"sk-parallel-item\"><div class=\"sk-item\"><div class=\"sk-label-container\"><div class=\"sk-label sk-toggleable\"><input class=\"sk-toggleable__control sk-hidden--visually\" id=\"sk-estimator-id-80\" type=\"checkbox\" ><label for=\"sk-estimator-id-80\" class=\"sk-toggleable__label sk-toggleable__label-arrow\">col_tnf</label><div class=\"sk-toggleable__content\"><pre>[2, 3]</pre></div></div></div><div class=\"sk-serial\"><div class=\"sk-item\"><div class=\"sk-estimator sk-toggleable\"><input class=\"sk-toggleable__control sk-hidden--visually\" id=\"sk-estimator-id-81\" type=\"checkbox\" ><label for=\"sk-estimator-id-81\" class=\"sk-toggleable__label sk-toggleable__label-arrow\">OneHotEncoder</label><div class=\"sk-toggleable__content\"><pre>OneHotEncoder(drop=&#x27;first&#x27;, sparse=False)</pre></div></div></div></div></div></div><div class=\"sk-parallel-item\"><div class=\"sk-item\"><div class=\"sk-label-container\"><div class=\"sk-label sk-toggleable\"><input class=\"sk-toggleable__control sk-hidden--visually\" id=\"sk-estimator-id-82\" type=\"checkbox\" ><label for=\"sk-estimator-id-82\" class=\"sk-toggleable__label sk-toggleable__label-arrow\">remainder</label><div class=\"sk-toggleable__content\"><pre>[&#x27;area&#x27;, &#x27;location&#x27;]</pre></div></div></div><div class=\"sk-serial\"><div class=\"sk-item\"><div class=\"sk-estimator sk-toggleable\"><input class=\"sk-toggleable__control sk-hidden--visually\" id=\"sk-estimator-id-83\" type=\"checkbox\" ><label for=\"sk-estimator-id-83\" class=\"sk-toggleable__label sk-toggleable__label-arrow\">passthrough</label><div class=\"sk-toggleable__content\"><pre>passthrough</pre></div></div></div></div></div></div></div></div><div class=\"sk-item\"><div class=\"sk-estimator sk-toggleable\"><input class=\"sk-toggleable__control sk-hidden--visually\" id=\"sk-estimator-id-84\" type=\"checkbox\" ><label for=\"sk-estimator-id-84\" class=\"sk-toggleable__label sk-toggleable__label-arrow\">DecisionTreeRegressor</label><div class=\"sk-toggleable__content\"><pre>DecisionTreeRegressor(random_state=2)</pre></div></div></div></div></div></div></div>"
            ]
          },
          "metadata": {},
          "execution_count": 106
        }
      ]
    },
    {
      "cell_type": "code",
      "source": [
        "y_pred = pipe.predict(X_test)\n",
        "\n",
        "print(\"Decision Tree Results:\")\n",
        "evaluate_model(y_test, y_pred)"
      ],
      "metadata": {
        "colab": {
          "base_uri": "https://localhost:8080/"
        },
        "id": "CJOEm4GHDAp-",
        "outputId": "964057f3-ec8c-4f96-a3a2-7b056254bed2"
      },
      "execution_count": 107,
      "outputs": [
        {
          "output_type": "stream",
          "name": "stdout",
          "text": [
            "Decision Tree Results:\n",
            "R2 score: 0.41454622934309593\n",
            "MAE: 5085.734817999627\n",
            "MSE: 244171361.7477893\n",
            "RMSE: 15625.983544973715\n"
          ]
        }
      ]
    },
    {
      "cell_type": "code",
      "source": [
        "step2 = RandomForestRegressor(n_estimators=100, random_state=10)\n",
        "\n",
        "pipe = Pipeline([\n",
        "    ('step1', step1),\n",
        "    ('step2', step2)\n",
        "])\n",
        "\n",
        "pipe.fit(X_train, y_train)"
      ],
      "metadata": {
        "colab": {
          "base_uri": "https://localhost:8080/",
          "height": 247
        },
        "id": "HHUFQeuv3Yrf",
        "outputId": "c955ad1f-73d4-4dae-b91c-a1127aa41962"
      },
      "execution_count": 108,
      "outputs": [
        {
          "output_type": "stream",
          "name": "stderr",
          "text": [
            "/usr/local/lib/python3.10/dist-packages/sklearn/preprocessing/_encoders.py:975: FutureWarning: `sparse` was renamed to `sparse_output` in version 1.2 and will be removed in 1.4. `sparse_output` is ignored unless you leave `sparse` to its default value.\n",
            "  warnings.warn(\n"
          ]
        },
        {
          "output_type": "execute_result",
          "data": {
            "text/plain": [
              "Pipeline(steps=[('step1',\n",
              "                 ColumnTransformer(remainder='passthrough',\n",
              "                                   transformers=[('col_tnf',\n",
              "                                                  OneHotEncoder(drop='first',\n",
              "                                                                sparse=False),\n",
              "                                                  [2, 3])])),\n",
              "                ('step2', RandomForestRegressor(random_state=10))])"
            ],
            "text/html": [
              "<style>#sk-container-id-13 {color: black;}#sk-container-id-13 pre{padding: 0;}#sk-container-id-13 div.sk-toggleable {background-color: white;}#sk-container-id-13 label.sk-toggleable__label {cursor: pointer;display: block;width: 100%;margin-bottom: 0;padding: 0.3em;box-sizing: border-box;text-align: center;}#sk-container-id-13 label.sk-toggleable__label-arrow:before {content: \"▸\";float: left;margin-right: 0.25em;color: #696969;}#sk-container-id-13 label.sk-toggleable__label-arrow:hover:before {color: black;}#sk-container-id-13 div.sk-estimator:hover label.sk-toggleable__label-arrow:before {color: black;}#sk-container-id-13 div.sk-toggleable__content {max-height: 0;max-width: 0;overflow: hidden;text-align: left;background-color: #f0f8ff;}#sk-container-id-13 div.sk-toggleable__content pre {margin: 0.2em;color: black;border-radius: 0.25em;background-color: #f0f8ff;}#sk-container-id-13 input.sk-toggleable__control:checked~div.sk-toggleable__content {max-height: 200px;max-width: 100%;overflow: auto;}#sk-container-id-13 input.sk-toggleable__control:checked~label.sk-toggleable__label-arrow:before {content: \"▾\";}#sk-container-id-13 div.sk-estimator input.sk-toggleable__control:checked~label.sk-toggleable__label {background-color: #d4ebff;}#sk-container-id-13 div.sk-label input.sk-toggleable__control:checked~label.sk-toggleable__label {background-color: #d4ebff;}#sk-container-id-13 input.sk-hidden--visually {border: 0;clip: rect(1px 1px 1px 1px);clip: rect(1px, 1px, 1px, 1px);height: 1px;margin: -1px;overflow: hidden;padding: 0;position: absolute;width: 1px;}#sk-container-id-13 div.sk-estimator {font-family: monospace;background-color: #f0f8ff;border: 1px dotted black;border-radius: 0.25em;box-sizing: border-box;margin-bottom: 0.5em;}#sk-container-id-13 div.sk-estimator:hover {background-color: #d4ebff;}#sk-container-id-13 div.sk-parallel-item::after {content: \"\";width: 100%;border-bottom: 1px solid gray;flex-grow: 1;}#sk-container-id-13 div.sk-label:hover label.sk-toggleable__label {background-color: #d4ebff;}#sk-container-id-13 div.sk-serial::before {content: \"\";position: absolute;border-left: 1px solid gray;box-sizing: border-box;top: 0;bottom: 0;left: 50%;z-index: 0;}#sk-container-id-13 div.sk-serial {display: flex;flex-direction: column;align-items: center;background-color: white;padding-right: 0.2em;padding-left: 0.2em;position: relative;}#sk-container-id-13 div.sk-item {position: relative;z-index: 1;}#sk-container-id-13 div.sk-parallel {display: flex;align-items: stretch;justify-content: center;background-color: white;position: relative;}#sk-container-id-13 div.sk-item::before, #sk-container-id-13 div.sk-parallel-item::before {content: \"\";position: absolute;border-left: 1px solid gray;box-sizing: border-box;top: 0;bottom: 0;left: 50%;z-index: -1;}#sk-container-id-13 div.sk-parallel-item {display: flex;flex-direction: column;z-index: 1;position: relative;background-color: white;}#sk-container-id-13 div.sk-parallel-item:first-child::after {align-self: flex-end;width: 50%;}#sk-container-id-13 div.sk-parallel-item:last-child::after {align-self: flex-start;width: 50%;}#sk-container-id-13 div.sk-parallel-item:only-child::after {width: 0;}#sk-container-id-13 div.sk-dashed-wrapped {border: 1px dashed gray;margin: 0 0.4em 0.5em 0.4em;box-sizing: border-box;padding-bottom: 0.4em;background-color: white;}#sk-container-id-13 div.sk-label label {font-family: monospace;font-weight: bold;display: inline-block;line-height: 1.2em;}#sk-container-id-13 div.sk-label-container {text-align: center;}#sk-container-id-13 div.sk-container {/* jupyter's `normalize.less` sets `[hidden] { display: none; }` but bootstrap.min.css set `[hidden] { display: none !important; }` so we also need the `!important` here to be able to override the default hidden behavior on the sphinx rendered scikit-learn.org. See: https://github.com/scikit-learn/scikit-learn/issues/21755 */display: inline-block !important;position: relative;}#sk-container-id-13 div.sk-text-repr-fallback {display: none;}</style><div id=\"sk-container-id-13\" class=\"sk-top-container\"><div class=\"sk-text-repr-fallback\"><pre>Pipeline(steps=[(&#x27;step1&#x27;,\n",
              "                 ColumnTransformer(remainder=&#x27;passthrough&#x27;,\n",
              "                                   transformers=[(&#x27;col_tnf&#x27;,\n",
              "                                                  OneHotEncoder(drop=&#x27;first&#x27;,\n",
              "                                                                sparse=False),\n",
              "                                                  [2, 3])])),\n",
              "                (&#x27;step2&#x27;, RandomForestRegressor(random_state=10))])</pre><b>In a Jupyter environment, please rerun this cell to show the HTML representation or trust the notebook. <br />On GitHub, the HTML representation is unable to render, please try loading this page with nbviewer.org.</b></div><div class=\"sk-container\" hidden><div class=\"sk-item sk-dashed-wrapped\"><div class=\"sk-label-container\"><div class=\"sk-label sk-toggleable\"><input class=\"sk-toggleable__control sk-hidden--visually\" id=\"sk-estimator-id-85\" type=\"checkbox\" ><label for=\"sk-estimator-id-85\" class=\"sk-toggleable__label sk-toggleable__label-arrow\">Pipeline</label><div class=\"sk-toggleable__content\"><pre>Pipeline(steps=[(&#x27;step1&#x27;,\n",
              "                 ColumnTransformer(remainder=&#x27;passthrough&#x27;,\n",
              "                                   transformers=[(&#x27;col_tnf&#x27;,\n",
              "                                                  OneHotEncoder(drop=&#x27;first&#x27;,\n",
              "                                                                sparse=False),\n",
              "                                                  [2, 3])])),\n",
              "                (&#x27;step2&#x27;, RandomForestRegressor(random_state=10))])</pre></div></div></div><div class=\"sk-serial\"><div class=\"sk-item sk-dashed-wrapped\"><div class=\"sk-label-container\"><div class=\"sk-label sk-toggleable\"><input class=\"sk-toggleable__control sk-hidden--visually\" id=\"sk-estimator-id-86\" type=\"checkbox\" ><label for=\"sk-estimator-id-86\" class=\"sk-toggleable__label sk-toggleable__label-arrow\">step1: ColumnTransformer</label><div class=\"sk-toggleable__content\"><pre>ColumnTransformer(remainder=&#x27;passthrough&#x27;,\n",
              "                  transformers=[(&#x27;col_tnf&#x27;,\n",
              "                                 OneHotEncoder(drop=&#x27;first&#x27;, sparse=False),\n",
              "                                 [2, 3])])</pre></div></div></div><div class=\"sk-parallel\"><div class=\"sk-parallel-item\"><div class=\"sk-item\"><div class=\"sk-label-container\"><div class=\"sk-label sk-toggleable\"><input class=\"sk-toggleable__control sk-hidden--visually\" id=\"sk-estimator-id-87\" type=\"checkbox\" ><label for=\"sk-estimator-id-87\" class=\"sk-toggleable__label sk-toggleable__label-arrow\">col_tnf</label><div class=\"sk-toggleable__content\"><pre>[2, 3]</pre></div></div></div><div class=\"sk-serial\"><div class=\"sk-item\"><div class=\"sk-estimator sk-toggleable\"><input class=\"sk-toggleable__control sk-hidden--visually\" id=\"sk-estimator-id-88\" type=\"checkbox\" ><label for=\"sk-estimator-id-88\" class=\"sk-toggleable__label sk-toggleable__label-arrow\">OneHotEncoder</label><div class=\"sk-toggleable__content\"><pre>OneHotEncoder(drop=&#x27;first&#x27;, sparse=False)</pre></div></div></div></div></div></div><div class=\"sk-parallel-item\"><div class=\"sk-item\"><div class=\"sk-label-container\"><div class=\"sk-label sk-toggleable\"><input class=\"sk-toggleable__control sk-hidden--visually\" id=\"sk-estimator-id-89\" type=\"checkbox\" ><label for=\"sk-estimator-id-89\" class=\"sk-toggleable__label sk-toggleable__label-arrow\">remainder</label><div class=\"sk-toggleable__content\"><pre>[&#x27;area&#x27;, &#x27;location&#x27;]</pre></div></div></div><div class=\"sk-serial\"><div class=\"sk-item\"><div class=\"sk-estimator sk-toggleable\"><input class=\"sk-toggleable__control sk-hidden--visually\" id=\"sk-estimator-id-90\" type=\"checkbox\" ><label for=\"sk-estimator-id-90\" class=\"sk-toggleable__label sk-toggleable__label-arrow\">passthrough</label><div class=\"sk-toggleable__content\"><pre>passthrough</pre></div></div></div></div></div></div></div></div><div class=\"sk-item\"><div class=\"sk-estimator sk-toggleable\"><input class=\"sk-toggleable__control sk-hidden--visually\" id=\"sk-estimator-id-91\" type=\"checkbox\" ><label for=\"sk-estimator-id-91\" class=\"sk-toggleable__label sk-toggleable__label-arrow\">RandomForestRegressor</label><div class=\"sk-toggleable__content\"><pre>RandomForestRegressor(random_state=10)</pre></div></div></div></div></div></div></div>"
            ]
          },
          "metadata": {},
          "execution_count": 108
        }
      ]
    },
    {
      "cell_type": "code",
      "source": [
        "y_pred = pipe.predict(X_test)\n",
        "\n",
        "print(\"\\nRandom Forest Results:\")\n",
        "evaluate_model(y_test, y_pred)"
      ],
      "metadata": {
        "colab": {
          "base_uri": "https://localhost:8080/"
        },
        "id": "EGB3XgouC7Uv",
        "outputId": "a6dfde87-f37a-4e28-8a8a-b9029a8336a4"
      },
      "execution_count": 109,
      "outputs": [
        {
          "output_type": "stream",
          "name": "stdout",
          "text": [
            "\n",
            "Random Forest Results:\n",
            "R2 score: 0.61959716249395\n",
            "MAE: 4680.721098192639\n",
            "MSE: 158652114.82429436\n",
            "RMSE: 12595.718114672714\n"
          ]
        }
      ]
    }
  ]
}